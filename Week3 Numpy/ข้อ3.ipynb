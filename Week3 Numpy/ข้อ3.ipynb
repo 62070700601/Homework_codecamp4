{
 "cells": [
  {
   "cell_type": "markdown",
   "metadata": {},
   "source": [
    "# Quiz3"
   ]
  },
  {
   "cell_type": "code",
   "execution_count": 26,
   "metadata": {},
   "outputs": [
    {
     "name": "stdout",
     "output_type": "stream",
     "text": [
      "[41.15968695 97.55146306 54.35628323 23.1800452  10.33542698 78.10131881\n",
      " 21.39166703 26.69586258 69.99090868 12.97785157 69.82210798 20.26715232\n",
      " 12.10299201 81.43247742 52.74553777 67.06450657 23.55719059 31.25088519\n",
      " 46.24034851 25.09601742]\n"
     ]
    },
    {
     "data": {
      "text/plain": [
       "array([1694.11982955, 9516.28794445, 2954.60552673,  537.31449538,\n",
       "        106.82105086, 6099.81600018,  457.60341818,  712.6690791 ,\n",
       "       4898.72729854,  168.42463132, 4875.12676301,  410.75746333,\n",
       "        146.48241566, 6631.24837863, 2782.09175451, 4497.64804119,\n",
       "        554.94122829,  976.61782545, 2138.16983048,  629.81009048])"
      ]
     },
     "execution_count": 26,
     "metadata": {},
     "output_type": "execute_result"
    }
   ],
   "source": [
    "import numpy\n",
    "a = numpy.random.uniform(10, 99, 20)\n",
    "print(a)\n",
    "b = a**2\n",
    "b"
   ]
  }
 ],
 "metadata": {
  "kernelspec": {
   "display_name": "Python 3",
   "language": "python",
   "name": "python3"
  },
  "language_info": {
   "codemirror_mode": {
    "name": "ipython",
    "version": 3
   },
   "file_extension": ".py",
   "mimetype": "text/x-python",
   "name": "python",
   "nbconvert_exporter": "python",
   "pygments_lexer": "ipython3",
   "version": "3.8.3"
  }
 },
 "nbformat": 4,
 "nbformat_minor": 4
}
