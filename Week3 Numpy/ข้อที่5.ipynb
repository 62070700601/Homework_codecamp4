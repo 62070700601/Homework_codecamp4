{
 "cells": [
  {
   "cell_type": "markdown",
   "metadata": {},
   "source": [
    "# Quiz 5"
   ]
  },
  {
   "cell_type": "code",
   "execution_count": 22,
   "metadata": {},
   "outputs": [
    {
     "name": "stdout",
     "output_type": "stream",
     "text": [
      "[61.21026694 85.75387866 90.25166804 50.52876112 17.27929498 75.35748536\n",
      " 53.49122825 83.71759815 92.44530869 81.46880668 92.1294734  31.10257842\n",
      " 88.58744271 32.02770068 23.16969002 92.20539855 75.88341204 87.13049302\n",
      " 71.11558755 58.57541135]\n",
      "เวลาที่ต่าง 0.0\n",
      "เวลาที่ต่างของ list compehinsion 0.0\n"
     ]
    }
   ],
   "source": [
    "import numpy\n",
    "import time\n",
    "time1 = time.time()\n",
    "a = numpy.random.uniform(10, 99, 20)\n",
    "print(a)\n",
    "b = a**2\n",
    "b\n",
    "time2 = time.time()\n",
    "finaltime = time2-time1\n",
    "print('เวลาที่ต่าง',finaltime**1000)\n",
    "\n",
    "time3= time.time()\n",
    "b = [i**2 for i in numpy.random.uniform(10, 99, 20)]\n",
    "b\n",
    "time4 = time.time()\n",
    "finaltime2 = time4-time3\n",
    "print('เวลาที่ต่างของ list compehinsion',finaltime*1000)\n"
   ]
  },
  {
   "cell_type": "code",
   "execution_count": null,
   "metadata": {},
   "outputs": [],
   "source": []
  }
 ],
 "metadata": {
  "kernelspec": {
   "display_name": "Python 3",
   "language": "python",
   "name": "python3"
  },
  "language_info": {
   "codemirror_mode": {
    "name": "ipython",
    "version": 3
   },
   "file_extension": ".py",
   "mimetype": "text/x-python",
   "name": "python",
   "nbconvert_exporter": "python",
   "pygments_lexer": "ipython3",
   "version": "3.8.3"
  }
 },
 "nbformat": 4,
 "nbformat_minor": 4
}
