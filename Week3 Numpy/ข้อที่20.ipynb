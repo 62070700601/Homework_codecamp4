{
 "cells": [
  {
   "cell_type": "code",
   "execution_count": 30,
   "metadata": {},
   "outputs": [
    {
     "name": "stdout",
     "output_type": "stream",
     "text": [
      "Enter number at location 0 :\n",
      "11\n",
      "Enter number at location 1 :\n",
      "12\n",
      "Enter number at location 2 :\n",
      "13\n",
      "Enter number at location 3 :\n",
      "14\n",
      "Enter number at location 4 :\n",
      "15\n",
      "Enter number at location 5 :\n",
      "16\n",
      "Enter number at location 6 :\n",
      "17\n",
      "Enter number at location 7 :\n",
      "18\n",
      "Enter number at location 8 :\n",
      "19\n",
      "User List is  [11, 12, 13, 14, 15, 16, 17, 18, 19]\n",
      "Array reshape 3*3 is [[11 12 13]\n",
      " [14 15 16]\n",
      " [17 18 19]]\n",
      "Result is \n",
      " [[11 14 17]\n",
      " [12 15 18]\n",
      " [13 16 19]]\n"
     ]
    }
   ],
   "source": [
    "import numpy as np\n",
    "numberList = []\n",
    "for i in range(9): \n",
    "    print(\"Enter number at location\", i, \":\")\n",
    "    item = int(input())\n",
    "    while item < 10 or item >100 or item in numberList: \n",
    "        item = int(input())\n",
    "    numberList.append(item)\n",
    "print(\"User List is \", numberList)\n",
    "arr = np.array(numberList)\n",
    "arr2 =arr.reshape(3,3)\n",
    "print(\"Array reshape 3*3 is \\n\",arr2)\n",
    "Transapose = arr2.T\n",
    "print(\"Result is \\n\",c)"
   ]
  },
  {
   "cell_type": "markdown",
   "metadata": {},
   "source": [
    "## "
   ]
  }
 ],
 "metadata": {
  "kernelspec": {
   "display_name": "Python 3",
   "language": "python",
   "name": "python3"
  },
  "language_info": {
   "codemirror_mode": {
    "name": "ipython",
    "version": 3
   },
   "file_extension": ".py",
   "mimetype": "text/x-python",
   "name": "python",
   "nbconvert_exporter": "python",
   "pygments_lexer": "ipython3",
   "version": "3.8.3"
  }
 },
 "nbformat": 4,
 "nbformat_minor": 4
}
