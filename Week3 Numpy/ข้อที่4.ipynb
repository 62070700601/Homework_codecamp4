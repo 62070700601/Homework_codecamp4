{
 "cells": [
  {
   "cell_type": "code",
   "execution_count": 9,
   "metadata": {},
   "outputs": [
    {
     "data": {
      "text/plain": [
       "[6227.175190533805,\n",
       " 2043.0527936995306,\n",
       " 2854.646750739518,\n",
       " 2311.198456021377,\n",
       " 5806.755244191835,\n",
       " 194.38213176454013,\n",
       " 8175.791437833112,\n",
       " 1047.4476212092493,\n",
       " 2182.0418757821203,\n",
       " 6718.991750709754,\n",
       " 170.74439149783376,\n",
       " 115.45390414414538,\n",
       " 199.78247891317696,\n",
       " 7276.778164971196,\n",
       " 6812.397552567004,\n",
       " 6145.634289361484,\n",
       " 741.5265279234505,\n",
       " 2985.483648141142,\n",
       " 2134.8902261856415,\n",
       " 301.43018288973445]"
      ]
     },
     "execution_count": 9,
     "metadata": {},
     "output_type": "execute_result"
    }
   ],
   "source": [
    "import numpy\n",
    "b = [i**2 for i in numpy.random.uniform(10, 99, 20)]\n",
    "b"
   ]
  },
  {
   "cell_type": "code",
   "execution_count": null,
   "metadata": {},
   "outputs": [],
   "source": []
  }
 ],
 "metadata": {
  "kernelspec": {
   "display_name": "Python 3",
   "language": "python",
   "name": "python3"
  },
  "language_info": {
   "codemirror_mode": {
    "name": "ipython",
    "version": 3
   },
   "file_extension": ".py",
   "mimetype": "text/x-python",
   "name": "python",
   "nbconvert_exporter": "python",
   "pygments_lexer": "ipython3",
   "version": "3.8.3"
  }
 },
 "nbformat": 4,
 "nbformat_minor": 4
}
