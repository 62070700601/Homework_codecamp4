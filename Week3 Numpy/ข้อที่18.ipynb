{
 "cells": [
  {
   "cell_type": "markdown",
   "metadata": {},
   "source": [
    "# Quiz 18"
   ]
  },
  {
   "cell_type": "code",
   "execution_count": 50,
   "metadata": {},
   "outputs": [
    {
     "name": "stdout",
     "output_type": "stream",
     "text": [
      "[[12 16 52 90 33]\n",
      " [96 28 57 39 64]\n",
      " [45 23 67 64 62]\n",
      " [12 28 30 94 29]\n",
      " [47 12 43 56 13]]\n",
      "[12 16 52 90 33 96 28 57 39 64 45 23 67 64 62 12 28 30 94 29 47 12 43 56\n",
      " 13]\n",
      "Answer is\n",
      "[[ 0  0 52 90  0]\n",
      " [96  0 57  0 64]\n",
      " [ 0  0 67 64 62]\n",
      " [ 0  0  0 94  0]\n",
      " [ 0  0  0 56  0]]\n"
     ]
    }
   ],
   "source": [
    "import numpy as np\n",
    "a = np.random.randint(10,101,(5,5))\n",
    "print(a)\n",
    "\n",
    "b = a.reshape((25))\n",
    "print(b)\n",
    "\n",
    "c = []\n",
    "for i in b:\n",
    "    if i>50:\n",
    "        c.append(i)\n",
    "    else:\n",
    "        c.append(0)\n",
    "d = np.array(c)\n",
    "print('Answer is')\n",
    "print(d.reshape(5,5))\n",
    "\n",
    "\n"
   ]
  }
 ],
 "metadata": {
  "kernelspec": {
   "display_name": "Python 3",
   "language": "python",
   "name": "python3"
  },
  "language_info": {
   "codemirror_mode": {
    "name": "ipython",
    "version": 3
   },
   "file_extension": ".py",
   "mimetype": "text/x-python",
   "name": "python",
   "nbconvert_exporter": "python",
   "pygments_lexer": "ipython3",
   "version": "3.8.3"
  }
 },
 "nbformat": 4,
 "nbformat_minor": 4
}
