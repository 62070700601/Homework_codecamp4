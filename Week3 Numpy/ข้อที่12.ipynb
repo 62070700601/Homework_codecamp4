{
 "cells": [
  {
   "cell_type": "markdown",
   "metadata": {},
   "source": [
    "# Quiz 12"
   ]
  },
  {
   "cell_type": "code",
   "execution_count": 10,
   "metadata": {},
   "outputs": [
    {
     "name": "stdout",
     "output_type": "stream",
     "text": [
      "[[90 53 78 79]\n",
      " [97 88 80 74]\n",
      " [94 75 95 55]\n",
      " [74 60 68 52]]\n"
     ]
    },
    {
     "data": {
      "text/plain": [
       "array([[90, 97, 94, 74],\n",
       "       [53, 88, 75, 60],\n",
       "       [78, 80, 95, 68],\n",
       "       [79, 74, 55, 52]])"
      ]
     },
     "execution_count": 10,
     "metadata": {},
     "output_type": "execute_result"
    }
   ],
   "source": [
    "import numpy as np\n",
    "x = np.random.randint(50,100,(4,4))\n",
    "print(x)\n",
    "y = x\n",
    "y.T"
   ]
  }
 ],
 "metadata": {
  "kernelspec": {
   "display_name": "Python 3",
   "language": "python",
   "name": "python3"
  },
  "language_info": {
   "codemirror_mode": {
    "name": "ipython",
    "version": 3
   },
   "file_extension": ".py",
   "mimetype": "text/x-python",
   "name": "python",
   "nbconvert_exporter": "python",
   "pygments_lexer": "ipython3",
   "version": "3.8.3"
  }
 },
 "nbformat": 4,
 "nbformat_minor": 4
}
