{
 "cells": [
  {
   "cell_type": "markdown",
   "metadata": {},
   "source": [
    "## Quiz 4\n"
   ]
  },
  {
   "cell_type": "markdown",
   "metadata": {},
   "source": [
    "# ข้อที่ 1"
   ]
  },
  {
   "cell_type": "code",
   "execution_count": 1,
   "metadata": {},
   "outputs": [
    {
     "data": {
      "text/plain": [
       "'ได้ค่า 6'"
      ]
     },
     "execution_count": 1,
     "metadata": {},
     "output_type": "execute_result"
    }
   ],
   "source": [
    "\"ได้ค่า 6\""
   ]
  },
  {
   "cell_type": "markdown",
   "metadata": {},
   "source": [
    "## ข้อที่ 2"
   ]
  },
  {
   "cell_type": "code",
   "execution_count": 17,
   "metadata": {},
   "outputs": [
    {
     "name": "stdout",
     "output_type": "stream",
     "text": [
      "[['Khettawan', 'Maliyaem', '23'], ['Kannaphat', 'Chaiwiwatthanapipat', '23'], ['Intummade', 'Maliyaem', '23'], ['Somchai', 'naja', '23']]\n"
     ]
    }
   ],
   "source": [
    "name1 = ['Khettawan','Maliyaem','23']\n",
    "name2 = ['Kannaphat','Chaiwiwatthanapipat','23']\n",
    "name3 = ['Intummade','Maliyaem','23']\n",
    "name4 = ['Somchai','naja','23']\n",
    "name_all =  [name1,name2,name3,name4]\n",
    "print(name_all)"
   ]
  },
  {
   "cell_type": "markdown",
   "metadata": {},
   "source": [
    "## ข้อที่ 3"
   ]
  },
  {
   "cell_type": "code",
   "execution_count": 18,
   "metadata": {},
   "outputs": [
    {
     "name": "stdout",
     "output_type": "stream",
     "text": [
      "[['Khettawan', 'Maliyaem', '23'], ['Kannaphat', 'Chaiwiwatthanapipat', '23'], ['Intummade', 'Maliyaem', '23']]\n"
     ]
    }
   ],
   "source": [
    "name1 = ['Khettawan','Maliyaem','23']\n",
    "name2 = ['Kannaphat','Chaiwiwatthanapipat','23']\n",
    "name3 = ['Intummade','Maliyaem','23']\n",
    "name4 = ['Somchai','naja','23']\n",
    "name_all =  [name1,name2,name3,name4]\n",
    "del name_all[3]\n",
    "print(name_all)"
   ]
  },
  {
   "cell_type": "markdown",
   "metadata": {},
   "source": [
    "## ข้อที่ 4"
   ]
  },
  {
   "cell_type": "code",
   "execution_count": 16,
   "metadata": {},
   "outputs": [
    {
     "name": "stdout",
     "output_type": "stream",
     "text": [
      "[['Luis', 'Suraez', '23'], ['Khettawan', 'Maliyaem', '23'], ['Kannaphat', 'Chaiwiwatthanapipat', '23'], ['Intummade', 'Maliyaem', '23'], ['Somchai', 'naja', '23']]\n"
     ]
    }
   ],
   "source": [
    "name1 = ['Khettawan','Maliyaem','23']\n",
    "name2 = ['Kannaphat','Chaiwiwatthanapipat','23']\n",
    "name3 = ['Intummade','Maliyaem','23']\n",
    "name4 = ['Somchai','naja','23']\n",
    "name_all =  [name1,name2,name3,name4]\n",
    "name_all.insert(0,['Luis','Suraez','23'])\n",
    "print(name_all)"
   ]
  },
  {
   "cell_type": "markdown",
   "metadata": {},
   "source": [
    "## ข้อที่ 5"
   ]
  },
  {
   "cell_type": "code",
   "execution_count": 23,
   "metadata": {},
   "outputs": [
    {
     "name": "stdout",
     "output_type": "stream",
     "text": [
      "34\n"
     ]
    }
   ],
   "source": [
    "name1 = ['Khettawan','Maliyaem',23]\n",
    "name2 = ['Kannaphat','Chaiwiwatthanapipat',23]\n",
    "name3 = ['Intummade','Maliyaem',23]\n",
    "name4 = ['Somchai','naja',23]\n",
    "name_all =  [name1,name2,name3,name4]\n",
    "name_all.insert(0,['Luis','Suraez',23])\n",
    "new = name2[2]+11\n",
    "print(new)\n",
    "\n",
    "#เป็นอายุแทนนะคับ"
   ]
  },
  {
   "cell_type": "code",
   "execution_count": null,
   "metadata": {},
   "outputs": [],
   "source": []
  }
 ],
 "metadata": {
  "kernelspec": {
   "display_name": "Python 3",
   "language": "python",
   "name": "python3"
  },
  "language_info": {
   "codemirror_mode": {
    "name": "ipython",
    "version": 3
   },
   "file_extension": ".py",
   "mimetype": "text/x-python",
   "name": "python",
   "nbconvert_exporter": "python",
   "pygments_lexer": "ipython3",
   "version": "3.8.3"
  }
 },
 "nbformat": 4,
 "nbformat_minor": 4
}
