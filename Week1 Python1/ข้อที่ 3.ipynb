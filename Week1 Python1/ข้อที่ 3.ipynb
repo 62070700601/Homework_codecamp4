{
 "cells": [
  {
   "cell_type": "markdown",
   "metadata": {},
   "source": [
    "   # Quiz 3"
   ]
  },
  {
   "cell_type": "code",
   "execution_count": 15,
   "metadata": {},
   "outputs": [
    {
     "name": "stdout",
     "output_type": "stream",
     "text": [
      "['Khettawan', 'Maliyaem', '24']\n"
     ]
    }
   ],
   "source": [
    "Info = ['Khettawan','Maliyaem','24']\n",
    "print(Info)"
   ]
  },
  {
   "cell_type": "code",
   "execution_count": 13,
   "metadata": {},
   "outputs": [
    {
     "name": "stdout",
     "output_type": "stream",
     "text": [
      "['Khettawan', 'Maliyaem']\n"
     ]
    }
   ],
   "source": [
    "Info = ['Khettawan','Maliyaem','24']\n",
    "del Info[2]\n",
    "print(Info)"
   ]
  },
  {
   "cell_type": "code",
   "execution_count": 20,
   "metadata": {},
   "outputs": [
    {
     "name": "stdout",
     "output_type": "stream",
     "text": [
      "[14, 'Khettawan', 'Maliyaem', 24]\n"
     ]
    }
   ],
   "source": [
    "Info = ['Khettawan','Maliyaem',24]\n",
    "Info.insert(0,14)\n",
    "print(Info)"
   ]
  },
  {
   "cell_type": "code",
   "execution_count": 28,
   "metadata": {},
   "outputs": [
    {
     "name": "stdout",
     "output_type": "stream",
     "text": [
      "['Khettawan', 'Maliyaem', 24, 165, 54]\n"
     ]
    }
   ],
   "source": [
    "Info = ['Khettawan','Maliyaem',24]\n",
    "Info.append(165)\n",
    "Info.append(54)\n",
    "print(Info)"
   ]
  },
  {
   "cell_type": "code",
   "execution_count": 29,
   "metadata": {},
   "outputs": [
    {
     "name": "stdout",
     "output_type": "stream",
     "text": [
      "[24, 165, 54]\n"
     ]
    }
   ],
   "source": [
    "Info = ['Khettawan','Maliyaem',24]\n",
    "Info.append(165)\n",
    "Info.append(54)\n",
    "print(Info[2:])"
   ]
  }
 ],
 "metadata": {
  "kernelspec": {
   "display_name": "Python 3",
   "language": "python",
   "name": "python3"
  },
  "language_info": {
   "codemirror_mode": {
    "name": "ipython",
    "version": 3
   },
   "file_extension": ".py",
   "mimetype": "text/x-python",
   "name": "python",
   "nbconvert_exporter": "python",
   "pygments_lexer": "ipython3",
   "version": "3.8.3"
  }
 },
 "nbformat": 4,
 "nbformat_minor": 4
}
