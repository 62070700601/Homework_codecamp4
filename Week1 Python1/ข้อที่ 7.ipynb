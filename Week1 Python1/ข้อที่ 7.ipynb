{
 "cells": [
  {
   "cell_type": "markdown",
   "metadata": {},
   "source": [
    "## Quiz 7"
   ]
  },
  {
   "cell_type": "code",
   "execution_count": 10,
   "metadata": {},
   "outputs": [
    {
     "name": "stdout",
     "output_type": "stream",
     "text": [
      "B\n"
     ]
    }
   ],
   "source": [
    "def grade(x):\n",
    "    if (x>80):\n",
    "        return 'A'\n",
    "    elif (x>70):\n",
    "        return 'B'\n",
    "    elif (x>60):\n",
    "        return 'C'\n",
    "    elif (x>=50):\n",
    "        return 'D'\n",
    "    elif(x<50):\n",
    "        return 'F'\n",
    "print(grade(75))"
   ]
  }
 ],
 "metadata": {
  "kernelspec": {
   "display_name": "Python 3",
   "language": "python",
   "name": "python3"
  },
  "language_info": {
   "codemirror_mode": {
    "name": "ipython",
    "version": 3
   },
   "file_extension": ".py",
   "mimetype": "text/x-python",
   "name": "python",
   "nbconvert_exporter": "python",
   "pygments_lexer": "ipython3",
   "version": "3.8.3"
  }
 },
 "nbformat": 4,
 "nbformat_minor": 4
}
