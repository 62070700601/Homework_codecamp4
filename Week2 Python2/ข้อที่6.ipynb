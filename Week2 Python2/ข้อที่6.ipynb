{
 "cells": [
  {
   "cell_type": "markdown",
   "metadata": {},
   "source": [
    "# Quiz 6"
   ]
  },
  {
   "cell_type": "code",
   "execution_count": 3,
   "metadata": {},
   "outputs": [
    {
     "name": "stdout",
     "output_type": "stream",
     "text": [
      "please enter value a: 5\n",
      "please enter value b: 19\n",
      "please enter value c: 2\n",
      "5 19 2 เป็นสามเหลี่ยมมุมแหลม\n"
     ]
    }
   ],
   "source": [
    "a = int(input('please enter value a: '))\n",
    "b = int(input('please enter value b: '))\n",
    "c = int(input('please enter value c: '))\n",
    "if a**2 + b**2 > c**2:\n",
    "    print(a,b,c,'เป็นสามเหลี่ยมมุมแหลม')\n",
    "elif a**2 + b**2 < c**2:\n",
    "     print(a,b,c,'เป็นสามเหลี่ยมป้าน')\n",
    "elif a**2 + b**2 == c**2:\n",
    "    print(a,b,c,'เป็นสามเหลี่ยมมุมฉาก')\n",
    "else:\n",
    "    print(a,b,c,'ไม่เป็นสามเหลี่ยมใดเลย')"
   ]
  }
 ],
 "metadata": {
  "kernelspec": {
   "display_name": "Python 3",
   "language": "python",
   "name": "python3"
  },
  "language_info": {
   "codemirror_mode": {
    "name": "ipython",
    "version": 3
   },
   "file_extension": ".py",
   "mimetype": "text/x-python",
   "name": "python",
   "nbconvert_exporter": "python",
   "pygments_lexer": "ipython3",
   "version": "3.8.3"
  }
 },
 "nbformat": 4,
 "nbformat_minor": 4
}
