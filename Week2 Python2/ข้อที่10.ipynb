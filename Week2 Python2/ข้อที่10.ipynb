{
 "cells": [
  {
   "cell_type": "markdown",
   "metadata": {},
   "source": [
    "# Quiz10"
   ]
  },
  {
   "cell_type": "code",
   "execution_count": 27,
   "metadata": {},
   "outputs": [
    {
     "name": "stdout",
     "output_type": "stream",
     "text": [
      "please enter value a:2000\n",
      "please enter value b:2000\n",
      "please enter value c:2000\n",
      "please enter value d:1200\n",
      "Do you have credit card : Yes or NoYes\n",
      "ยอดเงินที่ต้องจ่าย คือ  855.0\n"
     ]
    }
   ],
   "source": [
    "a = int(input('please enter value a:'))\n",
    "while a<1000 or a>5000:\n",
    "    a = int(input('please enter value a again:'))\n",
    "b = int(input('please enter value b:'))\n",
    "while b<1000 or b>5000:\n",
    "    b = int(input('please enter value b again:'))\n",
    "c = int(input('please enter value c:'))\n",
    "while c<1000 or c>5000:\n",
    "    c = int(input('please enter value c again:'))\n",
    "d = int(input('please enter value d:'))\n",
    "while d<1000 or d>5000:\n",
    "    d = int(input('please enter value d again:'))\n",
    "    \n",
    "credit = input('Do you have credit card : Yes or No =>')\n",
    "if a+b+c >= 9000:\n",
    "    if credit == 'Yes' :\n",
    "        discount1 = d*0.30\n",
    "        reciept1 = d-discount1\n",
    "        discount1 = reciept1*0.05\n",
    "        reciept2 = reciept1-discount1\n",
    "        print('ยอดเงินที่ต้องจ่าย คือ ',reciept2)\n",
    "    else:\n",
    "        discount1 = d*0.30    \n",
    "        reciept1 = d-discount\n",
    "        print('ยอดเงินที่ต้องจ่าย คือ ',reciept1)\n",
    "elif a+b+c>=4000 and credit == 'Yes':\n",
    "    discount1 = d*0.25\n",
    "    reciept1 = d-discount1\n",
    "    discount1 = reciept1*0.05\n",
    "    reciept2 = reciept1-discount1\n",
    "    print('ยอดเงินที่ต้องจ่าย คือ ',reciept2)\n",
    "elif a+b+c>=4000 and credit == 'No':\n",
    "    discount1 = d*0.25\n",
    "    reciept1 = d-discount1\n",
    "    print('ยอดเงินที่ต้องจ่าย คือ ',reciept1)      \n",
    "else:\n",
    "    print('ยอดเงินที่ต้องจ่าย คือ ',d)"
   ]
  },
  {
   "cell_type": "code",
   "execution_count": null,
   "metadata": {},
   "outputs": [],
   "source": []
  }
 ],
 "metadata": {
  "kernelspec": {
   "display_name": "Python 3",
   "language": "python",
   "name": "python3"
  },
  "language_info": {
   "codemirror_mode": {
    "name": "ipython",
    "version": 3
   },
   "file_extension": ".py",
   "mimetype": "text/x-python",
   "name": "python",
   "nbconvert_exporter": "python",
   "pygments_lexer": "ipython3",
   "version": "3.8.3"
  }
 },
 "nbformat": 4,
 "nbformat_minor": 4
}
