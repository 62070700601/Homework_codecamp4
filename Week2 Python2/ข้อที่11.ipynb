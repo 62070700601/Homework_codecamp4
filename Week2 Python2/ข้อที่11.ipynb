{
 "cells": [
  {
   "cell_type": "code",
   "execution_count": 15,
   "metadata": {},
   "outputs": [
    {
     "name": "stdout",
     "output_type": "stream",
     "text": [
      "enter 7 words or more by 7 word is mix large words and small words  =kkk\n",
      "Words kkk\n",
      "len=  3\n",
      "Len not OK\n",
      "Mix Not OK\n",
      "enter 7 words or more by 7 word is mix large words and small words  =asdasdoIJJ\n",
      "Words asdasdoIJJ\n",
      "len=  10\n",
      "Len OK\n",
      "Mix OK\n",
      "result = ASDASDOijj\n"
     ]
    }
   ],
   "source": [
    "a=0\n",
    "while a<2:\n",
    "    b=input('enter 7 words or more by 7 word is mix large words and small words  =')\n",
    "    print('Words',b)\n",
    "    print('len= ',len(b))\n",
    "        \n",
    "    if len(b)<7:\n",
    "            a= 0 \n",
    "            print('Len not OK')\n",
    "    else:\n",
    "            a= a + 1\n",
    "            print('Len OK')\n",
    "    \n",
    "    if b.isupper()==False:\n",
    "        if b.islower()==False:\n",
    "            a=a+1\n",
    "            print('Mix OK')\n",
    "        else:\n",
    "            a=0\n",
    "            print('Mix Not OK')\n",
    "    else:\n",
    "        a=0\n",
    "        print('Mix Not OK')\n",
    "        \n",
    "\n",
    "\n",
    "c = ''\n",
    "for i in b:\n",
    "    if i.islower():\n",
    "        c=c+i.upper()\n",
    "    else:\n",
    "        c=c+i.lower()\n",
    "\n",
    "print('result =',c)"
   ]
  },
  {
   "cell_type": "code",
   "execution_count": null,
   "metadata": {},
   "outputs": [],
   "source": []
  }
 ],
 "metadata": {
  "kernelspec": {
   "display_name": "Python 3",
   "language": "python",
   "name": "python3"
  },
  "language_info": {
   "codemirror_mode": {
    "name": "ipython",
    "version": 3
   },
   "file_extension": ".py",
   "mimetype": "text/x-python",
   "name": "python",
   "nbconvert_exporter": "python",
   "pygments_lexer": "ipython3",
   "version": "3.8.3"
  }
 },
 "nbformat": 4,
 "nbformat_minor": 4
}
