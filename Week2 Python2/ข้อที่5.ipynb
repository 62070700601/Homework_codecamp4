{
 "cells": [
  {
   "cell_type": "markdown",
   "metadata": {},
   "source": [
    "# Quiz 5"
   ]
  },
  {
   "cell_type": "code",
   "execution_count": 7,
   "metadata": {},
   "outputs": [
    {
     "name": "stdout",
     "output_type": "stream",
     "text": [
      "please enter value a: 5\n",
      "please enter value b: 3\n",
      "please enter value c: 4\n",
      "5 3 4 สามารถสร้าง 3 เหลี่ยนมุมฉากได้\n"
     ]
    }
   ],
   "source": [
    "a = int(input('please enter value a: '))\n",
    "b = int(input('please enter value b: '))\n",
    "c = int(input('please enter value c: '))\n",
    "if a**2 + b**2 == c**2:\n",
    "    print(a,b,c,'สามารถสร้าง 3 เหลี่ยนมุมฉากได้')\n",
    "elif a**2 + c**2 == b**2:\n",
    "    print(a,b,c,'สามารถสร้าง 3 เหลี่ยนมุมฉากได้')\n",
    "elif b**2 + c**2 == a**2:\n",
    "    print(a,b,c,'สามารถสร้าง 3 เหลี่ยนมุมฉากได้')\n",
    "else:\n",
    "    print(a,b,c,'ไม่สามารถสร้าง 3 เหลี่ยนมุมฉากได้')\n",
    "    \n",
    "    "
   ]
  }
 ],
 "metadata": {
  "kernelspec": {
   "display_name": "Python 3",
   "language": "python",
   "name": "python3"
  },
  "language_info": {
   "codemirror_mode": {
    "name": "ipython",
    "version": 3
   },
   "file_extension": ".py",
   "mimetype": "text/x-python",
   "name": "python",
   "nbconvert_exporter": "python",
   "pygments_lexer": "ipython3",
   "version": "3.8.3"
  }
 },
 "nbformat": 4,
 "nbformat_minor": 4
}
