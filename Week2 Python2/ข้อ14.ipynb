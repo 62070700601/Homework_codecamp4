{
 "cells": [
  {
   "cell_type": "markdown",
   "metadata": {},
   "source": [
    "# Quiz14"
   ]
  },
  {
   "cell_type": "code",
   "execution_count": 5,
   "metadata": {},
   "outputs": [
    {
     "name": "stdout",
     "output_type": "stream",
     "text": [
      "x1=10\n",
      "x2=14\n",
      "3000\n"
     ]
    }
   ],
   "source": [
    "x1 = int(input('x1='))\n",
    "x2 = int(input('x2='))\n",
    "while x1<0 or x1>60:\n",
    "    x1 = int(input('x1='))\n",
    "while x2<0 or x2>60:\n",
    "    x2 = int(input('x2='))\n",
    "\n",
    "if x1<=1 and x2<=15:\n",
    "    print('ค่าจอดรถ ฟรี')\n",
    "elif x1>=1 and x2>15:\n",
    "    feecar = (x1*300)+300\n",
    "    print(feecar)\n",
    "else:\n",
    "    feecar2 = (x1*300)\n",
    "    print(feecar2)\n"
   ]
  },
  {
   "cell_type": "code",
   "execution_count": null,
   "metadata": {},
   "outputs": [],
   "source": []
  }
 ],
 "metadata": {
  "kernelspec": {
   "display_name": "Python 3",
   "language": "python",
   "name": "python3"
  },
  "language_info": {
   "codemirror_mode": {
    "name": "ipython",
    "version": 3
   },
   "file_extension": ".py",
   "mimetype": "text/x-python",
   "name": "python",
   "nbconvert_exporter": "python",
   "pygments_lexer": "ipython3",
   "version": "3.8.3"
  }
 },
 "nbformat": 4,
 "nbformat_minor": 4
}
