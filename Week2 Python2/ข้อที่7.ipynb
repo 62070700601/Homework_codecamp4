{
 "cells": [
  {
   "cell_type": "markdown",
   "metadata": {},
   "source": [
    "## Quiz7"
   ]
  },
  {
   "cell_type": "code",
   "execution_count": 136,
   "metadata": {},
   "outputs": [
    {
     "name": "stdout",
     "output_type": "stream",
     "text": [
      "please enter value a:2000\n",
      "please enter value b:2000\n",
      "please enter value c:2000\n",
      "ยอดเงินที่ต้องจ่าย คือ  5100.0\n"
     ]
    }
   ],
   "source": [
    "a = int(input('please enter value a:'))\n",
    "while a<1000 or a>5000:\n",
    "    a = int(input('please enter value a again:'))\n",
    "b = int(input('please enter value b:'))\n",
    "while b<1000 or b>5000:\n",
    "    b = int(input('please enter value b again:'))\n",
    "c = int(input('please enter value c:'))\n",
    "while c<1000 or c>5000:\n",
    "    c = int(input('please enter value c again:'))\n",
    "if a+b+c >= 6000:\n",
    "    discount = (a+b+c)*0.15\n",
    "    reciept = (a+b+c)-discount\n",
    "    print('ยอดเงินที่ต้องจ่าย คือ ',reciept)\n",
    "elif a+b+c >= 12000:\n",
    "    discount = (a+b+c)*0.25\n",
    "    reciept = (a+b+c)-discount\n",
    "    print('ยอดเงินที่ต้องจ่าย คือ ',reciept)\n",
    "else:\n",
    "    print(a+b+c)"
   ]
  },
  {
   "cell_type": "code",
   "execution_count": null,
   "metadata": {},
   "outputs": [],
   "source": []
  }
 ],
 "metadata": {
  "kernelspec": {
   "display_name": "Python 3",
   "language": "python",
   "name": "python3"
  },
  "language_info": {
   "codemirror_mode": {
    "name": "ipython",
    "version": 3
   },
   "file_extension": ".py",
   "mimetype": "text/x-python",
   "name": "python",
   "nbconvert_exporter": "python",
   "pygments_lexer": "ipython3",
   "version": "3.8.3"
  }
 },
 "nbformat": 4,
 "nbformat_minor": 4
}
