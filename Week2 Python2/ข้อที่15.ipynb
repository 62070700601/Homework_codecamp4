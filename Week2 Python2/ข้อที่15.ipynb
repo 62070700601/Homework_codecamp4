{
 "cells": [
  {
   "cell_type": "markdown",
   "metadata": {},
   "source": [
    "# Quiz15"
   ]
  },
  {
   "cell_type": "code",
   "execution_count": 3,
   "metadata": {},
   "outputs": [
    {
     "name": "stdout",
     "output_type": "stream",
     "text": [
      "head=20\n",
      "leg=60\n",
      "bird=  10.0\n",
      "cow=  10.0\n",
      "tax=  3700.0\n"
     ]
    }
   ],
   "source": [
    "h1=int(input('head='))\n",
    "\n",
    "while h1<1:\n",
    "    h1=int(input('head='))\n",
    "\n",
    "\n",
    "l1=int(input('leg='))\n",
    "\n",
    "while (l1%2>0) or (l1 < (h1*2)) or (l1 > (h1*4)):\n",
    "    l1=int(input('leg='))\n",
    "    \n",
    "if (l1/2)==h1: # if leg is match with bird leg then all is bird\n",
    "    b1=h1\n",
    "    c1=0\n",
    "elif (l1/2)> h1: #เหลือเศษ นับเป็นวัว   ได้ จ.น วัว แล้ว ไปหักจาก h ได้ เป็น จน นก\n",
    "    c1=(l1-(h1*2))/2\n",
    "    b1=h1-c1\n",
    "    \n",
    "print('bird= ',b1)    \n",
    "print('cow= ',c1)    \n",
    "tax=(b1*150)+(c1*220)\n",
    "print('tax= ',tax)"
   ]
  },
  {
   "cell_type": "code",
   "execution_count": null,
   "metadata": {},
   "outputs": [],
   "source": []
  }
 ],
 "metadata": {
  "kernelspec": {
   "display_name": "Python 3",
   "language": "python",
   "name": "python3"
  },
  "language_info": {
   "codemirror_mode": {
    "name": "ipython",
    "version": 3
   },
   "file_extension": ".py",
   "mimetype": "text/x-python",
   "name": "python",
   "nbconvert_exporter": "python",
   "pygments_lexer": "ipython3",
   "version": "3.8.3"
  }
 },
 "nbformat": 4,
 "nbformat_minor": 4
}
