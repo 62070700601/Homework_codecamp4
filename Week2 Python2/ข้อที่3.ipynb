{
 "cells": [
  {
   "cell_type": "markdown",
   "metadata": {},
   "source": [
    "# Quiz 3"
   ]
  },
  {
   "cell_type": "code",
   "execution_count": 22,
   "metadata": {},
   "outputs": [
    {
     "name": "stdout",
     "output_type": "stream",
     "text": [
      "please enter value b: 1\n",
      "please enter value b: 2\n",
      "[1.0, 2.0]\n",
      "please enter value b: 3\n",
      "[1.0, 2.0, 3.0]\n",
      "please enter value b: 4\n",
      "[1.0, 2.0, 3.0, 4.0]\n",
      "please enter value b: 5\n",
      "[1.0, 2.0, 3.0, 4.0, 5.0]\n",
      "please enter value b: 6\n",
      "[1.0, 2.0, 3.0, 4.0, 5.0, 6.0]\n",
      "please enter value b: 7\n",
      "[1.0, 2.0, 3.0, 4.0, 5.0, 6.0, 7.0]\n",
      "please enter value b: 0\n",
      "[1.0, 2.0, 3.0, 4.0, 5.0, 6.0, 7.0, 0.0]\n",
      "Answer is :  3.5\n"
     ]
    }
   ],
   "source": [
    "list1 = []\n",
    "b = float(input('please enter value b: '))\n",
    "list1.append(b)\n",
    "while b != 0 :\n",
    "    b = float(input('please enter value b: '))\n",
    "    list1.append(b)\n",
    "    print(list1)\n",
    "print('Answer is : ',sum(list1)/len(list1))"
   ]
  },
  {
   "cell_type": "code",
   "execution_count": null,
   "metadata": {},
   "outputs": [],
   "source": []
  },
  {
   "cell_type": "code",
   "execution_count": null,
   "metadata": {},
   "outputs": [],
   "source": []
  }
 ],
 "metadata": {
  "kernelspec": {
   "display_name": "Python 3",
   "language": "python",
   "name": "python3"
  },
  "language_info": {
   "codemirror_mode": {
    "name": "ipython",
    "version": 3
   },
   "file_extension": ".py",
   "mimetype": "text/x-python",
   "name": "python",
   "nbconvert_exporter": "python",
   "pygments_lexer": "ipython3",
   "version": "3.8.3"
  }
 },
 "nbformat": 4,
 "nbformat_minor": 4
}
