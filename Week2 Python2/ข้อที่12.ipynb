{
 "cells": [
  {
   "cell_type": "code",
   "execution_count": 10,
   "metadata": {},
   "outputs": [
    {
     "name": "stdout",
     "output_type": "stream",
     "text": [
      "x1=dsf\n",
      "x2=xvzxvxz\n",
      "x3=sfas\n",
      "x4=xvczxc\n",
      "output is dsf sfas xvczxc xvzxvxz\n"
     ]
    }
   ],
   "source": [
    "x1=input('x1=')\n",
    "x2=input('x2=')\n",
    "x3=input('x3=')\n",
    "x4=input('x4=')\n",
    "\n",
    "l1=len(x1)\n",
    "l2=len(x2)\n",
    "l3=len(x3)\n",
    "l4=len(x4)\n",
    "lst=[]\n",
    "\n",
    "\n",
    "if l1 >= l2:\n",
    "    lst=[x1,x2]\n",
    "else:\n",
    "    lst=[x2,x1]\n",
    "\n",
    "\n",
    "chk21=lst[0]\n",
    "chk22=lst[1]\n",
    "l21=len(chk21)\n",
    "l22=len(chk22)\n",
    "    \n",
    "    \n",
    "if l3 >=l21:\n",
    "    lst2=[x3,chk21,chk22]\n",
    "elif l3 >= l22:\n",
    "    lst2=[chk21,x3,chk22]\n",
    "else:\n",
    "    lst2=[chk21,chk22,x3]\n",
    "\n",
    "    \n",
    "chk31=lst2[0]\n",
    "chk32=lst2[1]\n",
    "chk33=lst2[2]\n",
    "\n",
    "if l4>=len(chk31):\n",
    "    lst3=[x4,chk31,chk32,chk33]\n",
    "elif l4>=len(chk32):\n",
    "    lst3=[chk31,x4,chk32,chk33]\n",
    "elif l4>=len(chk33):\n",
    "    lst3=[chk31,chk32,x4,chk33]\n",
    "else:\n",
    "    lst3=[chk31,chk32,chk33,x4]\n",
    "\n",
    "\n",
    "print ('output is',lst3[3],lst3[2],lst3[1],lst3[0])"
   ]
  },
  {
   "cell_type": "code",
   "execution_count": null,
   "metadata": {},
   "outputs": [],
   "source": []
  }
 ],
 "metadata": {
  "kernelspec": {
   "display_name": "Python 3",
   "language": "python",
   "name": "python3"
  },
  "language_info": {
   "codemirror_mode": {
    "name": "ipython",
    "version": 3
   },
   "file_extension": ".py",
   "mimetype": "text/x-python",
   "name": "python",
   "nbconvert_exporter": "python",
   "pygments_lexer": "ipython3",
   "version": "3.8.3"
  }
 },
 "nbformat": 4,
 "nbformat_minor": 4
}
