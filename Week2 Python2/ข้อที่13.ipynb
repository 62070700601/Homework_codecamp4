{
 "cells": [
  {
   "cell_type": "markdown",
   "metadata": {},
   "source": [
    "# Quiz13"
   ]
  },
  {
   "cell_type": "code",
   "execution_count": 5,
   "metadata": {},
   "outputs": [
    {
     "name": "stdout",
     "output_type": "stream",
     "text": [
      "x1=22\n",
      "x2=50\n",
      "ค่าจอดรถ คือ 3400\n"
     ]
    }
   ],
   "source": [
    "x1 = int(input('x1='))\n",
    "x2 = int(input('x2='))\n",
    "while x1<0 or x1>60:\n",
    "    x1 = int(input('x1='))\n",
    "while x2<0 or x2>60:\n",
    "    x2 = int(input('x2='))\n",
    "\n",
    "feecar  = (x1*150)+(x2*2)\n",
    "print('ค่าจอดรถ คือ',feecar)"
   ]
  }
 ],
 "metadata": {
  "kernelspec": {
   "display_name": "Python 3",
   "language": "python",
   "name": "python3"
  },
  "language_info": {
   "codemirror_mode": {
    "name": "ipython",
    "version": 3
   },
   "file_extension": ".py",
   "mimetype": "text/x-python",
   "name": "python",
   "nbconvert_exporter": "python",
   "pygments_lexer": "ipython3",
   "version": "3.8.3"
  }
 },
 "nbformat": 4,
 "nbformat_minor": 4
}
