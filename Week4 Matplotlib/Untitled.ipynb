{
 "cells": [
  {
   "cell_type": "code",
   "execution_count": 10,
   "metadata": {},
   "outputs": [
    {
     "ename": "SyntaxError",
     "evalue": "invalid syntax (<ipython-input-10-b0e6605bf7d8>, line 7)",
     "output_type": "error",
     "traceback": [
      "\u001b[1;36m  File \u001b[1;32m\"<ipython-input-10-b0e6605bf7d8>\"\u001b[1;36m, line \u001b[1;32m7\u001b[0m\n\u001b[1;33m    age_range2=df20.['Age'].apply(lambda x:(((x//10)*10)+9)\u001b[0m\n\u001b[1;37m                    ^\u001b[0m\n\u001b[1;31mSyntaxError\u001b[0m\u001b[1;31m:\u001b[0m invalid syntax\n"
     ]
    }
   ],
   "source": [
    "#20. done แสดงเป็นกลุ่มช่วงอายุ 0-10, 20-30 …. (เพิ่มทีละ10) และหาว่าแต่ละกลุ่มมีอัตราการรอดชีวิตเท่าไหร่ \n",
    "import pandas as pd\n",
    "import numpy as np\n",
    "dfpoint_20=pd.read_csv('train.csv')\n",
    "age_range=df_point20['Age'].apply(lambda x:((x//10)*10))\n",
    "\n",
    "age_range2=df20.['Age'].apply(lambda x:(((x//10)*10)+9)\n",
    "\n",
    "\n"
   ]
  }
 ],
 "metadata": {
  "kernelspec": {
   "display_name": "Python 3",
   "language": "python",
   "name": "python3"
  },
  "language_info": {
   "codemirror_mode": {
    "name": "ipython",
    "version": 3
   },
   "file_extension": ".py",
   "mimetype": "text/x-python",
   "name": "python",
   "nbconvert_exporter": "python",
   "pygments_lexer": "ipython3",
   "version": "3.8.3"
  }
 },
 "nbformat": 4,
 "nbformat_minor": 4
}
