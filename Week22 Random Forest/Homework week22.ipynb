{
 "cells": [
  {
   "cell_type": "code",
   "execution_count": 1,
   "metadata": {},
   "outputs": [],
   "source": [
    "import pandas as pd\n",
    "import numpy as np\n",
    "import seaborn as sns\n",
    "import matplotlib.pyplot as plt\n",
    "%matplotlib inline"
   ]
  },
  {
   "cell_type": "code",
   "execution_count": 3,
   "metadata": {},
   "outputs": [
    {
     "data": {
      "text/html": [
       "<div>\n",
       "<style scoped>\n",
       "    .dataframe tbody tr th:only-of-type {\n",
       "        vertical-align: middle;\n",
       "    }\n",
       "\n",
       "    .dataframe tbody tr th {\n",
       "        vertical-align: top;\n",
       "    }\n",
       "\n",
       "    .dataframe thead th {\n",
       "        text-align: right;\n",
       "    }\n",
       "</style>\n",
       "<table border=\"1\" class=\"dataframe\">\n",
       "  <thead>\n",
       "    <tr style=\"text-align: right;\">\n",
       "      <th></th>\n",
       "      <th>Unnamed: 0</th>\n",
       "      <th>Age</th>\n",
       "      <th>Sex</th>\n",
       "      <th>Job</th>\n",
       "      <th>Housing</th>\n",
       "      <th>Saving accounts</th>\n",
       "      <th>Checking account</th>\n",
       "      <th>Credit amount</th>\n",
       "      <th>Duration</th>\n",
       "      <th>Purpose</th>\n",
       "    </tr>\n",
       "  </thead>\n",
       "  <tbody>\n",
       "    <tr>\n",
       "      <th>0</th>\n",
       "      <td>0</td>\n",
       "      <td>67</td>\n",
       "      <td>male</td>\n",
       "      <td>2</td>\n",
       "      <td>own</td>\n",
       "      <td>NaN</td>\n",
       "      <td>little</td>\n",
       "      <td>1169</td>\n",
       "      <td>6</td>\n",
       "      <td>radio/TV</td>\n",
       "    </tr>\n",
       "    <tr>\n",
       "      <th>1</th>\n",
       "      <td>1</td>\n",
       "      <td>22</td>\n",
       "      <td>female</td>\n",
       "      <td>2</td>\n",
       "      <td>own</td>\n",
       "      <td>little</td>\n",
       "      <td>moderate</td>\n",
       "      <td>5951</td>\n",
       "      <td>48</td>\n",
       "      <td>radio/TV</td>\n",
       "    </tr>\n",
       "    <tr>\n",
       "      <th>2</th>\n",
       "      <td>2</td>\n",
       "      <td>49</td>\n",
       "      <td>male</td>\n",
       "      <td>1</td>\n",
       "      <td>own</td>\n",
       "      <td>little</td>\n",
       "      <td>NaN</td>\n",
       "      <td>2096</td>\n",
       "      <td>12</td>\n",
       "      <td>education</td>\n",
       "    </tr>\n",
       "    <tr>\n",
       "      <th>3</th>\n",
       "      <td>3</td>\n",
       "      <td>45</td>\n",
       "      <td>male</td>\n",
       "      <td>2</td>\n",
       "      <td>free</td>\n",
       "      <td>little</td>\n",
       "      <td>little</td>\n",
       "      <td>7882</td>\n",
       "      <td>42</td>\n",
       "      <td>furniture/equipment</td>\n",
       "    </tr>\n",
       "    <tr>\n",
       "      <th>4</th>\n",
       "      <td>4</td>\n",
       "      <td>53</td>\n",
       "      <td>male</td>\n",
       "      <td>2</td>\n",
       "      <td>free</td>\n",
       "      <td>little</td>\n",
       "      <td>little</td>\n",
       "      <td>4870</td>\n",
       "      <td>24</td>\n",
       "      <td>car</td>\n",
       "    </tr>\n",
       "    <tr>\n",
       "      <th>...</th>\n",
       "      <td>...</td>\n",
       "      <td>...</td>\n",
       "      <td>...</td>\n",
       "      <td>...</td>\n",
       "      <td>...</td>\n",
       "      <td>...</td>\n",
       "      <td>...</td>\n",
       "      <td>...</td>\n",
       "      <td>...</td>\n",
       "      <td>...</td>\n",
       "    </tr>\n",
       "    <tr>\n",
       "      <th>995</th>\n",
       "      <td>995</td>\n",
       "      <td>31</td>\n",
       "      <td>female</td>\n",
       "      <td>1</td>\n",
       "      <td>own</td>\n",
       "      <td>little</td>\n",
       "      <td>NaN</td>\n",
       "      <td>1736</td>\n",
       "      <td>12</td>\n",
       "      <td>furniture/equipment</td>\n",
       "    </tr>\n",
       "    <tr>\n",
       "      <th>996</th>\n",
       "      <td>996</td>\n",
       "      <td>40</td>\n",
       "      <td>male</td>\n",
       "      <td>3</td>\n",
       "      <td>own</td>\n",
       "      <td>little</td>\n",
       "      <td>little</td>\n",
       "      <td>3857</td>\n",
       "      <td>30</td>\n",
       "      <td>car</td>\n",
       "    </tr>\n",
       "    <tr>\n",
       "      <th>997</th>\n",
       "      <td>997</td>\n",
       "      <td>38</td>\n",
       "      <td>male</td>\n",
       "      <td>2</td>\n",
       "      <td>own</td>\n",
       "      <td>little</td>\n",
       "      <td>NaN</td>\n",
       "      <td>804</td>\n",
       "      <td>12</td>\n",
       "      <td>radio/TV</td>\n",
       "    </tr>\n",
       "    <tr>\n",
       "      <th>998</th>\n",
       "      <td>998</td>\n",
       "      <td>23</td>\n",
       "      <td>male</td>\n",
       "      <td>2</td>\n",
       "      <td>free</td>\n",
       "      <td>little</td>\n",
       "      <td>little</td>\n",
       "      <td>1845</td>\n",
       "      <td>45</td>\n",
       "      <td>radio/TV</td>\n",
       "    </tr>\n",
       "    <tr>\n",
       "      <th>999</th>\n",
       "      <td>999</td>\n",
       "      <td>27</td>\n",
       "      <td>male</td>\n",
       "      <td>2</td>\n",
       "      <td>own</td>\n",
       "      <td>moderate</td>\n",
       "      <td>moderate</td>\n",
       "      <td>4576</td>\n",
       "      <td>45</td>\n",
       "      <td>car</td>\n",
       "    </tr>\n",
       "  </tbody>\n",
       "</table>\n",
       "<p>1000 rows × 10 columns</p>\n",
       "</div>"
      ],
      "text/plain": [
       "     Unnamed: 0  Age     Sex  Job Housing Saving accounts Checking account  \\\n",
       "0             0   67    male    2     own             NaN           little   \n",
       "1             1   22  female    2     own          little         moderate   \n",
       "2             2   49    male    1     own          little              NaN   \n",
       "3             3   45    male    2    free          little           little   \n",
       "4             4   53    male    2    free          little           little   \n",
       "..          ...  ...     ...  ...     ...             ...              ...   \n",
       "995         995   31  female    1     own          little              NaN   \n",
       "996         996   40    male    3     own          little           little   \n",
       "997         997   38    male    2     own          little              NaN   \n",
       "998         998   23    male    2    free          little           little   \n",
       "999         999   27    male    2     own        moderate         moderate   \n",
       "\n",
       "     Credit amount  Duration              Purpose  \n",
       "0             1169         6             radio/TV  \n",
       "1             5951        48             radio/TV  \n",
       "2             2096        12            education  \n",
       "3             7882        42  furniture/equipment  \n",
       "4             4870        24                  car  \n",
       "..             ...       ...                  ...  \n",
       "995           1736        12  furniture/equipment  \n",
       "996           3857        30                  car  \n",
       "997            804        12             radio/TV  \n",
       "998           1845        45             radio/TV  \n",
       "999           4576        45                  car  \n",
       "\n",
       "[1000 rows x 10 columns]"
      ]
     },
     "execution_count": 3,
     "metadata": {},
     "output_type": "execute_result"
    }
   ],
   "source": [
    "# ข้อที่ 1\n",
    "df = pd.read_csv('german_credit_data.csv')\n",
    "df"
   ]
  },
  {
   "cell_type": "code",
   "execution_count": 4,
   "metadata": {},
   "outputs": [
    {
     "data": {
      "text/html": [
       "<div>\n",
       "<style scoped>\n",
       "    .dataframe tbody tr th:only-of-type {\n",
       "        vertical-align: middle;\n",
       "    }\n",
       "\n",
       "    .dataframe tbody tr th {\n",
       "        vertical-align: top;\n",
       "    }\n",
       "\n",
       "    .dataframe thead th {\n",
       "        text-align: right;\n",
       "    }\n",
       "</style>\n",
       "<table border=\"1\" class=\"dataframe\">\n",
       "  <thead>\n",
       "    <tr style=\"text-align: right;\">\n",
       "      <th></th>\n",
       "      <th>Unnamed: 0</th>\n",
       "      <th>Age</th>\n",
       "      <th>Sex</th>\n",
       "      <th>Job</th>\n",
       "      <th>Housing</th>\n",
       "      <th>Saving accounts</th>\n",
       "      <th>Checking account</th>\n",
       "      <th>Credit amount</th>\n",
       "      <th>Duration</th>\n",
       "      <th>Purpose</th>\n",
       "    </tr>\n",
       "  </thead>\n",
       "  <tbody>\n",
       "    <tr>\n",
       "      <th>0</th>\n",
       "      <td>0</td>\n",
       "      <td>67</td>\n",
       "      <td>male</td>\n",
       "      <td>2</td>\n",
       "      <td>own</td>\n",
       "      <td>NaN</td>\n",
       "      <td>little</td>\n",
       "      <td>1169</td>\n",
       "      <td>6</td>\n",
       "      <td>radio/TV</td>\n",
       "    </tr>\n",
       "    <tr>\n",
       "      <th>1</th>\n",
       "      <td>1</td>\n",
       "      <td>22</td>\n",
       "      <td>female</td>\n",
       "      <td>2</td>\n",
       "      <td>own</td>\n",
       "      <td>little</td>\n",
       "      <td>moderate</td>\n",
       "      <td>5951</td>\n",
       "      <td>48</td>\n",
       "      <td>radio/TV</td>\n",
       "    </tr>\n",
       "    <tr>\n",
       "      <th>2</th>\n",
       "      <td>2</td>\n",
       "      <td>49</td>\n",
       "      <td>male</td>\n",
       "      <td>1</td>\n",
       "      <td>own</td>\n",
       "      <td>little</td>\n",
       "      <td>NaN</td>\n",
       "      <td>2096</td>\n",
       "      <td>12</td>\n",
       "      <td>education</td>\n",
       "    </tr>\n",
       "    <tr>\n",
       "      <th>3</th>\n",
       "      <td>3</td>\n",
       "      <td>45</td>\n",
       "      <td>male</td>\n",
       "      <td>2</td>\n",
       "      <td>free</td>\n",
       "      <td>little</td>\n",
       "      <td>little</td>\n",
       "      <td>7882</td>\n",
       "      <td>42</td>\n",
       "      <td>furniture/equipment</td>\n",
       "    </tr>\n",
       "    <tr>\n",
       "      <th>4</th>\n",
       "      <td>4</td>\n",
       "      <td>53</td>\n",
       "      <td>male</td>\n",
       "      <td>2</td>\n",
       "      <td>free</td>\n",
       "      <td>little</td>\n",
       "      <td>little</td>\n",
       "      <td>4870</td>\n",
       "      <td>24</td>\n",
       "      <td>car</td>\n",
       "    </tr>\n",
       "    <tr>\n",
       "      <th>5</th>\n",
       "      <td>5</td>\n",
       "      <td>35</td>\n",
       "      <td>male</td>\n",
       "      <td>1</td>\n",
       "      <td>free</td>\n",
       "      <td>NaN</td>\n",
       "      <td>NaN</td>\n",
       "      <td>9055</td>\n",
       "      <td>36</td>\n",
       "      <td>education</td>\n",
       "    </tr>\n",
       "    <tr>\n",
       "      <th>6</th>\n",
       "      <td>6</td>\n",
       "      <td>53</td>\n",
       "      <td>male</td>\n",
       "      <td>2</td>\n",
       "      <td>own</td>\n",
       "      <td>quite rich</td>\n",
       "      <td>NaN</td>\n",
       "      <td>2835</td>\n",
       "      <td>24</td>\n",
       "      <td>furniture/equipment</td>\n",
       "    </tr>\n",
       "    <tr>\n",
       "      <th>7</th>\n",
       "      <td>7</td>\n",
       "      <td>35</td>\n",
       "      <td>male</td>\n",
       "      <td>3</td>\n",
       "      <td>rent</td>\n",
       "      <td>little</td>\n",
       "      <td>moderate</td>\n",
       "      <td>6948</td>\n",
       "      <td>36</td>\n",
       "      <td>car</td>\n",
       "    </tr>\n",
       "    <tr>\n",
       "      <th>8</th>\n",
       "      <td>8</td>\n",
       "      <td>61</td>\n",
       "      <td>male</td>\n",
       "      <td>1</td>\n",
       "      <td>own</td>\n",
       "      <td>rich</td>\n",
       "      <td>NaN</td>\n",
       "      <td>3059</td>\n",
       "      <td>12</td>\n",
       "      <td>radio/TV</td>\n",
       "    </tr>\n",
       "    <tr>\n",
       "      <th>9</th>\n",
       "      <td>9</td>\n",
       "      <td>28</td>\n",
       "      <td>male</td>\n",
       "      <td>3</td>\n",
       "      <td>own</td>\n",
       "      <td>little</td>\n",
       "      <td>moderate</td>\n",
       "      <td>5234</td>\n",
       "      <td>30</td>\n",
       "      <td>car</td>\n",
       "    </tr>\n",
       "  </tbody>\n",
       "</table>\n",
       "</div>"
      ],
      "text/plain": [
       "   Unnamed: 0  Age     Sex  Job Housing Saving accounts Checking account  \\\n",
       "0           0   67    male    2     own             NaN           little   \n",
       "1           1   22  female    2     own          little         moderate   \n",
       "2           2   49    male    1     own          little              NaN   \n",
       "3           3   45    male    2    free          little           little   \n",
       "4           4   53    male    2    free          little           little   \n",
       "5           5   35    male    1    free             NaN              NaN   \n",
       "6           6   53    male    2     own      quite rich              NaN   \n",
       "7           7   35    male    3    rent          little         moderate   \n",
       "8           8   61    male    1     own            rich              NaN   \n",
       "9           9   28    male    3     own          little         moderate   \n",
       "\n",
       "   Credit amount  Duration              Purpose  \n",
       "0           1169         6             radio/TV  \n",
       "1           5951        48             radio/TV  \n",
       "2           2096        12            education  \n",
       "3           7882        42  furniture/equipment  \n",
       "4           4870        24                  car  \n",
       "5           9055        36            education  \n",
       "6           2835        24  furniture/equipment  \n",
       "7           6948        36                  car  \n",
       "8           3059        12             radio/TV  \n",
       "9           5234        30                  car  "
      ]
     },
     "execution_count": 4,
     "metadata": {},
     "output_type": "execute_result"
    }
   ],
   "source": [
    "# ข้อที่ 2\n",
    "df.head(10)"
   ]
  },
  {
   "cell_type": "code",
   "execution_count": 5,
   "metadata": {},
   "outputs": [
    {
     "data": {
      "text/html": [
       "<div>\n",
       "<style scoped>\n",
       "    .dataframe tbody tr th:only-of-type {\n",
       "        vertical-align: middle;\n",
       "    }\n",
       "\n",
       "    .dataframe tbody tr th {\n",
       "        vertical-align: top;\n",
       "    }\n",
       "\n",
       "    .dataframe thead th {\n",
       "        text-align: right;\n",
       "    }\n",
       "</style>\n",
       "<table border=\"1\" class=\"dataframe\">\n",
       "  <thead>\n",
       "    <tr style=\"text-align: right;\">\n",
       "      <th></th>\n",
       "      <th>Unnamed: 0</th>\n",
       "      <th>Age</th>\n",
       "      <th>Sex</th>\n",
       "      <th>Job</th>\n",
       "      <th>Housing</th>\n",
       "      <th>Saving accounts</th>\n",
       "      <th>Checking account</th>\n",
       "      <th>Credit amount</th>\n",
       "      <th>Duration</th>\n",
       "      <th>Purpose</th>\n",
       "    </tr>\n",
       "  </thead>\n",
       "  <tbody>\n",
       "    <tr>\n",
       "      <th>990</th>\n",
       "      <td>990</td>\n",
       "      <td>37</td>\n",
       "      <td>male</td>\n",
       "      <td>1</td>\n",
       "      <td>own</td>\n",
       "      <td>NaN</td>\n",
       "      <td>NaN</td>\n",
       "      <td>3565</td>\n",
       "      <td>12</td>\n",
       "      <td>education</td>\n",
       "    </tr>\n",
       "    <tr>\n",
       "      <th>991</th>\n",
       "      <td>991</td>\n",
       "      <td>34</td>\n",
       "      <td>male</td>\n",
       "      <td>1</td>\n",
       "      <td>own</td>\n",
       "      <td>moderate</td>\n",
       "      <td>NaN</td>\n",
       "      <td>1569</td>\n",
       "      <td>15</td>\n",
       "      <td>radio/TV</td>\n",
       "    </tr>\n",
       "    <tr>\n",
       "      <th>992</th>\n",
       "      <td>992</td>\n",
       "      <td>23</td>\n",
       "      <td>male</td>\n",
       "      <td>1</td>\n",
       "      <td>rent</td>\n",
       "      <td>NaN</td>\n",
       "      <td>little</td>\n",
       "      <td>1936</td>\n",
       "      <td>18</td>\n",
       "      <td>radio/TV</td>\n",
       "    </tr>\n",
       "    <tr>\n",
       "      <th>993</th>\n",
       "      <td>993</td>\n",
       "      <td>30</td>\n",
       "      <td>male</td>\n",
       "      <td>3</td>\n",
       "      <td>own</td>\n",
       "      <td>little</td>\n",
       "      <td>little</td>\n",
       "      <td>3959</td>\n",
       "      <td>36</td>\n",
       "      <td>furniture/equipment</td>\n",
       "    </tr>\n",
       "    <tr>\n",
       "      <th>994</th>\n",
       "      <td>994</td>\n",
       "      <td>50</td>\n",
       "      <td>male</td>\n",
       "      <td>2</td>\n",
       "      <td>own</td>\n",
       "      <td>NaN</td>\n",
       "      <td>NaN</td>\n",
       "      <td>2390</td>\n",
       "      <td>12</td>\n",
       "      <td>car</td>\n",
       "    </tr>\n",
       "    <tr>\n",
       "      <th>995</th>\n",
       "      <td>995</td>\n",
       "      <td>31</td>\n",
       "      <td>female</td>\n",
       "      <td>1</td>\n",
       "      <td>own</td>\n",
       "      <td>little</td>\n",
       "      <td>NaN</td>\n",
       "      <td>1736</td>\n",
       "      <td>12</td>\n",
       "      <td>furniture/equipment</td>\n",
       "    </tr>\n",
       "    <tr>\n",
       "      <th>996</th>\n",
       "      <td>996</td>\n",
       "      <td>40</td>\n",
       "      <td>male</td>\n",
       "      <td>3</td>\n",
       "      <td>own</td>\n",
       "      <td>little</td>\n",
       "      <td>little</td>\n",
       "      <td>3857</td>\n",
       "      <td>30</td>\n",
       "      <td>car</td>\n",
       "    </tr>\n",
       "    <tr>\n",
       "      <th>997</th>\n",
       "      <td>997</td>\n",
       "      <td>38</td>\n",
       "      <td>male</td>\n",
       "      <td>2</td>\n",
       "      <td>own</td>\n",
       "      <td>little</td>\n",
       "      <td>NaN</td>\n",
       "      <td>804</td>\n",
       "      <td>12</td>\n",
       "      <td>radio/TV</td>\n",
       "    </tr>\n",
       "    <tr>\n",
       "      <th>998</th>\n",
       "      <td>998</td>\n",
       "      <td>23</td>\n",
       "      <td>male</td>\n",
       "      <td>2</td>\n",
       "      <td>free</td>\n",
       "      <td>little</td>\n",
       "      <td>little</td>\n",
       "      <td>1845</td>\n",
       "      <td>45</td>\n",
       "      <td>radio/TV</td>\n",
       "    </tr>\n",
       "    <tr>\n",
       "      <th>999</th>\n",
       "      <td>999</td>\n",
       "      <td>27</td>\n",
       "      <td>male</td>\n",
       "      <td>2</td>\n",
       "      <td>own</td>\n",
       "      <td>moderate</td>\n",
       "      <td>moderate</td>\n",
       "      <td>4576</td>\n",
       "      <td>45</td>\n",
       "      <td>car</td>\n",
       "    </tr>\n",
       "  </tbody>\n",
       "</table>\n",
       "</div>"
      ],
      "text/plain": [
       "     Unnamed: 0  Age     Sex  Job Housing Saving accounts Checking account  \\\n",
       "990         990   37    male    1     own             NaN              NaN   \n",
       "991         991   34    male    1     own        moderate              NaN   \n",
       "992         992   23    male    1    rent             NaN           little   \n",
       "993         993   30    male    3     own          little           little   \n",
       "994         994   50    male    2     own             NaN              NaN   \n",
       "995         995   31  female    1     own          little              NaN   \n",
       "996         996   40    male    3     own          little           little   \n",
       "997         997   38    male    2     own          little              NaN   \n",
       "998         998   23    male    2    free          little           little   \n",
       "999         999   27    male    2     own        moderate         moderate   \n",
       "\n",
       "     Credit amount  Duration              Purpose  \n",
       "990           3565        12            education  \n",
       "991           1569        15             radio/TV  \n",
       "992           1936        18             radio/TV  \n",
       "993           3959        36  furniture/equipment  \n",
       "994           2390        12                  car  \n",
       "995           1736        12  furniture/equipment  \n",
       "996           3857        30                  car  \n",
       "997            804        12             radio/TV  \n",
       "998           1845        45             radio/TV  \n",
       "999           4576        45                  car  "
      ]
     },
     "execution_count": 5,
     "metadata": {},
     "output_type": "execute_result"
    }
   ],
   "source": [
    "df.tail(10)"
   ]
  },
  {
   "cell_type": "code",
   "execution_count": 6,
   "metadata": {},
   "outputs": [
    {
     "data": {
      "text/html": [
       "<div>\n",
       "<style scoped>\n",
       "    .dataframe tbody tr th:only-of-type {\n",
       "        vertical-align: middle;\n",
       "    }\n",
       "\n",
       "    .dataframe tbody tr th {\n",
       "        vertical-align: top;\n",
       "    }\n",
       "\n",
       "    .dataframe thead th {\n",
       "        text-align: right;\n",
       "    }\n",
       "</style>\n",
       "<table border=\"1\" class=\"dataframe\">\n",
       "  <thead>\n",
       "    <tr style=\"text-align: right;\">\n",
       "      <th></th>\n",
       "      <th>Unnamed: 0</th>\n",
       "      <th>Age</th>\n",
       "      <th>Sex</th>\n",
       "      <th>Job</th>\n",
       "      <th>Housing</th>\n",
       "      <th>Saving accounts</th>\n",
       "      <th>Checking account</th>\n",
       "      <th>Credit amount</th>\n",
       "      <th>Duration</th>\n",
       "      <th>Purpose</th>\n",
       "    </tr>\n",
       "  </thead>\n",
       "  <tbody>\n",
       "    <tr>\n",
       "      <th>712</th>\n",
       "      <td>712</td>\n",
       "      <td>46</td>\n",
       "      <td>male</td>\n",
       "      <td>3</td>\n",
       "      <td>own</td>\n",
       "      <td>NaN</td>\n",
       "      <td>NaN</td>\n",
       "      <td>2476</td>\n",
       "      <td>21</td>\n",
       "      <td>car</td>\n",
       "    </tr>\n",
       "    <tr>\n",
       "      <th>544</th>\n",
       "      <td>544</td>\n",
       "      <td>61</td>\n",
       "      <td>male</td>\n",
       "      <td>1</td>\n",
       "      <td>own</td>\n",
       "      <td>little</td>\n",
       "      <td>NaN</td>\n",
       "      <td>1255</td>\n",
       "      <td>12</td>\n",
       "      <td>car</td>\n",
       "    </tr>\n",
       "    <tr>\n",
       "      <th>986</th>\n",
       "      <td>986</td>\n",
       "      <td>33</td>\n",
       "      <td>male</td>\n",
       "      <td>2</td>\n",
       "      <td>own</td>\n",
       "      <td>little</td>\n",
       "      <td>rich</td>\n",
       "      <td>6289</td>\n",
       "      <td>42</td>\n",
       "      <td>business</td>\n",
       "    </tr>\n",
       "    <tr>\n",
       "      <th>189</th>\n",
       "      <td>189</td>\n",
       "      <td>33</td>\n",
       "      <td>female</td>\n",
       "      <td>2</td>\n",
       "      <td>own</td>\n",
       "      <td>little</td>\n",
       "      <td>moderate</td>\n",
       "      <td>3244</td>\n",
       "      <td>18</td>\n",
       "      <td>furniture/equipment</td>\n",
       "    </tr>\n",
       "    <tr>\n",
       "      <th>968</th>\n",
       "      <td>968</td>\n",
       "      <td>29</td>\n",
       "      <td>male</td>\n",
       "      <td>2</td>\n",
       "      <td>rent</td>\n",
       "      <td>NaN</td>\n",
       "      <td>NaN</td>\n",
       "      <td>7166</td>\n",
       "      <td>42</td>\n",
       "      <td>radio/TV</td>\n",
       "    </tr>\n",
       "    <tr>\n",
       "      <th>223</th>\n",
       "      <td>223</td>\n",
       "      <td>32</td>\n",
       "      <td>male</td>\n",
       "      <td>2</td>\n",
       "      <td>own</td>\n",
       "      <td>NaN</td>\n",
       "      <td>NaN</td>\n",
       "      <td>2978</td>\n",
       "      <td>24</td>\n",
       "      <td>business</td>\n",
       "    </tr>\n",
       "    <tr>\n",
       "      <th>495</th>\n",
       "      <td>495</td>\n",
       "      <td>20</td>\n",
       "      <td>male</td>\n",
       "      <td>2</td>\n",
       "      <td>own</td>\n",
       "      <td>NaN</td>\n",
       "      <td>little</td>\n",
       "      <td>2996</td>\n",
       "      <td>24</td>\n",
       "      <td>furniture/equipment</td>\n",
       "    </tr>\n",
       "    <tr>\n",
       "      <th>366</th>\n",
       "      <td>366</td>\n",
       "      <td>27</td>\n",
       "      <td>male</td>\n",
       "      <td>2</td>\n",
       "      <td>own</td>\n",
       "      <td>little</td>\n",
       "      <td>NaN</td>\n",
       "      <td>3850</td>\n",
       "      <td>18</td>\n",
       "      <td>car</td>\n",
       "    </tr>\n",
       "    <tr>\n",
       "      <th>793</th>\n",
       "      <td>793</td>\n",
       "      <td>51</td>\n",
       "      <td>male</td>\n",
       "      <td>2</td>\n",
       "      <td>free</td>\n",
       "      <td>little</td>\n",
       "      <td>rich</td>\n",
       "      <td>2892</td>\n",
       "      <td>24</td>\n",
       "      <td>furniture/equipment</td>\n",
       "    </tr>\n",
       "    <tr>\n",
       "      <th>820</th>\n",
       "      <td>820</td>\n",
       "      <td>27</td>\n",
       "      <td>male</td>\n",
       "      <td>2</td>\n",
       "      <td>own</td>\n",
       "      <td>little</td>\n",
       "      <td>NaN</td>\n",
       "      <td>1101</td>\n",
       "      <td>12</td>\n",
       "      <td>car</td>\n",
       "    </tr>\n",
       "  </tbody>\n",
       "</table>\n",
       "</div>"
      ],
      "text/plain": [
       "     Unnamed: 0  Age     Sex  Job Housing Saving accounts Checking account  \\\n",
       "712         712   46    male    3     own             NaN              NaN   \n",
       "544         544   61    male    1     own          little              NaN   \n",
       "986         986   33    male    2     own          little             rich   \n",
       "189         189   33  female    2     own          little         moderate   \n",
       "968         968   29    male    2    rent             NaN              NaN   \n",
       "223         223   32    male    2     own             NaN              NaN   \n",
       "495         495   20    male    2     own             NaN           little   \n",
       "366         366   27    male    2     own          little              NaN   \n",
       "793         793   51    male    2    free          little             rich   \n",
       "820         820   27    male    2     own          little              NaN   \n",
       "\n",
       "     Credit amount  Duration              Purpose  \n",
       "712           2476        21                  car  \n",
       "544           1255        12                  car  \n",
       "986           6289        42             business  \n",
       "189           3244        18  furniture/equipment  \n",
       "968           7166        42             radio/TV  \n",
       "223           2978        24             business  \n",
       "495           2996        24  furniture/equipment  \n",
       "366           3850        18                  car  \n",
       "793           2892        24  furniture/equipment  \n",
       "820           1101        12                  car  "
      ]
     },
     "execution_count": 6,
     "metadata": {},
     "output_type": "execute_result"
    }
   ],
   "source": [
    "df.sample(10)"
   ]
  },
  {
   "cell_type": "code",
   "execution_count": 7,
   "metadata": {},
   "outputs": [
    {
     "name": "stdout",
     "output_type": "stream",
     "text": [
      "<class 'pandas.core.frame.DataFrame'>\n",
      "RangeIndex: 1000 entries, 0 to 999\n",
      "Data columns (total 10 columns):\n",
      " #   Column            Non-Null Count  Dtype \n",
      "---  ------            --------------  ----- \n",
      " 0   Unnamed: 0        1000 non-null   int64 \n",
      " 1   Age               1000 non-null   int64 \n",
      " 2   Sex               1000 non-null   object\n",
      " 3   Job               1000 non-null   int64 \n",
      " 4   Housing           1000 non-null   object\n",
      " 5   Saving accounts   817 non-null    object\n",
      " 6   Checking account  606 non-null    object\n",
      " 7   Credit amount     1000 non-null   int64 \n",
      " 8   Duration          1000 non-null   int64 \n",
      " 9   Purpose           1000 non-null   object\n",
      "dtypes: int64(5), object(5)\n",
      "memory usage: 78.2+ KB\n"
     ]
    }
   ],
   "source": [
    "# ข้อที่ 3\n",
    "df.info()"
   ]
  },
  {
   "cell_type": "code",
   "execution_count": 8,
   "metadata": {},
   "outputs": [
    {
     "data": {
      "text/plain": [
       "<matplotlib.axes._subplots.AxesSubplot at 0x2c9d64194f0>"
      ]
     },
     "execution_count": 8,
     "metadata": {},
     "output_type": "execute_result"
    },
    {
     "data": {
      "image/png": "[encoded data removed]",
      "text/plain": [
       "<Figure size 864x864 with 1 Axes>"
      ]
     },
     "metadata": {
      "needs_background": "light"
     },
     "output_type": "display_data"
    }
   ],
   "source": [
    "fig = plt.figure(figsize=(12, 12))\n",
    "sns.heatmap(df.isnull(), cbar=False, cmap='Accent')"
   ]
  },
  {
   "cell_type": "code",
   "execution_count": 9,
   "metadata": {},
   "outputs": [],
   "source": [
    "## df.drop(['Checking account'], axis=1, inplace=True)"
   ]
  },
  {
   "cell_type": "code",
   "execution_count": 10,
   "metadata": {},
   "outputs": [],
   "source": [
    "df.dropna(inplace=True)"
   ]
  },
  {
   "cell_type": "code",
   "execution_count": 12,
   "metadata": {},
   "outputs": [],
   "source": [
    "df.drop(df.columns[0], inplace=True, axis=1)"
   ]
  },
  {
   "cell_type": "code",
   "execution_count": 13,
   "metadata": {},
   "outputs": [
    {
     "data": {
      "text/html": [
       "<div>\n",
       "<style scoped>\n",
       "    .dataframe tbody tr th:only-of-type {\n",
       "        vertical-align: middle;\n",
       "    }\n",
       "\n",
       "    .dataframe tbody tr th {\n",
       "        vertical-align: top;\n",
       "    }\n",
       "\n",
       "    .dataframe thead th {\n",
       "        text-align: right;\n",
       "    }\n",
       "</style>\n",
       "<table border=\"1\" class=\"dataframe\">\n",
       "  <thead>\n",
       "    <tr style=\"text-align: right;\">\n",
       "      <th></th>\n",
       "      <th>Age</th>\n",
       "      <th>Sex</th>\n",
       "      <th>Job</th>\n",
       "      <th>Housing</th>\n",
       "      <th>Saving accounts</th>\n",
       "      <th>Credit amount</th>\n",
       "      <th>Duration</th>\n",
       "      <th>Purpose</th>\n",
       "    </tr>\n",
       "  </thead>\n",
       "  <tbody>\n",
       "    <tr>\n",
       "      <th>1</th>\n",
       "      <td>22</td>\n",
       "      <td>female</td>\n",
       "      <td>2</td>\n",
       "      <td>own</td>\n",
       "      <td>little</td>\n",
       "      <td>5951</td>\n",
       "      <td>48</td>\n",
       "      <td>radio/TV</td>\n",
       "    </tr>\n",
       "    <tr>\n",
       "      <th>2</th>\n",
       "      <td>49</td>\n",
       "      <td>male</td>\n",
       "      <td>1</td>\n",
       "      <td>own</td>\n",
       "      <td>little</td>\n",
       "      <td>2096</td>\n",
       "      <td>12</td>\n",
       "      <td>education</td>\n",
       "    </tr>\n",
       "    <tr>\n",
       "      <th>3</th>\n",
       "      <td>45</td>\n",
       "      <td>male</td>\n",
       "      <td>2</td>\n",
       "      <td>free</td>\n",
       "      <td>little</td>\n",
       "      <td>7882</td>\n",
       "      <td>42</td>\n",
       "      <td>furniture/equipment</td>\n",
       "    </tr>\n",
       "    <tr>\n",
       "      <th>4</th>\n",
       "      <td>53</td>\n",
       "      <td>male</td>\n",
       "      <td>2</td>\n",
       "      <td>free</td>\n",
       "      <td>little</td>\n",
       "      <td>4870</td>\n",
       "      <td>24</td>\n",
       "      <td>car</td>\n",
       "    </tr>\n",
       "    <tr>\n",
       "      <th>6</th>\n",
       "      <td>53</td>\n",
       "      <td>male</td>\n",
       "      <td>2</td>\n",
       "      <td>own</td>\n",
       "      <td>quite rich</td>\n",
       "      <td>2835</td>\n",
       "      <td>24</td>\n",
       "      <td>furniture/equipment</td>\n",
       "    </tr>\n",
       "    <tr>\n",
       "      <th>...</th>\n",
       "      <td>...</td>\n",
       "      <td>...</td>\n",
       "      <td>...</td>\n",
       "      <td>...</td>\n",
       "      <td>...</td>\n",
       "      <td>...</td>\n",
       "      <td>...</td>\n",
       "      <td>...</td>\n",
       "    </tr>\n",
       "    <tr>\n",
       "      <th>995</th>\n",
       "      <td>31</td>\n",
       "      <td>female</td>\n",
       "      <td>1</td>\n",
       "      <td>own</td>\n",
       "      <td>little</td>\n",
       "      <td>1736</td>\n",
       "      <td>12</td>\n",
       "      <td>furniture/equipment</td>\n",
       "    </tr>\n",
       "    <tr>\n",
       "      <th>996</th>\n",
       "      <td>40</td>\n",
       "      <td>male</td>\n",
       "      <td>3</td>\n",
       "      <td>own</td>\n",
       "      <td>little</td>\n",
       "      <td>3857</td>\n",
       "      <td>30</td>\n",
       "      <td>car</td>\n",
       "    </tr>\n",
       "    <tr>\n",
       "      <th>997</th>\n",
       "      <td>38</td>\n",
       "      <td>male</td>\n",
       "      <td>2</td>\n",
       "      <td>own</td>\n",
       "      <td>little</td>\n",
       "      <td>804</td>\n",
       "      <td>12</td>\n",
       "      <td>radio/TV</td>\n",
       "    </tr>\n",
       "    <tr>\n",
       "      <th>998</th>\n",
       "      <td>23</td>\n",
       "      <td>male</td>\n",
       "      <td>2</td>\n",
       "      <td>free</td>\n",
       "      <td>little</td>\n",
       "      <td>1845</td>\n",
       "      <td>45</td>\n",
       "      <td>radio/TV</td>\n",
       "    </tr>\n",
       "    <tr>\n",
       "      <th>999</th>\n",
       "      <td>27</td>\n",
       "      <td>male</td>\n",
       "      <td>2</td>\n",
       "      <td>own</td>\n",
       "      <td>moderate</td>\n",
       "      <td>4576</td>\n",
       "      <td>45</td>\n",
       "      <td>car</td>\n",
       "    </tr>\n",
       "  </tbody>\n",
       "</table>\n",
       "<p>817 rows × 8 columns</p>\n",
       "</div>"
      ],
      "text/plain": [
       "     Age     Sex  Job Housing Saving accounts  Credit amount  Duration  \\\n",
       "1     22  female    2     own          little           5951        48   \n",
       "2     49    male    1     own          little           2096        12   \n",
       "3     45    male    2    free          little           7882        42   \n",
       "4     53    male    2    free          little           4870        24   \n",
       "6     53    male    2     own      quite rich           2835        24   \n",
       "..   ...     ...  ...     ...             ...            ...       ...   \n",
       "995   31  female    1     own          little           1736        12   \n",
       "996   40    male    3     own          little           3857        30   \n",
       "997   38    male    2     own          little            804        12   \n",
       "998   23    male    2    free          little           1845        45   \n",
       "999   27    male    2     own        moderate           4576        45   \n",
       "\n",
       "                 Purpose  \n",
       "1               radio/TV  \n",
       "2              education  \n",
       "3    furniture/equipment  \n",
       "4                    car  \n",
       "6    furniture/equipment  \n",
       "..                   ...  \n",
       "995  furniture/equipment  \n",
       "996                  car  \n",
       "997             radio/TV  \n",
       "998             radio/TV  \n",
       "999                  car  \n",
       "\n",
       "[817 rows x 8 columns]"
      ]
     },
     "execution_count": 13,
     "metadata": {},
     "output_type": "execute_result"
    }
   ],
   "source": [
    "df"
   ]
  },
  {
   "cell_type": "code",
   "execution_count": 14,
   "metadata": {},
   "outputs": [
    {
     "data": {
      "text/html": [
       "<div>\n",
       "<style scoped>\n",
       "    .dataframe tbody tr th:only-of-type {\n",
       "        vertical-align: middle;\n",
       "    }\n",
       "\n",
       "    .dataframe tbody tr th {\n",
       "        vertical-align: top;\n",
       "    }\n",
       "\n",
       "    .dataframe thead th {\n",
       "        text-align: right;\n",
       "    }\n",
       "</style>\n",
       "<table border=\"1\" class=\"dataframe\">\n",
       "  <thead>\n",
       "    <tr style=\"text-align: right;\">\n",
       "      <th></th>\n",
       "      <th>Age</th>\n",
       "      <th>Job</th>\n",
       "      <th>Credit amount</th>\n",
       "      <th>Duration</th>\n",
       "      <th>Sex_male</th>\n",
       "      <th>Housing_own</th>\n",
       "      <th>Housing_rent</th>\n",
       "      <th>Saving accounts_moderate</th>\n",
       "      <th>Saving accounts_quite rich</th>\n",
       "      <th>Saving accounts_rich</th>\n",
       "      <th>Purpose_car</th>\n",
       "      <th>Purpose_domestic appliances</th>\n",
       "      <th>Purpose_education</th>\n",
       "      <th>Purpose_furniture/equipment</th>\n",
       "      <th>Purpose_radio/TV</th>\n",
       "      <th>Purpose_repairs</th>\n",
       "      <th>Purpose_vacation/others</th>\n",
       "    </tr>\n",
       "  </thead>\n",
       "  <tbody>\n",
       "    <tr>\n",
       "      <th>1</th>\n",
       "      <td>22</td>\n",
       "      <td>2</td>\n",
       "      <td>5951</td>\n",
       "      <td>48</td>\n",
       "      <td>0</td>\n",
       "      <td>1</td>\n",
       "      <td>0</td>\n",
       "      <td>0</td>\n",
       "      <td>0</td>\n",
       "      <td>0</td>\n",
       "      <td>0</td>\n",
       "      <td>0</td>\n",
       "      <td>0</td>\n",
       "      <td>0</td>\n",
       "      <td>1</td>\n",
       "      <td>0</td>\n",
       "      <td>0</td>\n",
       "    </tr>\n",
       "    <tr>\n",
       "      <th>2</th>\n",
       "      <td>49</td>\n",
       "      <td>1</td>\n",
       "      <td>2096</td>\n",
       "      <td>12</td>\n",
       "      <td>1</td>\n",
       "      <td>1</td>\n",
       "      <td>0</td>\n",
       "      <td>0</td>\n",
       "      <td>0</td>\n",
       "      <td>0</td>\n",
       "      <td>0</td>\n",
       "      <td>0</td>\n",
       "      <td>1</td>\n",
       "      <td>0</td>\n",
       "      <td>0</td>\n",
       "      <td>0</td>\n",
       "      <td>0</td>\n",
       "    </tr>\n",
       "    <tr>\n",
       "      <th>3</th>\n",
       "      <td>45</td>\n",
       "      <td>2</td>\n",
       "      <td>7882</td>\n",
       "      <td>42</td>\n",
       "      <td>1</td>\n",
       "      <td>0</td>\n",
       "      <td>0</td>\n",
       "      <td>0</td>\n",
       "      <td>0</td>\n",
       "      <td>0</td>\n",
       "      <td>0</td>\n",
       "      <td>0</td>\n",
       "      <td>0</td>\n",
       "      <td>1</td>\n",
       "      <td>0</td>\n",
       "      <td>0</td>\n",
       "      <td>0</td>\n",
       "    </tr>\n",
       "    <tr>\n",
       "      <th>4</th>\n",
       "      <td>53</td>\n",
       "      <td>2</td>\n",
       "      <td>4870</td>\n",
       "      <td>24</td>\n",
       "      <td>1</td>\n",
       "      <td>0</td>\n",
       "      <td>0</td>\n",
       "      <td>0</td>\n",
       "      <td>0</td>\n",
       "      <td>0</td>\n",
       "      <td>1</td>\n",
       "      <td>0</td>\n",
       "      <td>0</td>\n",
       "      <td>0</td>\n",
       "      <td>0</td>\n",
       "      <td>0</td>\n",
       "      <td>0</td>\n",
       "    </tr>\n",
       "    <tr>\n",
       "      <th>6</th>\n",
       "      <td>53</td>\n",
       "      <td>2</td>\n",
       "      <td>2835</td>\n",
       "      <td>24</td>\n",
       "      <td>1</td>\n",
       "      <td>1</td>\n",
       "      <td>0</td>\n",
       "      <td>0</td>\n",
       "      <td>1</td>\n",
       "      <td>0</td>\n",
       "      <td>0</td>\n",
       "      <td>0</td>\n",
       "      <td>0</td>\n",
       "      <td>1</td>\n",
       "      <td>0</td>\n",
       "      <td>0</td>\n",
       "      <td>0</td>\n",
       "    </tr>\n",
       "    <tr>\n",
       "      <th>...</th>\n",
       "      <td>...</td>\n",
       "      <td>...</td>\n",
       "      <td>...</td>\n",
       "      <td>...</td>\n",
       "      <td>...</td>\n",
       "      <td>...</td>\n",
       "      <td>...</td>\n",
       "      <td>...</td>\n",
       "      <td>...</td>\n",
       "      <td>...</td>\n",
       "      <td>...</td>\n",
       "      <td>...</td>\n",
       "      <td>...</td>\n",
       "      <td>...</td>\n",
       "      <td>...</td>\n",
       "      <td>...</td>\n",
       "      <td>...</td>\n",
       "    </tr>\n",
       "    <tr>\n",
       "      <th>995</th>\n",
       "      <td>31</td>\n",
       "      <td>1</td>\n",
       "      <td>1736</td>\n",
       "      <td>12</td>\n",
       "      <td>0</td>\n",
       "      <td>1</td>\n",
       "      <td>0</td>\n",
       "      <td>0</td>\n",
       "      <td>0</td>\n",
       "      <td>0</td>\n",
       "      <td>0</td>\n",
       "      <td>0</td>\n",
       "      <td>0</td>\n",
       "      <td>1</td>\n",
       "      <td>0</td>\n",
       "      <td>0</td>\n",
       "      <td>0</td>\n",
       "    </tr>\n",
       "    <tr>\n",
       "      <th>996</th>\n",
       "      <td>40</td>\n",
       "      <td>3</td>\n",
       "      <td>3857</td>\n",
       "      <td>30</td>\n",
       "      <td>1</td>\n",
       "      <td>1</td>\n",
       "      <td>0</td>\n",
       "      <td>0</td>\n",
       "      <td>0</td>\n",
       "      <td>0</td>\n",
       "      <td>1</td>\n",
       "      <td>0</td>\n",
       "      <td>0</td>\n",
       "      <td>0</td>\n",
       "      <td>0</td>\n",
       "      <td>0</td>\n",
       "      <td>0</td>\n",
       "    </tr>\n",
       "    <tr>\n",
       "      <th>997</th>\n",
       "      <td>38</td>\n",
       "      <td>2</td>\n",
       "      <td>804</td>\n",
       "      <td>12</td>\n",
       "      <td>1</td>\n",
       "      <td>1</td>\n",
       "      <td>0</td>\n",
       "      <td>0</td>\n",
       "      <td>0</td>\n",
       "      <td>0</td>\n",
       "      <td>0</td>\n",
       "      <td>0</td>\n",
       "      <td>0</td>\n",
       "      <td>0</td>\n",
       "      <td>1</td>\n",
       "      <td>0</td>\n",
       "      <td>0</td>\n",
       "    </tr>\n",
       "    <tr>\n",
       "      <th>998</th>\n",
       "      <td>23</td>\n",
       "      <td>2</td>\n",
       "      <td>1845</td>\n",
       "      <td>45</td>\n",
       "      <td>1</td>\n",
       "      <td>0</td>\n",
       "      <td>0</td>\n",
       "      <td>0</td>\n",
       "      <td>0</td>\n",
       "      <td>0</td>\n",
       "      <td>0</td>\n",
       "      <td>0</td>\n",
       "      <td>0</td>\n",
       "      <td>0</td>\n",
       "      <td>1</td>\n",
       "      <td>0</td>\n",
       "      <td>0</td>\n",
       "    </tr>\n",
       "    <tr>\n",
       "      <th>999</th>\n",
       "      <td>27</td>\n",
       "      <td>2</td>\n",
       "      <td>4576</td>\n",
       "      <td>45</td>\n",
       "      <td>1</td>\n",
       "      <td>1</td>\n",
       "      <td>0</td>\n",
       "      <td>1</td>\n",
       "      <td>0</td>\n",
       "      <td>0</td>\n",
       "      <td>1</td>\n",
       "      <td>0</td>\n",
       "      <td>0</td>\n",
       "      <td>0</td>\n",
       "      <td>0</td>\n",
       "      <td>0</td>\n",
       "      <td>0</td>\n",
       "    </tr>\n",
       "  </tbody>\n",
       "</table>\n",
       "<p>817 rows × 17 columns</p>\n",
       "</div>"
      ],
      "text/plain": [
       "     Age  Job  Credit amount  Duration  Sex_male  Housing_own  Housing_rent  \\\n",
       "1     22    2           5951        48         0            1             0   \n",
       "2     49    1           2096        12         1            1             0   \n",
       "3     45    2           7882        42         1            0             0   \n",
       "4     53    2           4870        24         1            0             0   \n",
       "6     53    2           2835        24         1            1             0   \n",
       "..   ...  ...            ...       ...       ...          ...           ...   \n",
       "995   31    1           1736        12         0            1             0   \n",
       "996   40    3           3857        30         1            1             0   \n",
       "997   38    2            804        12         1            1             0   \n",
       "998   23    2           1845        45         1            0             0   \n",
       "999   27    2           4576        45         1            1             0   \n",
       "\n",
       "     Saving accounts_moderate  Saving accounts_quite rich  \\\n",
       "1                           0                           0   \n",
       "2                           0                           0   \n",
       "3                           0                           0   \n",
       "4                           0                           0   \n",
       "6                           0                           1   \n",
       "..                        ...                         ...   \n",
       "995                         0                           0   \n",
       "996                         0                           0   \n",
       "997                         0                           0   \n",
       "998                         0                           0   \n",
       "999                         1                           0   \n",
       "\n",
       "     Saving accounts_rich  Purpose_car  Purpose_domestic appliances  \\\n",
       "1                       0            0                            0   \n",
       "2                       0            0                            0   \n",
       "3                       0            0                            0   \n",
       "4                       0            1                            0   \n",
       "6                       0            0                            0   \n",
       "..                    ...          ...                          ...   \n",
       "995                     0            0                            0   \n",
       "996                     0            1                            0   \n",
       "997                     0            0                            0   \n",
       "998                     0            0                            0   \n",
       "999                     0            1                            0   \n",
       "\n",
       "     Purpose_education  Purpose_furniture/equipment  Purpose_radio/TV  \\\n",
       "1                    0                            0                 1   \n",
       "2                    1                            0                 0   \n",
       "3                    0                            1                 0   \n",
       "4                    0                            0                 0   \n",
       "6                    0                            1                 0   \n",
       "..                 ...                          ...               ...   \n",
       "995                  0                            1                 0   \n",
       "996                  0                            0                 0   \n",
       "997                  0                            0                 1   \n",
       "998                  0                            0                 1   \n",
       "999                  0                            0                 0   \n",
       "\n",
       "     Purpose_repairs  Purpose_vacation/others  \n",
       "1                  0                        0  \n",
       "2                  0                        0  \n",
       "3                  0                        0  \n",
       "4                  0                        0  \n",
       "6                  0                        0  \n",
       "..               ...                      ...  \n",
       "995                0                        0  \n",
       "996                0                        0  \n",
       "997                0                        0  \n",
       "998                0                        0  \n",
       "999                0                        0  \n",
       "\n",
       "[817 rows x 17 columns]"
      ]
     },
     "execution_count": 14,
     "metadata": {},
     "output_type": "execute_result"
    }
   ],
   "source": [
    "df2 = pd.get_dummies(df, drop_first=True)\n",
    "df2\n"
   ]
  },
  {
   "cell_type": "code",
   "execution_count": 15,
   "metadata": {},
   "outputs": [
    {
     "data": {
      "text/html": [
       "<div>\n",
       "<style scoped>\n",
       "    .dataframe tbody tr th:only-of-type {\n",
       "        vertical-align: middle;\n",
       "    }\n",
       "\n",
       "    .dataframe tbody tr th {\n",
       "        vertical-align: top;\n",
       "    }\n",
       "\n",
       "    .dataframe thead th {\n",
       "        text-align: right;\n",
       "    }\n",
       "</style>\n",
       "<table border=\"1\" class=\"dataframe\">\n",
       "  <thead>\n",
       "    <tr style=\"text-align: right;\">\n",
       "      <th></th>\n",
       "      <th>Age</th>\n",
       "      <th>Job</th>\n",
       "      <th>Credit amount</th>\n",
       "      <th>Duration</th>\n",
       "    </tr>\n",
       "  </thead>\n",
       "  <tbody>\n",
       "    <tr>\n",
       "      <th>count</th>\n",
       "      <td>817.000000</td>\n",
       "      <td>817.000000</td>\n",
       "      <td>817.000000</td>\n",
       "      <td>817.00000</td>\n",
       "    </tr>\n",
       "    <tr>\n",
       "      <th>mean</th>\n",
       "      <td>35.127295</td>\n",
       "      <td>1.894737</td>\n",
       "      <td>3128.990208</td>\n",
       "      <td>20.49694</td>\n",
       "    </tr>\n",
       "    <tr>\n",
       "      <th>std</th>\n",
       "      <td>11.348251</td>\n",
       "      <td>0.653935</td>\n",
       "      <td>2731.688353</td>\n",
       "      <td>11.84149</td>\n",
       "    </tr>\n",
       "    <tr>\n",
       "      <th>min</th>\n",
       "      <td>19.000000</td>\n",
       "      <td>0.000000</td>\n",
       "      <td>250.000000</td>\n",
       "      <td>4.00000</td>\n",
       "    </tr>\n",
       "    <tr>\n",
       "      <th>25%</th>\n",
       "      <td>26.000000</td>\n",
       "      <td>2.000000</td>\n",
       "      <td>1355.000000</td>\n",
       "      <td>12.00000</td>\n",
       "    </tr>\n",
       "    <tr>\n",
       "      <th>50%</th>\n",
       "      <td>32.000000</td>\n",
       "      <td>2.000000</td>\n",
       "      <td>2241.000000</td>\n",
       "      <td>18.00000</td>\n",
       "    </tr>\n",
       "    <tr>\n",
       "      <th>75%</th>\n",
       "      <td>41.000000</td>\n",
       "      <td>2.000000</td>\n",
       "      <td>3850.000000</td>\n",
       "      <td>24.00000</td>\n",
       "    </tr>\n",
       "    <tr>\n",
       "      <th>max</th>\n",
       "      <td>75.000000</td>\n",
       "      <td>3.000000</td>\n",
       "      <td>18424.000000</td>\n",
       "      <td>72.00000</td>\n",
       "    </tr>\n",
       "  </tbody>\n",
       "</table>\n",
       "</div>"
      ],
      "text/plain": [
       "              Age         Job  Credit amount   Duration\n",
       "count  817.000000  817.000000     817.000000  817.00000\n",
       "mean    35.127295    1.894737    3128.990208   20.49694\n",
       "std     11.348251    0.653935    2731.688353   11.84149\n",
       "min     19.000000    0.000000     250.000000    4.00000\n",
       "25%     26.000000    2.000000    1355.000000   12.00000\n",
       "50%     32.000000    2.000000    2241.000000   18.00000\n",
       "75%     41.000000    2.000000    3850.000000   24.00000\n",
       "max     75.000000    3.000000   18424.000000   72.00000"
      ]
     },
     "execution_count": 15,
     "metadata": {},
     "output_type": "execute_result"
    }
   ],
   "source": [
    "# ข้อที่ 4\n",
    "df.describe()"
   ]
  },
  {
   "cell_type": "code",
   "execution_count": 16,
   "metadata": {},
   "outputs": [
    {
     "data": {
      "text/plain": [
       "<seaborn.axisgrid.PairGrid at 0x2c9d642db50>"
      ]
     },
     "execution_count": 16,
     "metadata": {},
     "output_type": "execute_result"
    },
    {
     "data": {
      "image/png": "[encoded data removed]",
      "text/plain": [
       "<Figure size 720x720 with 20 Axes>"
      ]
     },
     "metadata": {
      "needs_background": "light"
     },
     "output_type": "display_data"
    }
   ],
   "source": [
    "# ข้อที่ 5\n",
    "sns.pairplot(df)"
   ]
  },
  {
   "cell_type": "code",
   "execution_count": 17,
   "metadata": {},
   "outputs": [
    {
     "data": {
      "text/plain": [
       "<matplotlib.axes._subplots.AxesSubplot at 0x2c9d6e79d60>"
      ]
     },
     "execution_count": 17,
     "metadata": {},
     "output_type": "execute_result"
    },
    {
     "data": {
      "image/png": "[encoded data removed]",
      "text/plain": [
       "<Figure size 720x720 with 1 Axes>"
      ]
     },
     "metadata": {
      "needs_background": "light"
     },
     "output_type": "display_data"
    }
   ],
   "source": [
    "# ข้อที่ 6\n",
    "fig = plt.figure(figsize=(10, 10))\n",
    "sns.distplot(df['Age'])"
   ]
  },
  {
   "cell_type": "code",
   "execution_count": 19,
   "metadata": {},
   "outputs": [
    {
     "name": "stderr",
     "output_type": "stream",
     "text": [
      "C:\\Users\\Admin\\anaconda3\\lib\\site-packages\\seaborn\\distributions.py:369: UserWarning: Default bandwidth for data is 0; skipping density estimation.\n",
      "  warnings.warn(msg, UserWarning)\n"
     ]
    },
    {
     "data": {
      "text/plain": [
       "<matplotlib.axes._subplots.AxesSubplot at 0x2c9d8e3ccd0>"
      ]
     },
     "execution_count": 19,
     "metadata": {},
     "output_type": "execute_result"
    },
    {
     "data": {
      "image/png": "[encoded data removed]",
      "text/plain": [
       "<Figure size 720x720 with 1 Axes>"
      ]
     },
     "metadata": {
      "needs_background": "light"
     },
     "output_type": "display_data"
    }
   ],
   "source": [
    "fig = plt.figure(figsize=(10, 10))\n",
    "sns.distplot(df['Job'])"
   ]
  },
  {
   "cell_type": "code",
   "execution_count": 21,
   "metadata": {},
   "outputs": [
    {
     "data": {
      "text/plain": [
       "<matplotlib.axes._subplots.AxesSubplot at 0x2c9d94b9910>"
      ]
     },
     "execution_count": 21,
     "metadata": {},
     "output_type": "execute_result"
    },
    {
     "data": {
      "image/png": "[encoded data removed]",
      "text/plain": [
       "<Figure size 720x720 with 1 Axes>"
      ]
     },
     "metadata": {
      "needs_background": "light"
     },
     "output_type": "display_data"
    }
   ],
   "source": [
    "fig = plt.figure(figsize=(10, 10))\n",
    "sns.distplot(df['Credit amount'])"
   ]
  },
  {
   "cell_type": "code",
   "execution_count": 22,
   "metadata": {},
   "outputs": [
    {
     "data": {
      "text/plain": [
       "<matplotlib.axes._subplots.AxesSubplot at 0x2c9d983c340>"
      ]
     },
     "execution_count": 22,
     "metadata": {},
     "output_type": "execute_result"
    },
    {
     "data": {
      "image/png": "[encoded data removed]",
      "text/plain": [
       "<Figure size 720x720 with 1 Axes>"
      ]
     },
     "metadata": {
      "needs_background": "light"
     },
     "output_type": "display_data"
    }
   ],
   "source": [
    "fig = plt.figure(figsize=(10, 10))\n",
    "sns.distplot(df['Duration'])"
   ]
  },
  {
   "cell_type": "code",
   "execution_count": 23,
   "metadata": {},
   "outputs": [
    {
     "data": {
      "text/plain": [
       "<matplotlib.axes._subplots.AxesSubplot at 0x2c9d6efab20>"
      ]
     },
     "execution_count": 23,
     "metadata": {},
     "output_type": "execute_result"
    },
    {
     "data": {
      "image/png": "[encoded data removed]",
      "text/plain": [
       "<Figure size 864x576 with 2 Axes>"
      ]
     },
     "metadata": {
      "needs_background": "light"
     },
     "output_type": "display_data"
    }
   ],
   "source": [
    "# ข้อที่ 7\n",
    "fig = plt.figure(figsize=(12, 8))\n",
    "sns.heatmap(df.corr())"
   ]
  },
  {
   "cell_type": "code",
   "execution_count": 25,
   "metadata": {},
   "outputs": [
    {
     "data": {
      "text/plain": [
       "<matplotlib.axes._subplots.AxesSubplot at 0x2c9d9c718b0>"
      ]
     },
     "execution_count": 25,
     "metadata": {},
     "output_type": "execute_result"
    },
    {
     "data": {
      "image/png": "[encoded data removed]",
      "text/plain": [
       "<Figure size 576x432 with 1 Axes>"
      ]
     },
     "metadata": {
      "needs_background": "light"
     },
     "output_type": "display_data"
    }
   ],
   "source": [
    "# ข้อที่ 8\n",
    "fig = plt.figure(figsize=(8,6))\n",
    "sns.scatterplot(data=df,x='Credit amount',y='Duration', hue= df['Housing'])\n"
   ]
  },
  {
   "cell_type": "code",
   "execution_count": 26,
   "metadata": {},
   "outputs": [
    {
     "data": {
      "text/plain": [
       "<matplotlib.axes._subplots.AxesSubplot at 0x2c9d9c974f0>"
      ]
     },
     "execution_count": 26,
     "metadata": {},
     "output_type": "execute_result"
    },
    {
     "data": {
      "image/png": "[encoded data removed]",
      "text/plain": [
       "<Figure size 576x432 with 1 Axes>"
      ]
     },
     "metadata": {
      "needs_background": "light"
     },
     "output_type": "display_data"
    }
   ],
   "source": [
    "# ข้อที่ 9\n",
    "fig = plt.figure(figsize=(8,6))\n",
    "sns.scatterplot(data=df,x='Age',y='Job', hue= df['Housing'])"
   ]
  },
  {
   "cell_type": "code",
   "execution_count": 27,
   "metadata": {},
   "outputs": [
    {
     "data": {
      "image/png": "[encoded data removed]",
      "text/plain": [
       "<Figure size 432x288 with 1 Axes>"
      ]
     },
     "metadata": {
      "needs_background": "light"
     },
     "output_type": "display_data"
    }
   ],
   "source": [
    "# ข้อที่10\n",
    "plt.hist(df['Job'])\n",
    "plt.show()"
   ]
  },
  {
   "cell_type": "code",
   "execution_count": 29,
   "metadata": {},
   "outputs": [
    {
     "data": {
      "image/png": "[encoded data removed]",
      "text/plain": [
       "<Figure size 432x288 with 1 Axes>"
      ]
     },
     "metadata": {
      "needs_background": "light"
     },
     "output_type": "display_data"
    }
   ],
   "source": [
    "plt.hist(df['Age'])\n",
    "plt.show()"
   ]
  },
  {
   "cell_type": "code",
   "execution_count": 30,
   "metadata": {},
   "outputs": [
    {
     "data": {
      "image/png": "[encoded data removed]",
      "text/plain": [
       "<Figure size 432x288 with 1 Axes>"
      ]
     },
     "metadata": {
      "needs_background": "light"
     },
     "output_type": "display_data"
    }
   ],
   "source": [
    "plt.hist(df['Housing'])\n",
    "plt.show()"
   ]
  },
  {
   "cell_type": "code",
   "execution_count": 31,
   "metadata": {},
   "outputs": [
    {
     "data": {
      "image/png": "[encoded data removed]",
      "text/plain": [
       "<Figure size 432x288 with 1 Axes>"
      ]
     },
     "metadata": {
      "needs_background": "light"
     },
     "output_type": "display_data"
    }
   ],
   "source": [
    "plt.hist(df['Credit amount'])\n",
    "plt.show()"
   ]
  },
  {
   "cell_type": "code",
   "execution_count": 32,
   "metadata": {},
   "outputs": [
    {
     "data": {
      "text/plain": [
       "<matplotlib.axes._subplots.AxesSubplot at 0x2c9d8cae2b0>"
      ]
     },
     "execution_count": 32,
     "metadata": {},
     "output_type": "execute_result"
    },
    {
     "data": {
      "image/png": "[encoded data removed]",
      "text/plain": [
       "<Figure size 864x576 with 1 Axes>"
      ]
     },
     "metadata": {
      "needs_background": "light"
     },
     "output_type": "display_data"
    }
   ],
   "source": [
    "# ข้อที่ 11\n",
    "fig = plt.figure(figsize=(12, 8))\n",
    "sns.boxplot(df['Age'], orient='v')\n"
   ]
  },
  {
   "cell_type": "code",
   "execution_count": 33,
   "metadata": {},
   "outputs": [
    {
     "data": {
      "text/plain": [
       "<matplotlib.axes._subplots.AxesSubplot at 0x2c9db00a520>"
      ]
     },
     "execution_count": 33,
     "metadata": {},
     "output_type": "execute_result"
    },
    {
     "data": {
      "image/png": "[encoded data removed]",
      "text/plain": [
       "<Figure size 864x576 with 1 Axes>"
      ]
     },
     "metadata": {
      "needs_background": "light"
     },
     "output_type": "display_data"
    }
   ],
   "source": [
    "fig = plt.figure(figsize=(12, 8))\n",
    "sns.boxplot(df['Credit amount'], orient='v')"
   ]
  },
  {
   "cell_type": "code",
   "execution_count": 34,
   "metadata": {},
   "outputs": [
    {
     "data": {
      "text/plain": [
       "<matplotlib.axes._subplots.AxesSubplot at 0x2c9d943e490>"
      ]
     },
     "execution_count": 34,
     "metadata": {},
     "output_type": "execute_result"
    },
    {
     "data": {
      "image/png": "[encoded data removed]",
      "text/plain": [
       "<Figure size 864x576 with 1 Axes>"
      ]
     },
     "metadata": {
      "needs_background": "light"
     },
     "output_type": "display_data"
    }
   ],
   "source": [
    "fig = plt.figure(figsize=(12, 8))\n",
    "sns.boxplot(df['Duration'], orient='v')"
   ]
  },
  {
   "cell_type": "code",
   "execution_count": 36,
   "metadata": {},
   "outputs": [
    {
     "data": {
      "text/html": [
       "<div>\n",
       "<style scoped>\n",
       "    .dataframe tbody tr th:only-of-type {\n",
       "        vertical-align: middle;\n",
       "    }\n",
       "\n",
       "    .dataframe tbody tr th {\n",
       "        vertical-align: top;\n",
       "    }\n",
       "\n",
       "    .dataframe thead th {\n",
       "        text-align: right;\n",
       "    }\n",
       "</style>\n",
       "<table border=\"1\" class=\"dataframe\">\n",
       "  <thead>\n",
       "    <tr style=\"text-align: right;\">\n",
       "      <th></th>\n",
       "      <th>Age</th>\n",
       "      <th>Job</th>\n",
       "      <th>Credit amount</th>\n",
       "      <th>Duration</th>\n",
       "      <th>Sex_male</th>\n",
       "      <th>Housing_own</th>\n",
       "      <th>Housing_rent</th>\n",
       "      <th>Saving accounts_moderate</th>\n",
       "      <th>Saving accounts_quite rich</th>\n",
       "      <th>Saving accounts_rich</th>\n",
       "      <th>Purpose_car</th>\n",
       "      <th>Purpose_domestic appliances</th>\n",
       "      <th>Purpose_education</th>\n",
       "      <th>Purpose_furniture/equipment</th>\n",
       "      <th>Purpose_radio/TV</th>\n",
       "      <th>Purpose_repairs</th>\n",
       "      <th>Purpose_vacation/others</th>\n",
       "    </tr>\n",
       "  </thead>\n",
       "  <tbody>\n",
       "    <tr>\n",
       "      <th>1</th>\n",
       "      <td>22</td>\n",
       "      <td>2</td>\n",
       "      <td>5951</td>\n",
       "      <td>48</td>\n",
       "      <td>0</td>\n",
       "      <td>1</td>\n",
       "      <td>0</td>\n",
       "      <td>0</td>\n",
       "      <td>0</td>\n",
       "      <td>0</td>\n",
       "      <td>0</td>\n",
       "      <td>0</td>\n",
       "      <td>0</td>\n",
       "      <td>0</td>\n",
       "      <td>1</td>\n",
       "      <td>0</td>\n",
       "      <td>0</td>\n",
       "    </tr>\n",
       "    <tr>\n",
       "      <th>2</th>\n",
       "      <td>49</td>\n",
       "      <td>1</td>\n",
       "      <td>2096</td>\n",
       "      <td>12</td>\n",
       "      <td>1</td>\n",
       "      <td>1</td>\n",
       "      <td>0</td>\n",
       "      <td>0</td>\n",
       "      <td>0</td>\n",
       "      <td>0</td>\n",
       "      <td>0</td>\n",
       "      <td>0</td>\n",
       "      <td>1</td>\n",
       "      <td>0</td>\n",
       "      <td>0</td>\n",
       "      <td>0</td>\n",
       "      <td>0</td>\n",
       "    </tr>\n",
       "    <tr>\n",
       "      <th>3</th>\n",
       "      <td>45</td>\n",
       "      <td>2</td>\n",
       "      <td>7882</td>\n",
       "      <td>42</td>\n",
       "      <td>1</td>\n",
       "      <td>0</td>\n",
       "      <td>0</td>\n",
       "      <td>0</td>\n",
       "      <td>0</td>\n",
       "      <td>0</td>\n",
       "      <td>0</td>\n",
       "      <td>0</td>\n",
       "      <td>0</td>\n",
       "      <td>1</td>\n",
       "      <td>0</td>\n",
       "      <td>0</td>\n",
       "      <td>0</td>\n",
       "    </tr>\n",
       "    <tr>\n",
       "      <th>4</th>\n",
       "      <td>53</td>\n",
       "      <td>2</td>\n",
       "      <td>4870</td>\n",
       "      <td>24</td>\n",
       "      <td>1</td>\n",
       "      <td>0</td>\n",
       "      <td>0</td>\n",
       "      <td>0</td>\n",
       "      <td>0</td>\n",
       "      <td>0</td>\n",
       "      <td>1</td>\n",
       "      <td>0</td>\n",
       "      <td>0</td>\n",
       "      <td>0</td>\n",
       "      <td>0</td>\n",
       "      <td>0</td>\n",
       "      <td>0</td>\n",
       "    </tr>\n",
       "    <tr>\n",
       "      <th>6</th>\n",
       "      <td>53</td>\n",
       "      <td>2</td>\n",
       "      <td>2835</td>\n",
       "      <td>24</td>\n",
       "      <td>1</td>\n",
       "      <td>1</td>\n",
       "      <td>0</td>\n",
       "      <td>0</td>\n",
       "      <td>1</td>\n",
       "      <td>0</td>\n",
       "      <td>0</td>\n",
       "      <td>0</td>\n",
       "      <td>0</td>\n",
       "      <td>1</td>\n",
       "      <td>0</td>\n",
       "      <td>0</td>\n",
       "      <td>0</td>\n",
       "    </tr>\n",
       "    <tr>\n",
       "      <th>...</th>\n",
       "      <td>...</td>\n",
       "      <td>...</td>\n",
       "      <td>...</td>\n",
       "      <td>...</td>\n",
       "      <td>...</td>\n",
       "      <td>...</td>\n",
       "      <td>...</td>\n",
       "      <td>...</td>\n",
       "      <td>...</td>\n",
       "      <td>...</td>\n",
       "      <td>...</td>\n",
       "      <td>...</td>\n",
       "      <td>...</td>\n",
       "      <td>...</td>\n",
       "      <td>...</td>\n",
       "      <td>...</td>\n",
       "      <td>...</td>\n",
       "    </tr>\n",
       "    <tr>\n",
       "      <th>995</th>\n",
       "      <td>31</td>\n",
       "      <td>1</td>\n",
       "      <td>1736</td>\n",
       "      <td>12</td>\n",
       "      <td>0</td>\n",
       "      <td>1</td>\n",
       "      <td>0</td>\n",
       "      <td>0</td>\n",
       "      <td>0</td>\n",
       "      <td>0</td>\n",
       "      <td>0</td>\n",
       "      <td>0</td>\n",
       "      <td>0</td>\n",
       "      <td>1</td>\n",
       "      <td>0</td>\n",
       "      <td>0</td>\n",
       "      <td>0</td>\n",
       "    </tr>\n",
       "    <tr>\n",
       "      <th>996</th>\n",
       "      <td>40</td>\n",
       "      <td>3</td>\n",
       "      <td>3857</td>\n",
       "      <td>30</td>\n",
       "      <td>1</td>\n",
       "      <td>1</td>\n",
       "      <td>0</td>\n",
       "      <td>0</td>\n",
       "      <td>0</td>\n",
       "      <td>0</td>\n",
       "      <td>1</td>\n",
       "      <td>0</td>\n",
       "      <td>0</td>\n",
       "      <td>0</td>\n",
       "      <td>0</td>\n",
       "      <td>0</td>\n",
       "      <td>0</td>\n",
       "    </tr>\n",
       "    <tr>\n",
       "      <th>997</th>\n",
       "      <td>38</td>\n",
       "      <td>2</td>\n",
       "      <td>804</td>\n",
       "      <td>12</td>\n",
       "      <td>1</td>\n",
       "      <td>1</td>\n",
       "      <td>0</td>\n",
       "      <td>0</td>\n",
       "      <td>0</td>\n",
       "      <td>0</td>\n",
       "      <td>0</td>\n",
       "      <td>0</td>\n",
       "      <td>0</td>\n",
       "      <td>0</td>\n",
       "      <td>1</td>\n",
       "      <td>0</td>\n",
       "      <td>0</td>\n",
       "    </tr>\n",
       "    <tr>\n",
       "      <th>998</th>\n",
       "      <td>23</td>\n",
       "      <td>2</td>\n",
       "      <td>1845</td>\n",
       "      <td>45</td>\n",
       "      <td>1</td>\n",
       "      <td>0</td>\n",
       "      <td>0</td>\n",
       "      <td>0</td>\n",
       "      <td>0</td>\n",
       "      <td>0</td>\n",
       "      <td>0</td>\n",
       "      <td>0</td>\n",
       "      <td>0</td>\n",
       "      <td>0</td>\n",
       "      <td>1</td>\n",
       "      <td>0</td>\n",
       "      <td>0</td>\n",
       "    </tr>\n",
       "    <tr>\n",
       "      <th>999</th>\n",
       "      <td>27</td>\n",
       "      <td>2</td>\n",
       "      <td>4576</td>\n",
       "      <td>45</td>\n",
       "      <td>1</td>\n",
       "      <td>1</td>\n",
       "      <td>0</td>\n",
       "      <td>1</td>\n",
       "      <td>0</td>\n",
       "      <td>0</td>\n",
       "      <td>1</td>\n",
       "      <td>0</td>\n",
       "      <td>0</td>\n",
       "      <td>0</td>\n",
       "      <td>0</td>\n",
       "      <td>0</td>\n",
       "      <td>0</td>\n",
       "    </tr>\n",
       "  </tbody>\n",
       "</table>\n",
       "<p>817 rows × 17 columns</p>\n",
       "</div>"
      ],
      "text/plain": [
       "     Age  Job  Credit amount  Duration  Sex_male  Housing_own  Housing_rent  \\\n",
       "1     22    2           5951        48         0            1             0   \n",
       "2     49    1           2096        12         1            1             0   \n",
       "3     45    2           7882        42         1            0             0   \n",
       "4     53    2           4870        24         1            0             0   \n",
       "6     53    2           2835        24         1            1             0   \n",
       "..   ...  ...            ...       ...       ...          ...           ...   \n",
       "995   31    1           1736        12         0            1             0   \n",
       "996   40    3           3857        30         1            1             0   \n",
       "997   38    2            804        12         1            1             0   \n",
       "998   23    2           1845        45         1            0             0   \n",
       "999   27    2           4576        45         1            1             0   \n",
       "\n",
       "     Saving accounts_moderate  Saving accounts_quite rich  \\\n",
       "1                           0                           0   \n",
       "2                           0                           0   \n",
       "3                           0                           0   \n",
       "4                           0                           0   \n",
       "6                           0                           1   \n",
       "..                        ...                         ...   \n",
       "995                         0                           0   \n",
       "996                         0                           0   \n",
       "997                         0                           0   \n",
       "998                         0                           0   \n",
       "999                         1                           0   \n",
       "\n",
       "     Saving accounts_rich  Purpose_car  Purpose_domestic appliances  \\\n",
       "1                       0            0                            0   \n",
       "2                       0            0                            0   \n",
       "3                       0            0                            0   \n",
       "4                       0            1                            0   \n",
       "6                       0            0                            0   \n",
       "..                    ...          ...                          ...   \n",
       "995                     0            0                            0   \n",
       "996                     0            1                            0   \n",
       "997                     0            0                            0   \n",
       "998                     0            0                            0   \n",
       "999                     0            1                            0   \n",
       "\n",
       "     Purpose_education  Purpose_furniture/equipment  Purpose_radio/TV  \\\n",
       "1                    0                            0                 1   \n",
       "2                    1                            0                 0   \n",
       "3                    0                            1                 0   \n",
       "4                    0                            0                 0   \n",
       "6                    0                            1                 0   \n",
       "..                 ...                          ...               ...   \n",
       "995                  0                            1                 0   \n",
       "996                  0                            0                 0   \n",
       "997                  0                            0                 1   \n",
       "998                  0                            0                 1   \n",
       "999                  0                            0                 0   \n",
       "\n",
       "     Purpose_repairs  Purpose_vacation/others  \n",
       "1                  0                        0  \n",
       "2                  0                        0  \n",
       "3                  0                        0  \n",
       "4                  0                        0  \n",
       "6                  0                        0  \n",
       "..               ...                      ...  \n",
       "995                0                        0  \n",
       "996                0                        0  \n",
       "997                0                        0  \n",
       "998                0                        0  \n",
       "999                0                        0  \n",
       "\n",
       "[817 rows x 17 columns]"
      ]
     },
     "execution_count": 36,
     "metadata": {},
     "output_type": "execute_result"
    }
   ],
   "source": [
    "# ข้อที่ 12\n",
    "from sklearn.model_selection import train_test_split\n",
    "\n",
    "df2"
   ]
  },
  {
   "cell_type": "code",
   "execution_count": 37,
   "metadata": {},
   "outputs": [],
   "source": [
    "x = df2.drop(['Saving accounts_moderate','Saving accounts_quite rich', 'Saving accounts_rich'], axis=1)\n",
    "y = df2['Saving accounts_rich']\n",
    "\n",
    "x_train, x_test, y_train, y_test = train_test_split(x, y, test_size=0.2, random_state=25)"
   ]
  },
  {
   "cell_type": "code",
   "execution_count": 38,
   "metadata": {},
   "outputs": [
    {
     "name": "stdout",
     "output_type": "stream",
     "text": [
      "(653, 14)\n",
      "(164, 14)\n",
      "(653,)\n",
      "(164,)\n"
     ]
    }
   ],
   "source": [
    "print(x_train.shape)\n",
    "print(x_test.shape)\n",
    "print(y_train.shape)\n",
    "print(y_test.shape)"
   ]
  },
  {
   "cell_type": "code",
   "execution_count": 39,
   "metadata": {},
   "outputs": [
    {
     "data": {
      "text/plain": [
       "RandomForestClassifier()"
      ]
     },
     "execution_count": 39,
     "metadata": {},
     "output_type": "execute_result"
    }
   ],
   "source": [
    "from sklearn.ensemble import RandomForestClassifier\n",
    "rf = RandomForestClassifier()\n",
    "\n",
    "rf.fit(x_train, y_train)"
   ]
  },
  {
   "cell_type": "code",
   "execution_count": 40,
   "metadata": {},
   "outputs": [
    {
     "data": {
      "text/plain": [
       "array([0, 0, 0, 0, 0, 0, 0, 0, 0, 0, 0, 0, 0, 0, 0, 0, 0, 0, 0, 0, 0, 0,\n",
       "       0, 0, 0, 0, 0, 0, 0, 0, 0, 0, 0, 0, 0, 0, 0, 0, 0, 0, 0, 0, 0, 0,\n",
       "       0, 0, 0, 0, 0, 0, 0, 0, 0, 0, 0, 0, 0, 0, 0, 0, 0, 0, 0, 0, 0, 0,\n",
       "       0, 0, 0, 1, 0, 0, 0, 0, 0, 0, 0, 0, 0, 0, 0, 0, 0, 0, 0, 0, 0, 0,\n",
       "       0, 0, 0, 0, 0, 0, 0, 0, 0, 0, 0, 0, 0, 0, 0, 0, 0, 0, 0, 0, 0, 0,\n",
       "       0, 0, 0, 0, 0, 0, 0, 0, 0, 0, 0, 0, 0, 0, 0, 0, 0, 0, 0, 0, 0, 0,\n",
       "       0, 0, 0, 0, 0, 0, 0, 0, 0, 0, 0, 0, 0, 0, 0, 0, 0, 0, 0, 0, 0, 0,\n",
       "       0, 0, 0, 0, 0, 0, 0, 0, 0, 0], dtype=uint8)"
      ]
     },
     "execution_count": 40,
     "metadata": {},
     "output_type": "execute_result"
    }
   ],
   "source": [
    "predicted = rf.predict(x_test)\n",
    "predicted"
   ]
  },
  {
   "cell_type": "code",
   "execution_count": 41,
   "metadata": {},
   "outputs": [
    {
     "data": {
      "text/plain": [
       "array([[159,   1],\n",
       "       [  4,   0]], dtype=int64)"
      ]
     },
     "execution_count": 41,
     "metadata": {},
     "output_type": "execute_result"
    }
   ],
   "source": [
    "from sklearn.metrics import accuracy_score, f1_score, precision_score, recall_score\n",
    "from sklearn.metrics import confusion_matrix\n",
    "\n",
    "confusion_matrix(y_test, predicted)"
   ]
  },
  {
   "cell_type": "code",
   "execution_count": 42,
   "metadata": {},
   "outputs": [
    {
     "name": "stdout",
     "output_type": "stream",
     "text": [
      "Accuracy =  0.9695121951219512\n",
      "F1 score =  0.9695121951219512\n",
      "Precision =  0.9695121951219512\n",
      "Recall =  0.9695121951219512\n"
     ]
    }
   ],
   "source": [
    "print('Accuracy = ', accuracy_score(y_test, predicted))\n",
    "print('F1 score = ', f1_score(y_test, predicted, average='micro'))\n",
    "print('Precision = ', precision_score(y_test, predicted, average='micro'))\n",
    "print('Recall = ', recall_score(y_test, predicted, average='micro'))"
   ]
  },
  {
   "cell_type": "code",
   "execution_count": 43,
   "metadata": {},
   "outputs": [
    {
     "data": {
      "text/plain": [
       "<matplotlib.axes._subplots.AxesSubplot at 0x2c9d8ba7880>"
      ]
     },
     "execution_count": 43,
     "metadata": {},
     "output_type": "execute_result"
    },
    {
     "data": {
      "image/png": "[encoded data removed]",
      "text/plain": [
       "<Figure size 864x576 with 1 Axes>"
      ]
     },
     "metadata": {
      "needs_background": "light"
     },
     "output_type": "display_data"
    }
   ],
   "source": [
    "# ข้อที่ 13\n",
    "fig = plt.figure(figsize=(12, 8))\n",
    "sns.countplot(x='Age', data=df, palette='rainbow_r', hue='Saving accounts')"
   ]
  },
  {
   "cell_type": "code",
   "execution_count": 44,
   "metadata": {},
   "outputs": [
    {
     "data": {
      "text/plain": [
       "<matplotlib.axes._subplots.AxesSubplot at 0x2c9dbdb4070>"
      ]
     },
     "execution_count": 44,
     "metadata": {},
     "output_type": "execute_result"
    },
    {
     "data": {
      "image/png": "[encoded data removed]",
      "text/plain": [
       "<Figure size 864x576 with 1 Axes>"
      ]
     },
     "metadata": {
      "needs_background": "light"
     },
     "output_type": "display_data"
    }
   ],
   "source": [
    "fig = plt.figure(figsize=(12, 8))\n",
    "sns.countplot(x='Saving accounts', data=df, palette='rainbow_r', hue='Job')"
   ]
  },
  {
   "cell_type": "code",
   "execution_count": 45,
   "metadata": {},
   "outputs": [],
   "source": [
    "# ข้อที่ 14\n",
    "#ไม่ควรใช้ Standardization เพราะ feature ไม่ได้เป็น normal distribution"
   ]
  },
  {
   "cell_type": "code",
   "execution_count": 48,
   "metadata": {},
   "outputs": [
    {
     "data": {
      "text/plain": [
       "(653, 14)"
      ]
     },
     "execution_count": 48,
     "metadata": {},
     "output_type": "execute_result"
    }
   ],
   "source": [
    "x_train, x_test, y_train, y_test = train_test_split(x, y, test_size=0.2, random_state=25)\n",
    "\n",
    "from sklearn.preprocessing import MinMaxScaler\n",
    "\n",
    "min_max_scaler = MinMaxScaler()\n",
    "\n",
    "x_train = min_max_scaler.fit_transform(x_train)\n",
    "x_train.shape"
   ]
  },
  {
   "cell_type": "code",
   "execution_count": 51,
   "metadata": {},
   "outputs": [
    {
     "data": {
      "text/plain": [
       "array([[0.74545455, 0.66666667, 0.09805216, ..., 0.        , 0.        ,\n",
       "        0.        ],\n",
       "       [0.30909091, 0.66666667, 0.38775173, ..., 0.        , 0.        ,\n",
       "        0.        ],\n",
       "       [0.30909091, 0.66666667, 0.0809398 , ..., 0.        , 0.        ,\n",
       "        0.        ],\n",
       "       ...,\n",
       "       [0.14545455, 0.66666667, 0.14746341, ..., 1.        , 0.        ,\n",
       "        0.        ],\n",
       "       [0.14545455, 0.66666667, 0.06597337, ..., 0.        , 0.        ,\n",
       "        0.        ],\n",
       "       [0.92727273, 1.        , 0.38835699, ..., 0.        , 0.        ,\n",
       "        0.        ]])"
      ]
     },
     "execution_count": 51,
     "metadata": {},
     "output_type": "execute_result"
    }
   ],
   "source": [
    "x_train"
   ]
  },
  {
   "cell_type": "code",
   "execution_count": 52,
   "metadata": {},
   "outputs": [
    {
     "data": {
      "text/html": [
       "<div>\n",
       "<style scoped>\n",
       "    .dataframe tbody tr th:only-of-type {\n",
       "        vertical-align: middle;\n",
       "    }\n",
       "\n",
       "    .dataframe tbody tr th {\n",
       "        vertical-align: top;\n",
       "    }\n",
       "\n",
       "    .dataframe thead th {\n",
       "        text-align: right;\n",
       "    }\n",
       "</style>\n",
       "<table border=\"1\" class=\"dataframe\">\n",
       "  <thead>\n",
       "    <tr style=\"text-align: right;\">\n",
       "      <th></th>\n",
       "      <th>Age</th>\n",
       "      <th>Job</th>\n",
       "      <th>Credit amount</th>\n",
       "      <th>Duration</th>\n",
       "      <th>Sex_male</th>\n",
       "      <th>Housing_own</th>\n",
       "      <th>Housing_rent</th>\n",
       "      <th>Purpose_car</th>\n",
       "      <th>Purpose_domestic appliances</th>\n",
       "      <th>Purpose_education</th>\n",
       "      <th>Purpose_furniture/equipment</th>\n",
       "      <th>Purpose_radio/TV</th>\n",
       "      <th>Purpose_repairs</th>\n",
       "      <th>Purpose_vacation/others</th>\n",
       "    </tr>\n",
       "  </thead>\n",
       "  <tbody>\n",
       "    <tr>\n",
       "      <th>0</th>\n",
       "      <td>0.745455</td>\n",
       "      <td>0.666667</td>\n",
       "      <td>0.098052</td>\n",
       "      <td>0.294118</td>\n",
       "      <td>1.0</td>\n",
       "      <td>0.0</td>\n",
       "      <td>0.0</td>\n",
       "      <td>1.0</td>\n",
       "      <td>0.0</td>\n",
       "      <td>0.0</td>\n",
       "      <td>0.0</td>\n",
       "      <td>0.0</td>\n",
       "      <td>0.0</td>\n",
       "      <td>0.0</td>\n",
       "    </tr>\n",
       "    <tr>\n",
       "      <th>1</th>\n",
       "      <td>0.309091</td>\n",
       "      <td>0.666667</td>\n",
       "      <td>0.387752</td>\n",
       "      <td>0.823529</td>\n",
       "      <td>1.0</td>\n",
       "      <td>0.0</td>\n",
       "      <td>1.0</td>\n",
       "      <td>0.0</td>\n",
       "      <td>0.0</td>\n",
       "      <td>0.0</td>\n",
       "      <td>0.0</td>\n",
       "      <td>0.0</td>\n",
       "      <td>0.0</td>\n",
       "      <td>0.0</td>\n",
       "    </tr>\n",
       "    <tr>\n",
       "      <th>2</th>\n",
       "      <td>0.309091</td>\n",
       "      <td>0.666667</td>\n",
       "      <td>0.080940</td>\n",
       "      <td>0.161765</td>\n",
       "      <td>1.0</td>\n",
       "      <td>1.0</td>\n",
       "      <td>0.0</td>\n",
       "      <td>1.0</td>\n",
       "      <td>0.0</td>\n",
       "      <td>0.0</td>\n",
       "      <td>0.0</td>\n",
       "      <td>0.0</td>\n",
       "      <td>0.0</td>\n",
       "      <td>0.0</td>\n",
       "    </tr>\n",
       "    <tr>\n",
       "      <th>3</th>\n",
       "      <td>0.800000</td>\n",
       "      <td>0.333333</td>\n",
       "      <td>0.077308</td>\n",
       "      <td>0.117647</td>\n",
       "      <td>1.0</td>\n",
       "      <td>1.0</td>\n",
       "      <td>0.0</td>\n",
       "      <td>0.0</td>\n",
       "      <td>0.0</td>\n",
       "      <td>0.0</td>\n",
       "      <td>0.0</td>\n",
       "      <td>1.0</td>\n",
       "      <td>0.0</td>\n",
       "      <td>0.0</td>\n",
       "    </tr>\n",
       "    <tr>\n",
       "      <th>4</th>\n",
       "      <td>0.163636</td>\n",
       "      <td>0.333333</td>\n",
       "      <td>0.022230</td>\n",
       "      <td>0.073529</td>\n",
       "      <td>1.0</td>\n",
       "      <td>1.0</td>\n",
       "      <td>0.0</td>\n",
       "      <td>1.0</td>\n",
       "      <td>0.0</td>\n",
       "      <td>0.0</td>\n",
       "      <td>0.0</td>\n",
       "      <td>0.0</td>\n",
       "      <td>0.0</td>\n",
       "      <td>0.0</td>\n",
       "    </tr>\n",
       "    <tr>\n",
       "      <th>...</th>\n",
       "      <td>...</td>\n",
       "      <td>...</td>\n",
       "      <td>...</td>\n",
       "      <td>...</td>\n",
       "      <td>...</td>\n",
       "      <td>...</td>\n",
       "      <td>...</td>\n",
       "      <td>...</td>\n",
       "      <td>...</td>\n",
       "      <td>...</td>\n",
       "      <td>...</td>\n",
       "      <td>...</td>\n",
       "      <td>...</td>\n",
       "      <td>...</td>\n",
       "    </tr>\n",
       "    <tr>\n",
       "      <th>648</th>\n",
       "      <td>0.145455</td>\n",
       "      <td>0.666667</td>\n",
       "      <td>0.114229</td>\n",
       "      <td>0.161765</td>\n",
       "      <td>1.0</td>\n",
       "      <td>1.0</td>\n",
       "      <td>0.0</td>\n",
       "      <td>0.0</td>\n",
       "      <td>0.0</td>\n",
       "      <td>0.0</td>\n",
       "      <td>0.0</td>\n",
       "      <td>0.0</td>\n",
       "      <td>0.0</td>\n",
       "      <td>0.0</td>\n",
       "    </tr>\n",
       "    <tr>\n",
       "      <th>649</th>\n",
       "      <td>0.127273</td>\n",
       "      <td>0.666667</td>\n",
       "      <td>0.174095</td>\n",
       "      <td>0.250000</td>\n",
       "      <td>1.0</td>\n",
       "      <td>1.0</td>\n",
       "      <td>0.0</td>\n",
       "      <td>0.0</td>\n",
       "      <td>0.0</td>\n",
       "      <td>1.0</td>\n",
       "      <td>0.0</td>\n",
       "      <td>0.0</td>\n",
       "      <td>0.0</td>\n",
       "      <td>0.0</td>\n",
       "    </tr>\n",
       "    <tr>\n",
       "      <th>650</th>\n",
       "      <td>0.145455</td>\n",
       "      <td>0.666667</td>\n",
       "      <td>0.147463</td>\n",
       "      <td>0.117647</td>\n",
       "      <td>0.0</td>\n",
       "      <td>1.0</td>\n",
       "      <td>0.0</td>\n",
       "      <td>0.0</td>\n",
       "      <td>0.0</td>\n",
       "      <td>0.0</td>\n",
       "      <td>0.0</td>\n",
       "      <td>1.0</td>\n",
       "      <td>0.0</td>\n",
       "      <td>0.0</td>\n",
       "    </tr>\n",
       "    <tr>\n",
       "      <th>651</th>\n",
       "      <td>0.145455</td>\n",
       "      <td>0.666667</td>\n",
       "      <td>0.065973</td>\n",
       "      <td>0.073529</td>\n",
       "      <td>0.0</td>\n",
       "      <td>1.0</td>\n",
       "      <td>0.0</td>\n",
       "      <td>0.0</td>\n",
       "      <td>0.0</td>\n",
       "      <td>0.0</td>\n",
       "      <td>0.0</td>\n",
       "      <td>0.0</td>\n",
       "      <td>0.0</td>\n",
       "      <td>0.0</td>\n",
       "    </tr>\n",
       "    <tr>\n",
       "      <th>652</th>\n",
       "      <td>0.927273</td>\n",
       "      <td>1.000000</td>\n",
       "      <td>0.388357</td>\n",
       "      <td>0.088235</td>\n",
       "      <td>1.0</td>\n",
       "      <td>0.0</td>\n",
       "      <td>0.0</td>\n",
       "      <td>1.0</td>\n",
       "      <td>0.0</td>\n",
       "      <td>0.0</td>\n",
       "      <td>0.0</td>\n",
       "      <td>0.0</td>\n",
       "      <td>0.0</td>\n",
       "      <td>0.0</td>\n",
       "    </tr>\n",
       "  </tbody>\n",
       "</table>\n",
       "<p>653 rows × 14 columns</p>\n",
       "</div>"
      ],
      "text/plain": [
       "          Age       Job  Credit amount  Duration  Sex_male  Housing_own  \\\n",
       "0    0.745455  0.666667       0.098052  0.294118       1.0          0.0   \n",
       "1    0.309091  0.666667       0.387752  0.823529       1.0          0.0   \n",
       "2    0.309091  0.666667       0.080940  0.161765       1.0          1.0   \n",
       "3    0.800000  0.333333       0.077308  0.117647       1.0          1.0   \n",
       "4    0.163636  0.333333       0.022230  0.073529       1.0          1.0   \n",
       "..        ...       ...            ...       ...       ...          ...   \n",
       "648  0.145455  0.666667       0.114229  0.161765       1.0          1.0   \n",
       "649  0.127273  0.666667       0.174095  0.250000       1.0          1.0   \n",
       "650  0.145455  0.666667       0.147463  0.117647       0.0          1.0   \n",
       "651  0.145455  0.666667       0.065973  0.073529       0.0          1.0   \n",
       "652  0.927273  1.000000       0.388357  0.088235       1.0          0.0   \n",
       "\n",
       "     Housing_rent  Purpose_car  Purpose_domestic appliances  \\\n",
       "0             0.0          1.0                          0.0   \n",
       "1             1.0          0.0                          0.0   \n",
       "2             0.0          1.0                          0.0   \n",
       "3             0.0          0.0                          0.0   \n",
       "4             0.0          1.0                          0.0   \n",
       "..            ...          ...                          ...   \n",
       "648           0.0          0.0                          0.0   \n",
       "649           0.0          0.0                          0.0   \n",
       "650           0.0          0.0                          0.0   \n",
       "651           0.0          0.0                          0.0   \n",
       "652           0.0          1.0                          0.0   \n",
       "\n",
       "     Purpose_education  Purpose_furniture/equipment  Purpose_radio/TV  \\\n",
       "0                  0.0                          0.0               0.0   \n",
       "1                  0.0                          0.0               0.0   \n",
       "2                  0.0                          0.0               0.0   \n",
       "3                  0.0                          0.0               1.0   \n",
       "4                  0.0                          0.0               0.0   \n",
       "..                 ...                          ...               ...   \n",
       "648                0.0                          0.0               0.0   \n",
       "649                1.0                          0.0               0.0   \n",
       "650                0.0                          0.0               1.0   \n",
       "651                0.0                          0.0               0.0   \n",
       "652                0.0                          0.0               0.0   \n",
       "\n",
       "     Purpose_repairs  Purpose_vacation/others  \n",
       "0                0.0                      0.0  \n",
       "1                0.0                      0.0  \n",
       "2                0.0                      0.0  \n",
       "3                0.0                      0.0  \n",
       "4                0.0                      0.0  \n",
       "..               ...                      ...  \n",
       "648              0.0                      0.0  \n",
       "649              0.0                      0.0  \n",
       "650              0.0                      0.0  \n",
       "651              0.0                      0.0  \n",
       "652              0.0                      0.0  \n",
       "\n",
       "[653 rows x 14 columns]"
      ]
     },
     "execution_count": 52,
     "metadata": {},
     "output_type": "execute_result"
    }
   ],
   "source": [
    "x_train = pd.DataFrame(x_train, columns=df_real.drop(['Saving accounts_moderate','Saving accounts_quite rich', 'Saving accounts_rich'], axis=1).columns)\n",
    "x_train"
   ]
  },
  {
   "cell_type": "code",
   "execution_count": 54,
   "metadata": {},
   "outputs": [],
   "source": [
    "min_max_scaler2 = MinMaxScaler()\n",
    "x_test = min_max_scaler2.fit_transform(x_test)"
   ]
  },
  {
   "cell_type": "code",
   "execution_count": 56,
   "metadata": {},
   "outputs": [],
   "source": [
    "x_test = pd.DataFrame(x_test, columns=df_real.drop(['Saving accounts_moderate','Saving accounts_quite rich', 'Saving accounts_rich'], axis=1).columns)"
   ]
  },
  {
   "cell_type": "code",
   "execution_count": 57,
   "metadata": {},
   "outputs": [
    {
     "data": {
      "text/plain": [
       "RandomForestClassifier()"
      ]
     },
     "execution_count": 57,
     "metadata": {},
     "output_type": "execute_result"
    }
   ],
   "source": [
    "rf2 = RandomForestClassifier()\n",
    "\n",
    "rf2.fit(x_train, y_train)"
   ]
  },
  {
   "cell_type": "code",
   "execution_count": 58,
   "metadata": {},
   "outputs": [
    {
     "data": {
      "text/plain": [
       "array([0, 0, 0, 0, 0, 0, 0, 0, 0, 0, 0, 0, 0, 0, 0, 0, 0, 0, 0, 0, 0, 0,\n",
       "       0, 0, 0, 0, 0, 0, 0, 0, 0, 0, 0, 0, 0, 0, 0, 0, 0, 0, 0, 0, 0, 0,\n",
       "       0, 0, 0, 0, 0, 0, 0, 0, 0, 0, 0, 0, 0, 0, 0, 0, 0, 0, 0, 0, 0, 0,\n",
       "       0, 0, 0, 0, 0, 0, 0, 0, 0, 0, 0, 0, 0, 0, 0, 0, 0, 0, 0, 0, 0, 0,\n",
       "       0, 0, 0, 0, 0, 0, 0, 0, 0, 0, 0, 0, 0, 0, 0, 0, 0, 0, 0, 0, 0, 0,\n",
       "       0, 0, 0, 0, 0, 0, 0, 0, 0, 0, 0, 0, 0, 0, 0, 0, 0, 0, 0, 0, 0, 0,\n",
       "       0, 0, 0, 0, 0, 0, 0, 0, 0, 0, 0, 0, 0, 0, 0, 0, 0, 0, 0, 0, 0, 0,\n",
       "       0, 0, 0, 0, 0, 0, 0, 0, 0, 0], dtype=uint8)"
      ]
     },
     "execution_count": 58,
     "metadata": {},
     "output_type": "execute_result"
    }
   ],
   "source": [
    "predicted = rf2.predict(x_test)\n",
    "predicted\n"
   ]
  },
  {
   "cell_type": "code",
   "execution_count": 59,
   "metadata": {},
   "outputs": [
    {
     "data": {
      "text/plain": [
       "array([[160,   0],\n",
       "       [  4,   0]], dtype=int64)"
      ]
     },
     "execution_count": 59,
     "metadata": {},
     "output_type": "execute_result"
    }
   ],
   "source": [
    "confusion_matrix(y_test, predicted)"
   ]
  },
  {
   "cell_type": "code",
   "execution_count": 60,
   "metadata": {},
   "outputs": [
    {
     "name": "stdout",
     "output_type": "stream",
     "text": [
      "Accuracy =  0.975609756097561\n",
      "F1 score =  0.975609756097561\n",
      "Precision =  0.975609756097561\n",
      "Recall =  0.975609756097561\n"
     ]
    }
   ],
   "source": [
    "# ข้อที่ 16\n",
    "print('Accuracy = ', accuracy_score(y_test, predicted))\n",
    "print('F1 score = ', f1_score(y_test, predicted, average='micro'))\n",
    "print('Precision = ', precision_score(y_test, predicted, average='micro'))\n",
    "print('Recall = ', recall_score(y_test, predicted, average='micro'))"
   ]
  },
  {
   "cell_type": "code",
   "execution_count": 61,
   "metadata": {},
   "outputs": [
    {
     "name": "stdout",
     "output_type": "stream",
     "text": [
      "Fitting 5 folds for each of 25 candidates, totalling 125 fits\n",
      "[CV] max_depth=4, min_samples_leaf=1 .................................\n"
     ]
    },
    {
     "name": "stderr",
     "output_type": "stream",
     "text": [
      "[Parallel(n_jobs=1)]: Using backend SequentialBackend with 1 concurrent workers.\n"
     ]
    },
    {
     "name": "stdout",
     "output_type": "stream",
     "text": [
      "[CV] ..... max_depth=4, min_samples_leaf=1, score=0.931, total=   0.2s\n",
      "[CV] max_depth=4, min_samples_leaf=1 .................................\n",
      "[CV] ..... max_depth=4, min_samples_leaf=1, score=0.931, total=   0.1s\n",
      "[CV] max_depth=4, min_samples_leaf=1 .................................\n"
     ]
    },
    {
     "name": "stderr",
     "output_type": "stream",
     "text": [
      "[Parallel(n_jobs=1)]: Done   1 out of   1 | elapsed:    0.1s remaining:    0.0s\n",
      "[Parallel(n_jobs=1)]: Done   2 out of   2 | elapsed:    0.2s remaining:    0.0s\n"
     ]
    },
    {
     "name": "stdout",
     "output_type": "stream",
     "text": [
      "[CV] ..... max_depth=4, min_samples_leaf=1, score=0.931, total=   0.1s\n",
      "[CV] max_depth=4, min_samples_leaf=1 .................................\n",
      "[CV] ..... max_depth=4, min_samples_leaf=1, score=0.938, total=   0.1s\n",
      "[CV] max_depth=4, min_samples_leaf=1 .................................\n",
      "[CV] ..... max_depth=4, min_samples_leaf=1, score=0.931, total=   0.1s\n",
      "[CV] max_depth=4, min_samples_leaf=2 .................................\n",
      "[CV] ..... max_depth=4, min_samples_leaf=2, score=0.931, total=   0.1s\n",
      "[CV] max_depth=4, min_samples_leaf=2 .................................\n",
      "[CV] ..... max_depth=4, min_samples_leaf=2, score=0.931, total=   0.1s\n",
      "[CV] max_depth=4, min_samples_leaf=2 .................................\n",
      "[CV] ..... max_depth=4, min_samples_leaf=2, score=0.931, total=   0.1s\n",
      "[CV] max_depth=4, min_samples_leaf=2 .................................\n",
      "[CV] ..... max_depth=4, min_samples_leaf=2, score=0.938, total=   0.2s\n",
      "[CV] max_depth=4, min_samples_leaf=2 .................................\n",
      "[CV] ..... max_depth=4, min_samples_leaf=2, score=0.931, total=   0.2s\n",
      "[CV] max_depth=4, min_samples_leaf=4 .................................\n",
      "[CV] ..... max_depth=4, min_samples_leaf=4, score=0.931, total=   0.2s\n",
      "[CV] max_depth=4, min_samples_leaf=4 .................................\n",
      "[CV] ..... max_depth=4, min_samples_leaf=4, score=0.931, total=   0.1s\n",
      "[CV] max_depth=4, min_samples_leaf=4 .................................\n",
      "[CV] ..... max_depth=4, min_samples_leaf=4, score=0.931, total=   0.1s\n",
      "[CV] max_depth=4, min_samples_leaf=4 .................................\n",
      "[CV] ..... max_depth=4, min_samples_leaf=4, score=0.938, total=   0.1s\n",
      "[CV] max_depth=4, min_samples_leaf=4 .................................\n",
      "[CV] ..... max_depth=4, min_samples_leaf=4, score=0.931, total=   0.1s\n",
      "[CV] max_depth=4, min_samples_leaf=8 .................................\n",
      "[CV] ..... max_depth=4, min_samples_leaf=8, score=0.931, total=   0.1s\n",
      "[CV] max_depth=4, min_samples_leaf=8 .................................\n",
      "[CV] ..... max_depth=4, min_samples_leaf=8, score=0.931, total=   0.1s\n",
      "[CV] max_depth=4, min_samples_leaf=8 .................................\n",
      "[CV] ..... max_depth=4, min_samples_leaf=8, score=0.931, total=   0.1s\n",
      "[CV] max_depth=4, min_samples_leaf=8 .................................\n",
      "[CV] ..... max_depth=4, min_samples_leaf=8, score=0.938, total=   0.1s\n",
      "[CV] max_depth=4, min_samples_leaf=8 .................................\n",
      "[CV] ..... max_depth=4, min_samples_leaf=8, score=0.931, total=   0.1s\n",
      "[CV] max_depth=4, min_samples_leaf=16 ................................\n",
      "[CV] .... max_depth=4, min_samples_leaf=16, score=0.931, total=   0.1s\n",
      "[CV] max_depth=4, min_samples_leaf=16 ................................\n",
      "[CV] .... max_depth=4, min_samples_leaf=16, score=0.931, total=   0.1s\n",
      "[CV] max_depth=4, min_samples_leaf=16 ................................\n",
      "[CV] .... max_depth=4, min_samples_leaf=16, score=0.931, total=   0.2s\n",
      "[CV] max_depth=4, min_samples_leaf=16 ................................\n",
      "[CV] .... max_depth=4, min_samples_leaf=16, score=0.938, total=   0.1s\n",
      "[CV] max_depth=4, min_samples_leaf=16 ................................\n",
      "[CV] .... max_depth=4, min_samples_leaf=16, score=0.931, total=   0.1s\n",
      "[CV] max_depth=8, min_samples_leaf=1 .................................\n",
      "[CV] ..... max_depth=8, min_samples_leaf=1, score=0.931, total=   0.1s\n",
      "[CV] max_depth=8, min_samples_leaf=1 .................................\n",
      "[CV] ..... max_depth=8, min_samples_leaf=1, score=0.931, total=   0.1s\n",
      "[CV] max_depth=8, min_samples_leaf=1 .................................\n",
      "[CV] ..... max_depth=8, min_samples_leaf=1, score=0.931, total=   0.1s\n",
      "[CV] max_depth=8, min_samples_leaf=1 .................................\n",
      "[CV] ..... max_depth=8, min_samples_leaf=1, score=0.938, total=   0.1s\n",
      "[CV] max_depth=8, min_samples_leaf=1 .................................\n",
      "[CV] ..... max_depth=8, min_samples_leaf=1, score=0.931, total=   0.1s\n",
      "[CV] max_depth=8, min_samples_leaf=2 .................................\n",
      "[CV] ..... max_depth=8, min_samples_leaf=2, score=0.931, total=   0.1s\n",
      "[CV] max_depth=8, min_samples_leaf=2 .................................\n",
      "[CV] ..... max_depth=8, min_samples_leaf=2, score=0.931, total=   0.1s\n",
      "[CV] max_depth=8, min_samples_leaf=2 .................................\n",
      "[CV] ..... max_depth=8, min_samples_leaf=2, score=0.931, total=   0.2s\n",
      "[CV] max_depth=8, min_samples_leaf=2 .................................\n",
      "[CV] ..... max_depth=8, min_samples_leaf=2, score=0.938, total=   0.1s\n",
      "[CV] max_depth=8, min_samples_leaf=2 .................................\n",
      "[CV] ..... max_depth=8, min_samples_leaf=2, score=0.931, total=   0.2s\n",
      "[CV] max_depth=8, min_samples_leaf=4 .................................\n",
      "[CV] ..... max_depth=8, min_samples_leaf=4, score=0.931, total=   0.1s\n",
      "[CV] max_depth=8, min_samples_leaf=4 .................................\n",
      "[CV] ..... max_depth=8, min_samples_leaf=4, score=0.931, total=   0.2s\n",
      "[CV] max_depth=8, min_samples_leaf=4 .................................\n",
      "[CV] ..... max_depth=8, min_samples_leaf=4, score=0.931, total=   0.2s\n",
      "[CV] max_depth=8, min_samples_leaf=4 .................................\n",
      "[CV] ..... max_depth=8, min_samples_leaf=4, score=0.938, total=   0.2s\n",
      "[CV] max_depth=8, min_samples_leaf=4 .................................\n",
      "[CV] ..... max_depth=8, min_samples_leaf=4, score=0.931, total=   0.2s\n",
      "[CV] max_depth=8, min_samples_leaf=8 .................................\n",
      "[CV] ..... max_depth=8, min_samples_leaf=8, score=0.931, total=   0.2s\n",
      "[CV] max_depth=8, min_samples_leaf=8 .................................\n",
      "[CV] ..... max_depth=8, min_samples_leaf=8, score=0.931, total=   0.2s\n",
      "[CV] max_depth=8, min_samples_leaf=8 .................................\n",
      "[CV] ..... max_depth=8, min_samples_leaf=8, score=0.931, total=   0.2s\n",
      "[CV] max_depth=8, min_samples_leaf=8 .................................\n",
      "[CV] ..... max_depth=8, min_samples_leaf=8, score=0.938, total=   0.2s\n",
      "[CV] max_depth=8, min_samples_leaf=8 .................................\n",
      "[CV] ..... max_depth=8, min_samples_leaf=8, score=0.931, total=   0.2s\n",
      "[CV] max_depth=8, min_samples_leaf=16 ................................\n",
      "[CV] .... max_depth=8, min_samples_leaf=16, score=0.931, total=   0.1s\n",
      "[CV] max_depth=8, min_samples_leaf=16 ................................\n",
      "[CV] .... max_depth=8, min_samples_leaf=16, score=0.931, total=   0.2s\n",
      "[CV] max_depth=8, min_samples_leaf=16 ................................\n",
      "[CV] .... max_depth=8, min_samples_leaf=16, score=0.931, total=   0.1s\n",
      "[CV] max_depth=8, min_samples_leaf=16 ................................\n",
      "[CV] .... max_depth=8, min_samples_leaf=16, score=0.938, total=   0.1s\n",
      "[CV] max_depth=8, min_samples_leaf=16 ................................\n",
      "[CV] .... max_depth=8, min_samples_leaf=16, score=0.931, total=   0.1s\n",
      "[CV] max_depth=16, min_samples_leaf=1 ................................\n",
      "[CV] .... max_depth=16, min_samples_leaf=1, score=0.931, total=   0.1s\n",
      "[CV] max_depth=16, min_samples_leaf=1 ................................\n",
      "[CV] .... max_depth=16, min_samples_leaf=1, score=0.939, total=   0.1s\n",
      "[CV] max_depth=16, min_samples_leaf=1 ................................\n",
      "[CV] .... max_depth=16, min_samples_leaf=1, score=0.931, total=   0.2s\n",
      "[CV] max_depth=16, min_samples_leaf=1 ................................\n",
      "[CV] .... max_depth=16, min_samples_leaf=1, score=0.938, total=   0.1s\n",
      "[CV] max_depth=16, min_samples_leaf=1 ................................\n",
      "[CV] .... max_depth=16, min_samples_leaf=1, score=0.931, total=   0.1s\n",
      "[CV] max_depth=16, min_samples_leaf=2 ................................\n",
      "[CV] .... max_depth=16, min_samples_leaf=2, score=0.931, total=   0.1s\n",
      "[CV] max_depth=16, min_samples_leaf=2 ................................\n",
      "[CV] .... max_depth=16, min_samples_leaf=2, score=0.931, total=   0.1s\n",
      "[CV] max_depth=16, min_samples_leaf=2 ................................\n",
      "[CV] .... max_depth=16, min_samples_leaf=2, score=0.931, total=   0.1s\n",
      "[CV] max_depth=16, min_samples_leaf=2 ................................\n",
      "[CV] .... max_depth=16, min_samples_leaf=2, score=0.938, total=   0.1s\n",
      "[CV] max_depth=16, min_samples_leaf=2 ................................\n",
      "[CV] .... max_depth=16, min_samples_leaf=2, score=0.931, total=   0.1s\n",
      "[CV] max_depth=16, min_samples_leaf=4 ................................\n"
     ]
    },
    {
     "name": "stdout",
     "output_type": "stream",
     "text": [
      "[CV] .... max_depth=16, min_samples_leaf=4, score=0.931, total=   0.1s\n",
      "[CV] max_depth=16, min_samples_leaf=4 ................................\n",
      "[CV] .... max_depth=16, min_samples_leaf=4, score=0.931, total=   0.1s\n",
      "[CV] max_depth=16, min_samples_leaf=4 ................................\n",
      "[CV] .... max_depth=16, min_samples_leaf=4, score=0.931, total=   0.1s\n",
      "[CV] max_depth=16, min_samples_leaf=4 ................................\n",
      "[CV] .... max_depth=16, min_samples_leaf=4, score=0.938, total=   0.1s\n",
      "[CV] max_depth=16, min_samples_leaf=4 ................................\n",
      "[CV] .... max_depth=16, min_samples_leaf=4, score=0.931, total=   0.2s\n",
      "[CV] max_depth=16, min_samples_leaf=8 ................................\n",
      "[CV] .... max_depth=16, min_samples_leaf=8, score=0.931, total=   0.2s\n",
      "[CV] max_depth=16, min_samples_leaf=8 ................................\n",
      "[CV] .... max_depth=16, min_samples_leaf=8, score=0.931, total=   0.2s\n",
      "[CV] max_depth=16, min_samples_leaf=8 ................................\n",
      "[CV] .... max_depth=16, min_samples_leaf=8, score=0.931, total=   0.1s\n",
      "[CV] max_depth=16, min_samples_leaf=8 ................................\n",
      "[CV] .... max_depth=16, min_samples_leaf=8, score=0.938, total=   0.2s\n",
      "[CV] max_depth=16, min_samples_leaf=8 ................................\n",
      "[CV] .... max_depth=16, min_samples_leaf=8, score=0.931, total=   0.1s\n",
      "[CV] max_depth=16, min_samples_leaf=16 ...............................\n",
      "[CV] ... max_depth=16, min_samples_leaf=16, score=0.931, total=   0.2s\n",
      "[CV] max_depth=16, min_samples_leaf=16 ...............................\n",
      "[CV] ... max_depth=16, min_samples_leaf=16, score=0.931, total=   0.1s\n",
      "[CV] max_depth=16, min_samples_leaf=16 ...............................\n",
      "[CV] ... max_depth=16, min_samples_leaf=16, score=0.931, total=   0.2s\n",
      "[CV] max_depth=16, min_samples_leaf=16 ...............................\n",
      "[CV] ... max_depth=16, min_samples_leaf=16, score=0.938, total=   0.1s\n",
      "[CV] max_depth=16, min_samples_leaf=16 ...............................\n",
      "[CV] ... max_depth=16, min_samples_leaf=16, score=0.931, total=   0.2s\n",
      "[CV] max_depth=32, min_samples_leaf=1 ................................\n",
      "[CV] .... max_depth=32, min_samples_leaf=1, score=0.924, total=   0.3s\n",
      "[CV] max_depth=32, min_samples_leaf=1 ................................\n",
      "[CV] .... max_depth=32, min_samples_leaf=1, score=0.931, total=   0.2s\n",
      "[CV] max_depth=32, min_samples_leaf=1 ................................\n",
      "[CV] .... max_depth=32, min_samples_leaf=1, score=0.939, total=   0.2s\n",
      "[CV] max_depth=32, min_samples_leaf=1 ................................\n",
      "[CV] .... max_depth=32, min_samples_leaf=1, score=0.938, total=   0.2s\n",
      "[CV] max_depth=32, min_samples_leaf=1 ................................\n",
      "[CV] .... max_depth=32, min_samples_leaf=1, score=0.931, total=   0.2s\n",
      "[CV] max_depth=32, min_samples_leaf=2 ................................\n",
      "[CV] .... max_depth=32, min_samples_leaf=2, score=0.931, total=   0.2s\n",
      "[CV] max_depth=32, min_samples_leaf=2 ................................\n",
      "[CV] .... max_depth=32, min_samples_leaf=2, score=0.931, total=   0.2s\n",
      "[CV] max_depth=32, min_samples_leaf=2 ................................\n",
      "[CV] .... max_depth=32, min_samples_leaf=2, score=0.931, total=   0.2s\n",
      "[CV] max_depth=32, min_samples_leaf=2 ................................\n",
      "[CV] .... max_depth=32, min_samples_leaf=2, score=0.938, total=   0.2s\n",
      "[CV] max_depth=32, min_samples_leaf=2 ................................\n",
      "[CV] .... max_depth=32, min_samples_leaf=2, score=0.931, total=   0.2s\n",
      "[CV] max_depth=32, min_samples_leaf=4 ................................\n",
      "[CV] .... max_depth=32, min_samples_leaf=4, score=0.931, total=   0.2s\n",
      "[CV] max_depth=32, min_samples_leaf=4 ................................\n",
      "[CV] .... max_depth=32, min_samples_leaf=4, score=0.931, total=   0.1s\n",
      "[CV] max_depth=32, min_samples_leaf=4 ................................\n",
      "[CV] .... max_depth=32, min_samples_leaf=4, score=0.931, total=   0.2s\n",
      "[CV] max_depth=32, min_samples_leaf=4 ................................\n",
      "[CV] .... max_depth=32, min_samples_leaf=4, score=0.938, total=   0.2s\n",
      "[CV] max_depth=32, min_samples_leaf=4 ................................\n",
      "[CV] .... max_depth=32, min_samples_leaf=4, score=0.931, total=   0.2s\n",
      "[CV] max_depth=32, min_samples_leaf=8 ................................\n",
      "[CV] .... max_depth=32, min_samples_leaf=8, score=0.931, total=   0.2s\n",
      "[CV] max_depth=32, min_samples_leaf=8 ................................\n",
      "[CV] .... max_depth=32, min_samples_leaf=8, score=0.931, total=   0.2s\n",
      "[CV] max_depth=32, min_samples_leaf=8 ................................\n",
      "[CV] .... max_depth=32, min_samples_leaf=8, score=0.931, total=   0.1s\n",
      "[CV] max_depth=32, min_samples_leaf=8 ................................\n",
      "[CV] .... max_depth=32, min_samples_leaf=8, score=0.938, total=   0.2s\n",
      "[CV] max_depth=32, min_samples_leaf=8 ................................\n",
      "[CV] .... max_depth=32, min_samples_leaf=8, score=0.931, total=   0.2s\n",
      "[CV] max_depth=32, min_samples_leaf=16 ...............................\n",
      "[CV] ... max_depth=32, min_samples_leaf=16, score=0.931, total=   0.2s\n",
      "[CV] max_depth=32, min_samples_leaf=16 ...............................\n",
      "[CV] ... max_depth=32, min_samples_leaf=16, score=0.931, total=   0.2s\n",
      "[CV] max_depth=32, min_samples_leaf=16 ...............................\n",
      "[CV] ... max_depth=32, min_samples_leaf=16, score=0.931, total=   0.2s\n",
      "[CV] max_depth=32, min_samples_leaf=16 ...............................\n",
      "[CV] ... max_depth=32, min_samples_leaf=16, score=0.938, total=   0.1s\n",
      "[CV] max_depth=32, min_samples_leaf=16 ...............................\n",
      "[CV] ... max_depth=32, min_samples_leaf=16, score=0.931, total=   0.1s\n",
      "[CV] max_depth=64, min_samples_leaf=1 ................................\n",
      "[CV] .... max_depth=64, min_samples_leaf=1, score=0.908, total=   0.1s\n",
      "[CV] max_depth=64, min_samples_leaf=1 ................................\n",
      "[CV] .... max_depth=64, min_samples_leaf=1, score=0.931, total=   0.1s\n",
      "[CV] max_depth=64, min_samples_leaf=1 ................................\n",
      "[CV] .... max_depth=64, min_samples_leaf=1, score=0.931, total=   0.1s\n",
      "[CV] max_depth=64, min_samples_leaf=1 ................................\n",
      "[CV] .... max_depth=64, min_samples_leaf=1, score=0.938, total=   0.1s\n",
      "[CV] max_depth=64, min_samples_leaf=1 ................................\n",
      "[CV] .... max_depth=64, min_samples_leaf=1, score=0.931, total=   0.1s\n",
      "[CV] max_depth=64, min_samples_leaf=2 ................................\n",
      "[CV] .... max_depth=64, min_samples_leaf=2, score=0.931, total=   0.1s\n",
      "[CV] max_depth=64, min_samples_leaf=2 ................................\n",
      "[CV] .... max_depth=64, min_samples_leaf=2, score=0.931, total=   0.1s\n",
      "[CV] max_depth=64, min_samples_leaf=2 ................................\n",
      "[CV] .... max_depth=64, min_samples_leaf=2, score=0.931, total=   0.1s\n",
      "[CV] max_depth=64, min_samples_leaf=2 ................................\n",
      "[CV] .... max_depth=64, min_samples_leaf=2, score=0.938, total=   0.1s\n",
      "[CV] max_depth=64, min_samples_leaf=2 ................................\n",
      "[CV] .... max_depth=64, min_samples_leaf=2, score=0.931, total=   0.2s\n",
      "[CV] max_depth=64, min_samples_leaf=4 ................................\n",
      "[CV] .... max_depth=64, min_samples_leaf=4, score=0.931, total=   0.2s\n",
      "[CV] max_depth=64, min_samples_leaf=4 ................................\n",
      "[CV] .... max_depth=64, min_samples_leaf=4, score=0.931, total=   0.2s\n",
      "[CV] max_depth=64, min_samples_leaf=4 ................................\n",
      "[CV] .... max_depth=64, min_samples_leaf=4, score=0.931, total=   0.2s\n",
      "[CV] max_depth=64, min_samples_leaf=4 ................................\n",
      "[CV] .... max_depth=64, min_samples_leaf=4, score=0.938, total=   0.2s\n",
      "[CV] max_depth=64, min_samples_leaf=4 ................................\n",
      "[CV] .... max_depth=64, min_samples_leaf=4, score=0.931, total=   0.2s\n",
      "[CV] max_depth=64, min_samples_leaf=8 ................................\n",
      "[CV] .... max_depth=64, min_samples_leaf=8, score=0.931, total=   0.1s\n",
      "[CV] max_depth=64, min_samples_leaf=8 ................................\n",
      "[CV] .... max_depth=64, min_samples_leaf=8, score=0.931, total=   0.1s\n",
      "[CV] max_depth=64, min_samples_leaf=8 ................................\n",
      "[CV] .... max_depth=64, min_samples_leaf=8, score=0.931, total=   0.1s\n",
      "[CV] max_depth=64, min_samples_leaf=8 ................................\n",
      "[CV] .... max_depth=64, min_samples_leaf=8, score=0.938, total=   0.2s\n",
      "[CV] max_depth=64, min_samples_leaf=8 ................................\n"
     ]
    },
    {
     "name": "stdout",
     "output_type": "stream",
     "text": [
      "[CV] .... max_depth=64, min_samples_leaf=8, score=0.931, total=   0.1s\n",
      "[CV] max_depth=64, min_samples_leaf=16 ...............................\n",
      "[CV] ... max_depth=64, min_samples_leaf=16, score=0.931, total=   0.1s\n",
      "[CV] max_depth=64, min_samples_leaf=16 ...............................\n",
      "[CV] ... max_depth=64, min_samples_leaf=16, score=0.931, total=   0.1s\n",
      "[CV] max_depth=64, min_samples_leaf=16 ...............................\n",
      "[CV] ... max_depth=64, min_samples_leaf=16, score=0.931, total=   0.2s\n",
      "[CV] max_depth=64, min_samples_leaf=16 ...............................\n",
      "[CV] ... max_depth=64, min_samples_leaf=16, score=0.938, total=   0.1s\n",
      "[CV] max_depth=64, min_samples_leaf=16 ...............................\n",
      "[CV] ... max_depth=64, min_samples_leaf=16, score=0.931, total=   0.1s\n"
     ]
    },
    {
     "name": "stderr",
     "output_type": "stream",
     "text": [
      "[Parallel(n_jobs=1)]: Done 125 out of 125 | elapsed:   18.3s finished\n"
     ]
    },
    {
     "data": {
      "text/plain": [
       "GridSearchCV(estimator=RandomForestClassifier(),\n",
       "             param_grid={'max_depth': [4, 8, 16, 32, 64],\n",
       "                         'min_samples_leaf': [1, 2, 4, 8, 16]},\n",
       "             verbose=3)"
      ]
     },
     "execution_count": 61,
     "metadata": {},
     "output_type": "execute_result"
    }
   ],
   "source": [
    "# ข้อที่ 17\n",
    "from sklearn.model_selection import GridSearchCV\n",
    "\n",
    "param_combination = {'max_depth' : [4,8,16,32,64], 'min_samples_leaf' : [1,2,4,8,16]}\n",
    "\n",
    "grid_search = GridSearchCV(RandomForestClassifier(), param_combination, verbose=3)\n",
    "\n",
    "grid_search.fit(x_train, y_train)"
   ]
  },
  {
   "cell_type": "code",
   "execution_count": 62,
   "metadata": {},
   "outputs": [
    {
     "data": {
      "text/plain": [
       "{'max_depth': 16, 'min_samples_leaf': 1}"
      ]
     },
     "execution_count": 62,
     "metadata": {},
     "output_type": "execute_result"
    }
   ],
   "source": [
    "grid_search.best_params_"
   ]
  },
  {
   "cell_type": "code",
   "execution_count": 63,
   "metadata": {},
   "outputs": [
    {
     "data": {
      "text/plain": [
       "RandomForestClassifier(max_depth=16)"
      ]
     },
     "execution_count": 63,
     "metadata": {},
     "output_type": "execute_result"
    }
   ],
   "source": [
    "grid_search.best_estimator_"
   ]
  },
  {
   "cell_type": "code",
   "execution_count": 64,
   "metadata": {},
   "outputs": [
    {
     "data": {
      "text/plain": [
       "array([0, 0, 0, 0, 0, 0, 0, 0, 0, 0, 0, 0, 0, 0, 0, 0, 0, 0, 0, 0, 0, 0,\n",
       "       0, 0, 0, 0, 0, 0, 0, 0, 0, 0, 0, 0, 0, 0, 0, 0, 0, 0, 0, 0, 0, 0,\n",
       "       0, 0, 0, 0, 0, 0, 0, 0, 0, 0, 0, 0, 0, 0, 0, 0, 0, 0, 0, 0, 0, 0,\n",
       "       0, 0, 0, 0, 0, 0, 0, 0, 0, 0, 0, 0, 0, 0, 0, 0, 0, 0, 0, 0, 0, 0,\n",
       "       0, 0, 0, 0, 0, 0, 0, 0, 0, 0, 0, 0, 0, 0, 0, 0, 0, 0, 0, 0, 0, 0,\n",
       "       0, 0, 0, 0, 0, 0, 0, 0, 0, 0, 0, 0, 0, 0, 0, 0, 0, 0, 0, 0, 0, 0,\n",
       "       0, 0, 0, 0, 0, 0, 0, 0, 0, 0, 0, 0, 0, 0, 0, 0, 0, 0, 0, 0, 0, 0,\n",
       "       0, 0, 0, 0, 0, 0, 0, 0, 0, 0], dtype=uint8)"
      ]
     },
     "execution_count": 64,
     "metadata": {},
     "output_type": "execute_result"
    }
   ],
   "source": [
    "grid_predicted = grid_search.predict(x_test)\n",
    "grid_predicted"
   ]
  },
  {
   "cell_type": "code",
   "execution_count": 65,
   "metadata": {},
   "outputs": [
    {
     "data": {
      "text/plain": [
       "array([[160,   0],\n",
       "       [  4,   0]], dtype=int64)"
      ]
     },
     "execution_count": 65,
     "metadata": {},
     "output_type": "execute_result"
    }
   ],
   "source": [
    "confusion_matrix(y_test, grid_predicted)"
   ]
  },
  {
   "cell_type": "code",
   "execution_count": 66,
   "metadata": {},
   "outputs": [
    {
     "name": "stdout",
     "output_type": "stream",
     "text": [
      "Accuracy =  0.975609756097561\n",
      "F1 score =  0.975609756097561\n",
      "Precision =  0.975609756097561\n",
      "Recall =  0.975609756097561\n"
     ]
    }
   ],
   "source": [
    "# Standardization + Hyperparater tuning\n",
    "\n",
    "print('Accuracy = ', accuracy_score(y_test, predicted))\n",
    "print('F1 score = ', f1_score(y_test, predicted, average='micro'))\n",
    "print('Precision = ', precision_score(y_test, predicted, average='micro'))\n",
    "print('Recall = ', recall_score(y_test, predicted, average='micro'))"
   ]
  },
  {
   "cell_type": "code",
   "execution_count": 67,
   "metadata": {},
   "outputs": [],
   "source": [
    "# ข้อที่ 18\n",
    "x = df_real[['Job', 'Sex_male', 'Age']]\n",
    "y = df_real['Saving accounts_rich']\n",
    "\n",
    "x_train, x_test, y_train, y_test = train_test_split(x, y, test_size=0.2, random_state=25)"
   ]
  },
  {
   "cell_type": "code",
   "execution_count": 68,
   "metadata": {},
   "outputs": [
    {
     "data": {
      "text/plain": [
       "RandomForestClassifier()"
      ]
     },
     "execution_count": 68,
     "metadata": {},
     "output_type": "execute_result"
    }
   ],
   "source": [
    "rf = RandomForestClassifier()\n",
    "\n",
    "rf.fit(x_train, y_train)"
   ]
  },
  {
   "cell_type": "code",
   "execution_count": 69,
   "metadata": {},
   "outputs": [
    {
     "data": {
      "text/plain": [
       "array([0, 0, 0, 0, 0, 0, 0, 0, 0, 0, 0, 0, 0, 0, 0, 0, 0, 0, 0, 0, 0, 0,\n",
       "       0, 0, 0, 0, 0, 0, 0, 0, 0, 0, 0, 0, 0, 0, 0, 0, 0, 0, 0, 0, 0, 0,\n",
       "       0, 0, 0, 0, 0, 0, 0, 0, 1, 0, 0, 0, 0, 0, 0, 0, 0, 0, 0, 0, 0, 0,\n",
       "       0, 0, 0, 1, 0, 0, 0, 0, 0, 0, 0, 0, 0, 0, 0, 0, 0, 0, 0, 0, 0, 0,\n",
       "       0, 0, 0, 0, 0, 0, 0, 0, 0, 0, 0, 0, 0, 0, 0, 0, 0, 0, 0, 0, 0, 0,\n",
       "       0, 0, 0, 0, 0, 0, 0, 0, 0, 0, 0, 0, 0, 0, 0, 0, 0, 0, 0, 0, 0, 0,\n",
       "       0, 0, 0, 0, 0, 0, 0, 0, 0, 1, 0, 0, 0, 0, 0, 0, 0, 0, 0, 0, 0, 0,\n",
       "       0, 0, 1, 0, 0, 0, 0, 0, 0, 0], dtype=uint8)"
      ]
     },
     "execution_count": 69,
     "metadata": {},
     "output_type": "execute_result"
    }
   ],
   "source": [
    "predicted = rf.predict(x_test)\n",
    "predicted"
   ]
  },
  {
   "cell_type": "code",
   "execution_count": 70,
   "metadata": {},
   "outputs": [
    {
     "data": {
      "text/plain": [
       "array([[156,   4],\n",
       "       [  4,   0]], dtype=int64)"
      ]
     },
     "execution_count": 70,
     "metadata": {},
     "output_type": "execute_result"
    }
   ],
   "source": [
    "confusion_matrix(y_test, predicted)"
   ]
  },
  {
   "cell_type": "code",
   "execution_count": 71,
   "metadata": {},
   "outputs": [
    {
     "name": "stdout",
     "output_type": "stream",
     "text": [
      "Accuracy =  0.9512195121951219\n",
      "F1 score =  0.9512195121951219\n",
      "Precision =  0.9512195121951219\n",
      "Recall =  0.9512195121951219\n"
     ]
    }
   ],
   "source": [
    "print('Accuracy = ', accuracy_score(y_test, predicted))\n",
    "print('F1 score = ', f1_score(y_test, predicted, average='micro'))\n",
    "print('Precision = ', precision_score(y_test, predicted, average='micro'))\n",
    "print('Recall = ', recall_score(y_test, predicted, average='micro'))"
   ]
  },
  {
   "cell_type": "code",
   "execution_count": 72,
   "metadata": {},
   "outputs": [
    {
     "data": {
      "text/html": [
       "<div>\n",
       "<style scoped>\n",
       "    .dataframe tbody tr th:only-of-type {\n",
       "        vertical-align: middle;\n",
       "    }\n",
       "\n",
       "    .dataframe tbody tr th {\n",
       "        vertical-align: top;\n",
       "    }\n",
       "\n",
       "    .dataframe thead th {\n",
       "        text-align: right;\n",
       "    }\n",
       "</style>\n",
       "<table border=\"1\" class=\"dataframe\">\n",
       "  <thead>\n",
       "    <tr style=\"text-align: right;\">\n",
       "      <th></th>\n",
       "      <th>solution</th>\n",
       "      <th>F1_score</th>\n",
       "    </tr>\n",
       "  </thead>\n",
       "  <tbody>\n",
       "    <tr>\n",
       "      <th>0</th>\n",
       "      <td>f1</td>\n",
       "      <td>0.969512</td>\n",
       "    </tr>\n",
       "    <tr>\n",
       "      <th>1</th>\n",
       "      <td>f1_nom</td>\n",
       "      <td>0.975610</td>\n",
       "    </tr>\n",
       "    <tr>\n",
       "      <th>2</th>\n",
       "      <td>f1_grid</td>\n",
       "      <td>0.975610</td>\n",
       "    </tr>\n",
       "  </tbody>\n",
       "</table>\n",
       "</div>"
      ],
      "text/plain": [
       "  solution  F1_score\n",
       "0       f1  0.969512\n",
       "1   f1_nom  0.975610\n",
       "2  f1_grid  0.975610"
      ]
     },
     "execution_count": 72,
     "metadata": {},
     "output_type": "execute_result"
    }
   ],
   "source": [
    "f1 = 0.9695121951219512\n",
    "f1_nom = 0.975609756097561\n",
    "f1_grid = 0.975609756097561\n",
    "\n",
    "f1_com = {'solution' : ['f1', 'f1_nom', 'f1_grid'], 'F1_score' : [f1, f1_nom, f1_grid]}\n",
    "f1_com = pd.DataFrame.from_dict(f1_com)\n",
    "f1_com"
   ]
  },
  {
   "cell_type": "code",
   "execution_count": 73,
   "metadata": {},
   "outputs": [
    {
     "data": {
      "text/plain": [
       "<matplotlib.axes._subplots.AxesSubplot at 0x2c9dc04e340>"
      ]
     },
     "execution_count": 73,
     "metadata": {},
     "output_type": "execute_result"
    },
    {
     "data": {
      "image/png": "[encoded data removed]",
      "text/plain": [
       "<Figure size 720x432 with 1 Axes>"
      ]
     },
     "metadata": {
      "needs_background": "light"
     },
     "output_type": "display_data"
    }
   ],
   "source": [
    "fig = plt.figure(figsize=(10, 6))\n",
    "sns.barplot(f1_com['solution'], f1_com['F1_score'])"
   ]
  },
  {
   "cell_type": "code",
   "execution_count": 74,
   "metadata": {},
   "outputs": [
    {
     "data": {
      "text/html": [
       "<div>\n",
       "<style scoped>\n",
       "    .dataframe tbody tr th:only-of-type {\n",
       "        vertical-align: middle;\n",
       "    }\n",
       "\n",
       "    .dataframe tbody tr th {\n",
       "        vertical-align: top;\n",
       "    }\n",
       "\n",
       "    .dataframe thead th {\n",
       "        text-align: right;\n",
       "    }\n",
       "</style>\n",
       "<table border=\"1\" class=\"dataframe\">\n",
       "  <thead>\n",
       "    <tr style=\"text-align: right;\">\n",
       "      <th></th>\n",
       "      <th>solution</th>\n",
       "      <th>recall_score</th>\n",
       "    </tr>\n",
       "  </thead>\n",
       "  <tbody>\n",
       "    <tr>\n",
       "      <th>0</th>\n",
       "      <td>recall</td>\n",
       "      <td>0.969512</td>\n",
       "    </tr>\n",
       "    <tr>\n",
       "      <th>1</th>\n",
       "      <td>recall_nom</td>\n",
       "      <td>0.975610</td>\n",
       "    </tr>\n",
       "    <tr>\n",
       "      <th>2</th>\n",
       "      <td>recall_grid</td>\n",
       "      <td>0.975610</td>\n",
       "    </tr>\n",
       "  </tbody>\n",
       "</table>\n",
       "</div>"
      ],
      "text/plain": [
       "      solution  recall_score\n",
       "0       recall      0.969512\n",
       "1   recall_nom      0.975610\n",
       "2  recall_grid      0.975610"
      ]
     },
     "execution_count": 74,
     "metadata": {},
     "output_type": "execute_result"
    }
   ],
   "source": [
    "# ข้อที่ 20\n",
    "recall =  0.9695121951219512\n",
    "recall_nom = 0.975609756097561\n",
    "recall_grid = 0.975609756097561\n",
    "\n",
    "recall_data = {'solution' : ['recall', 'recall_nom', 'recall_grid'], 'recall_score' : [recall, recall_nom, recall_grid]}\n",
    "recall_data = pd.DataFrame.from_dict(recall_data)\n",
    "recall_data"
   ]
  },
  {
   "cell_type": "code",
   "execution_count": 75,
   "metadata": {},
   "outputs": [
    {
     "data": {
      "text/html": [
       "<div>\n",
       "<style scoped>\n",
       "    .dataframe tbody tr th:only-of-type {\n",
       "        vertical-align: middle;\n",
       "    }\n",
       "\n",
       "    .dataframe tbody tr th {\n",
       "        vertical-align: top;\n",
       "    }\n",
       "\n",
       "    .dataframe thead th {\n",
       "        text-align: right;\n",
       "    }\n",
       "</style>\n",
       "<table border=\"1\" class=\"dataframe\">\n",
       "  <thead>\n",
       "    <tr style=\"text-align: right;\">\n",
       "      <th></th>\n",
       "      <th>solution</th>\n",
       "      <th>acc_score</th>\n",
       "    </tr>\n",
       "  </thead>\n",
       "  <tbody>\n",
       "    <tr>\n",
       "      <th>0</th>\n",
       "      <td>acc</td>\n",
       "      <td>0.969512</td>\n",
       "    </tr>\n",
       "    <tr>\n",
       "      <th>1</th>\n",
       "      <td>acc_nom</td>\n",
       "      <td>0.975610</td>\n",
       "    </tr>\n",
       "    <tr>\n",
       "      <th>2</th>\n",
       "      <td>acc_grid</td>\n",
       "      <td>0.975610</td>\n",
       "    </tr>\n",
       "  </tbody>\n",
       "</table>\n",
       "</div>"
      ],
      "text/plain": [
       "   solution  acc_score\n",
       "0       acc   0.969512\n",
       "1   acc_nom   0.975610\n",
       "2  acc_grid   0.975610"
      ]
     },
     "execution_count": 75,
     "metadata": {},
     "output_type": "execute_result"
    }
   ],
   "source": [
    "# ข้อที่ 21\n",
    "acc = 0.9695121951219512\n",
    "acc_nom = 0.975609756097561\n",
    "acc_grid =  0.975609756097561\n",
    "\n",
    "acc_data = {'solution' : ['acc', 'acc_nom', 'acc_grid'], 'acc_score' : [acc, acc_nom, acc_grid]}\n",
    "acc_data = pd.DataFrame.from_dict(acc_data)\n",
    "acc_data"
   ]
  },
  {
   "cell_type": "code",
   "execution_count": 76,
   "metadata": {},
   "outputs": [
    {
     "data": {
      "text/plain": [
       "<matplotlib.axes._subplots.AxesSubplot at 0x2c9dc0c18b0>"
      ]
     },
     "execution_count": 76,
     "metadata": {},
     "output_type": "execute_result"
    },
    {
     "data": {
      "image/png": "[encoded data removed]",
      "text/plain": [
       "<Figure size 720x432 with 1 Axes>"
      ]
     },
     "metadata": {
      "needs_background": "light"
     },
     "output_type": "display_data"
    }
   ],
   "source": [
    "fig = plt.figure(figsize=(10, 6))\n",
    "sns.barplot(acc_data['solution'], acc_data['acc_score'])"
   ]
  },
  {
   "cell_type": "code",
   "execution_count": 91,
   "metadata": {},
   "outputs": [
    {
     "name": "stdout",
     "output_type": "stream",
     "text": [
      "Fitting 5 folds for each of 25 candidates, totalling 125 fits\n",
      "[CV] max_depth=4, min_samples_leaf=1 .................................\n",
      "[CV] ..... max_depth=4, min_samples_leaf=1, score=0.931, total=   0.1s\n",
      "[CV] max_depth=4, min_samples_leaf=1 .................................\n"
     ]
    },
    {
     "name": "stderr",
     "output_type": "stream",
     "text": [
      "[Parallel(n_jobs=1)]: Using backend SequentialBackend with 1 concurrent workers.\n",
      "[Parallel(n_jobs=1)]: Done   1 out of   1 | elapsed:    0.0s remaining:    0.0s\n"
     ]
    },
    {
     "name": "stdout",
     "output_type": "stream",
     "text": [
      "[CV] ..... max_depth=4, min_samples_leaf=1, score=0.931, total=   0.1s\n",
      "[CV] max_depth=4, min_samples_leaf=1 .................................\n",
      "[CV] ..... max_depth=4, min_samples_leaf=1, score=0.931, total=   0.2s\n",
      "[CV] max_depth=4, min_samples_leaf=1 .................................\n"
     ]
    },
    {
     "name": "stderr",
     "output_type": "stream",
     "text": [
      "[Parallel(n_jobs=1)]: Done   2 out of   2 | elapsed:    0.2s remaining:    0.0s\n",
      "[Parallel(n_jobs=1)]: Done   3 out of   3 | elapsed:    0.3s remaining:    0.0s\n"
     ]
    },
    {
     "name": "stdout",
     "output_type": "stream",
     "text": [
      "[CV] ..... max_depth=4, min_samples_leaf=1, score=0.938, total=   0.1s\n",
      "[CV] max_depth=4, min_samples_leaf=1 .................................\n",
      "[CV] ..... max_depth=4, min_samples_leaf=1, score=0.931, total=   0.1s\n",
      "[CV] max_depth=4, min_samples_leaf=2 .................................\n"
     ]
    },
    {
     "name": "stderr",
     "output_type": "stream",
     "text": [
      "[Parallel(n_jobs=1)]: Done   4 out of   4 | elapsed:    0.4s remaining:    0.0s\n"
     ]
    },
    {
     "name": "stdout",
     "output_type": "stream",
     "text": [
      "[CV] ..... max_depth=4, min_samples_leaf=2, score=0.931, total=   0.1s\n",
      "[CV] max_depth=4, min_samples_leaf=2 .................................\n",
      "[CV] ..... max_depth=4, min_samples_leaf=2, score=0.931, total=   0.1s\n",
      "[CV] max_depth=4, min_samples_leaf=2 .................................\n",
      "[CV] ..... max_depth=4, min_samples_leaf=2, score=0.931, total=   0.1s\n",
      "[CV] max_depth=4, min_samples_leaf=2 .................................\n",
      "[CV] ..... max_depth=4, min_samples_leaf=2, score=0.938, total=   0.1s\n",
      "[CV] max_depth=4, min_samples_leaf=2 .................................\n",
      "[CV] ..... max_depth=4, min_samples_leaf=2, score=0.931, total=   0.1s\n",
      "[CV] max_depth=4, min_samples_leaf=4 .................................\n",
      "[CV] ..... max_depth=4, min_samples_leaf=4, score=0.931, total=   0.1s\n",
      "[CV] max_depth=4, min_samples_leaf=4 .................................\n",
      "[CV] ..... max_depth=4, min_samples_leaf=4, score=0.931, total=   0.1s\n",
      "[CV] max_depth=4, min_samples_leaf=4 .................................\n",
      "[CV] ..... max_depth=4, min_samples_leaf=4, score=0.931, total=   0.1s\n",
      "[CV] max_depth=4, min_samples_leaf=4 .................................\n",
      "[CV] ..... max_depth=4, min_samples_leaf=4, score=0.938, total=   0.1s\n",
      "[CV] max_depth=4, min_samples_leaf=4 .................................\n",
      "[CV] ..... max_depth=4, min_samples_leaf=4, score=0.931, total=   0.1s\n",
      "[CV] max_depth=4, min_samples_leaf=8 .................................\n",
      "[CV] ..... max_depth=4, min_samples_leaf=8, score=0.931, total=   0.1s\n",
      "[CV] max_depth=4, min_samples_leaf=8 .................................\n",
      "[CV] ..... max_depth=4, min_samples_leaf=8, score=0.931, total=   0.2s\n",
      "[CV] max_depth=4, min_samples_leaf=8 .................................\n",
      "[CV] ..... max_depth=4, min_samples_leaf=8, score=0.931, total=   0.1s\n",
      "[CV] max_depth=4, min_samples_leaf=8 .................................\n",
      "[CV] ..... max_depth=4, min_samples_leaf=8, score=0.938, total=   0.1s\n",
      "[CV] max_depth=4, min_samples_leaf=8 .................................\n",
      "[CV] ..... max_depth=4, min_samples_leaf=8, score=0.931, total=   0.1s\n",
      "[CV] max_depth=4, min_samples_leaf=16 ................................\n",
      "[CV] .... max_depth=4, min_samples_leaf=16, score=0.931, total=   0.1s\n",
      "[CV] max_depth=4, min_samples_leaf=16 ................................\n",
      "[CV] .... max_depth=4, min_samples_leaf=16, score=0.931, total=   0.1s\n",
      "[CV] max_depth=4, min_samples_leaf=16 ................................\n",
      "[CV] .... max_depth=4, min_samples_leaf=16, score=0.931, total=   0.1s\n",
      "[CV] max_depth=4, min_samples_leaf=16 ................................\n",
      "[CV] .... max_depth=4, min_samples_leaf=16, score=0.938, total=   0.2s\n",
      "[CV] max_depth=4, min_samples_leaf=16 ................................\n",
      "[CV] .... max_depth=4, min_samples_leaf=16, score=0.931, total=   0.1s\n",
      "[CV] max_depth=8, min_samples_leaf=1 .................................\n",
      "[CV] ..... max_depth=8, min_samples_leaf=1, score=0.931, total=   0.1s\n",
      "[CV] max_depth=8, min_samples_leaf=1 .................................\n",
      "[CV] ..... max_depth=8, min_samples_leaf=1, score=0.931, total=   0.1s\n",
      "[CV] max_depth=8, min_samples_leaf=1 .................................\n",
      "[CV] ..... max_depth=8, min_samples_leaf=1, score=0.931, total=   0.1s\n",
      "[CV] max_depth=8, min_samples_leaf=1 .................................\n",
      "[CV] ..... max_depth=8, min_samples_leaf=1, score=0.938, total=   0.1s\n",
      "[CV] max_depth=8, min_samples_leaf=1 .................................\n",
      "[CV] ..... max_depth=8, min_samples_leaf=1, score=0.931, total=   0.1s\n",
      "[CV] max_depth=8, min_samples_leaf=2 .................................\n",
      "[CV] ..... max_depth=8, min_samples_leaf=2, score=0.931, total=   0.1s\n",
      "[CV] max_depth=8, min_samples_leaf=2 .................................\n",
      "[CV] ..... max_depth=8, min_samples_leaf=2, score=0.931, total=   0.2s\n",
      "[CV] max_depth=8, min_samples_leaf=2 .................................\n",
      "[CV] ..... max_depth=8, min_samples_leaf=2, score=0.931, total=   0.1s\n",
      "[CV] max_depth=8, min_samples_leaf=2 .................................\n",
      "[CV] ..... max_depth=8, min_samples_leaf=2, score=0.938, total=   0.1s\n",
      "[CV] max_depth=8, min_samples_leaf=2 .................................\n",
      "[CV] ..... max_depth=8, min_samples_leaf=2, score=0.931, total=   0.1s\n",
      "[CV] max_depth=8, min_samples_leaf=4 .................................\n",
      "[CV] ..... max_depth=8, min_samples_leaf=4, score=0.931, total=   0.1s\n",
      "[CV] max_depth=8, min_samples_leaf=4 .................................\n",
      "[CV] ..... max_depth=8, min_samples_leaf=4, score=0.931, total=   0.1s\n",
      "[CV] max_depth=8, min_samples_leaf=4 .................................\n",
      "[CV] ..... max_depth=8, min_samples_leaf=4, score=0.931, total=   0.1s\n",
      "[CV] max_depth=8, min_samples_leaf=4 .................................\n",
      "[CV] ..... max_depth=8, min_samples_leaf=4, score=0.938, total=   0.1s\n",
      "[CV] max_depth=8, min_samples_leaf=4 .................................\n",
      "[CV] ..... max_depth=8, min_samples_leaf=4, score=0.931, total=   0.1s\n",
      "[CV] max_depth=8, min_samples_leaf=8 .................................\n",
      "[CV] ..... max_depth=8, min_samples_leaf=8, score=0.931, total=   0.1s\n",
      "[CV] max_depth=8, min_samples_leaf=8 .................................\n",
      "[CV] ..... max_depth=8, min_samples_leaf=8, score=0.931, total=   0.1s\n",
      "[CV] max_depth=8, min_samples_leaf=8 .................................\n",
      "[CV] ..... max_depth=8, min_samples_leaf=8, score=0.931, total=   0.1s\n",
      "[CV] max_depth=8, min_samples_leaf=8 .................................\n",
      "[CV] ..... max_depth=8, min_samples_leaf=8, score=0.938, total=   0.1s\n",
      "[CV] max_depth=8, min_samples_leaf=8 .................................\n",
      "[CV] ..... max_depth=8, min_samples_leaf=8, score=0.931, total=   0.1s\n",
      "[CV] max_depth=8, min_samples_leaf=16 ................................\n",
      "[CV] .... max_depth=8, min_samples_leaf=16, score=0.931, total=   0.1s\n",
      "[CV] max_depth=8, min_samples_leaf=16 ................................\n",
      "[CV] .... max_depth=8, min_samples_leaf=16, score=0.931, total=   0.1s\n",
      "[CV] max_depth=8, min_samples_leaf=16 ................................\n",
      "[CV] .... max_depth=8, min_samples_leaf=16, score=0.931, total=   0.1s\n",
      "[CV] max_depth=8, min_samples_leaf=16 ................................\n",
      "[CV] .... max_depth=8, min_samples_leaf=16, score=0.938, total=   0.1s\n",
      "[CV] max_depth=8, min_samples_leaf=16 ................................\n",
      "[CV] .... max_depth=8, min_samples_leaf=16, score=0.931, total=   0.1s\n",
      "[CV] max_depth=16, min_samples_leaf=1 ................................\n",
      "[CV] .... max_depth=16, min_samples_leaf=1, score=0.908, total=   0.1s\n",
      "[CV] max_depth=16, min_samples_leaf=1 ................................\n",
      "[CV] .... max_depth=16, min_samples_leaf=1, score=0.939, total=   0.1s\n",
      "[CV] max_depth=16, min_samples_leaf=1 ................................\n",
      "[CV] .... max_depth=16, min_samples_leaf=1, score=0.931, total=   0.1s\n",
      "[CV] max_depth=16, min_samples_leaf=1 ................................\n",
      "[CV] .... max_depth=16, min_samples_leaf=1, score=0.938, total=   0.1s\n",
      "[CV] max_depth=16, min_samples_leaf=1 ................................\n",
      "[CV] .... max_depth=16, min_samples_leaf=1, score=0.931, total=   0.1s\n",
      "[CV] max_depth=16, min_samples_leaf=2 ................................\n",
      "[CV] .... max_depth=16, min_samples_leaf=2, score=0.931, total=   0.1s\n",
      "[CV] max_depth=16, min_samples_leaf=2 ................................\n",
      "[CV] .... max_depth=16, min_samples_leaf=2, score=0.931, total=   0.1s\n",
      "[CV] max_depth=16, min_samples_leaf=2 ................................\n",
      "[CV] .... max_depth=16, min_samples_leaf=2, score=0.931, total=   0.1s\n",
      "[CV] max_depth=16, min_samples_leaf=2 ................................\n",
      "[CV] .... max_depth=16, min_samples_leaf=2, score=0.938, total=   0.1s\n",
      "[CV] max_depth=16, min_samples_leaf=2 ................................\n",
      "[CV] .... max_depth=16, min_samples_leaf=2, score=0.931, total=   0.1s\n",
      "[CV] max_depth=16, min_samples_leaf=4 ................................\n",
      "[CV] .... max_depth=16, min_samples_leaf=4, score=0.931, total=   0.1s\n",
      "[CV] max_depth=16, min_samples_leaf=4 ................................\n",
      "[CV] .... max_depth=16, min_samples_leaf=4, score=0.931, total=   0.1s\n",
      "[CV] max_depth=16, min_samples_leaf=4 ................................\n",
      "[CV] .... max_depth=16, min_samples_leaf=4, score=0.931, total=   0.1s\n",
      "[CV] max_depth=16, min_samples_leaf=4 ................................\n"
     ]
    },
    {
     "name": "stdout",
     "output_type": "stream",
     "text": [
      "[CV] .... max_depth=16, min_samples_leaf=4, score=0.938, total=   0.1s\n",
      "[CV] max_depth=16, min_samples_leaf=4 ................................\n",
      "[CV] .... max_depth=16, min_samples_leaf=4, score=0.931, total=   0.1s\n",
      "[CV] max_depth=16, min_samples_leaf=8 ................................\n",
      "[CV] .... max_depth=16, min_samples_leaf=8, score=0.931, total=   0.1s\n",
      "[CV] max_depth=16, min_samples_leaf=8 ................................\n",
      "[CV] .... max_depth=16, min_samples_leaf=8, score=0.931, total=   0.1s\n",
      "[CV] max_depth=16, min_samples_leaf=8 ................................\n",
      "[CV] .... max_depth=16, min_samples_leaf=8, score=0.931, total=   0.1s\n",
      "[CV] max_depth=16, min_samples_leaf=8 ................................\n",
      "[CV] .... max_depth=16, min_samples_leaf=8, score=0.938, total=   0.1s\n",
      "[CV] max_depth=16, min_samples_leaf=8 ................................\n",
      "[CV] .... max_depth=16, min_samples_leaf=8, score=0.931, total=   0.1s\n",
      "[CV] max_depth=16, min_samples_leaf=16 ...............................\n",
      "[CV] ... max_depth=16, min_samples_leaf=16, score=0.931, total=   0.1s\n",
      "[CV] max_depth=16, min_samples_leaf=16 ...............................\n",
      "[CV] ... max_depth=16, min_samples_leaf=16, score=0.931, total=   0.1s\n",
      "[CV] max_depth=16, min_samples_leaf=16 ...............................\n",
      "[CV] ... max_depth=16, min_samples_leaf=16, score=0.931, total=   0.1s\n",
      "[CV] max_depth=16, min_samples_leaf=16 ...............................\n",
      "[CV] ... max_depth=16, min_samples_leaf=16, score=0.938, total=   0.1s\n",
      "[CV] max_depth=16, min_samples_leaf=16 ...............................\n",
      "[CV] ... max_depth=16, min_samples_leaf=16, score=0.931, total=   0.1s\n",
      "[CV] max_depth=32, min_samples_leaf=1 ................................\n",
      "[CV] .... max_depth=32, min_samples_leaf=1, score=0.916, total=   0.1s\n",
      "[CV] max_depth=32, min_samples_leaf=1 ................................\n",
      "[CV] .... max_depth=32, min_samples_leaf=1, score=0.931, total=   0.1s\n",
      "[CV] max_depth=32, min_samples_leaf=1 ................................\n",
      "[CV] .... max_depth=32, min_samples_leaf=1, score=0.931, total=   0.1s\n",
      "[CV] max_depth=32, min_samples_leaf=1 ................................\n",
      "[CV] .... max_depth=32, min_samples_leaf=1, score=0.938, total=   0.1s\n",
      "[CV] max_depth=32, min_samples_leaf=1 ................................\n",
      "[CV] .... max_depth=32, min_samples_leaf=1, score=0.931, total=   0.1s\n",
      "[CV] max_depth=32, min_samples_leaf=2 ................................\n",
      "[CV] .... max_depth=32, min_samples_leaf=2, score=0.931, total=   0.1s\n",
      "[CV] max_depth=32, min_samples_leaf=2 ................................\n",
      "[CV] .... max_depth=32, min_samples_leaf=2, score=0.931, total=   0.1s\n",
      "[CV] max_depth=32, min_samples_leaf=2 ................................\n",
      "[CV] .... max_depth=32, min_samples_leaf=2, score=0.931, total=   0.1s\n",
      "[CV] max_depth=32, min_samples_leaf=2 ................................\n",
      "[CV] .... max_depth=32, min_samples_leaf=2, score=0.938, total=   0.1s\n",
      "[CV] max_depth=32, min_samples_leaf=2 ................................\n",
      "[CV] .... max_depth=32, min_samples_leaf=2, score=0.931, total=   0.1s\n",
      "[CV] max_depth=32, min_samples_leaf=4 ................................\n",
      "[CV] .... max_depth=32, min_samples_leaf=4, score=0.931, total=   0.1s\n",
      "[CV] max_depth=32, min_samples_leaf=4 ................................\n",
      "[CV] .... max_depth=32, min_samples_leaf=4, score=0.931, total=   0.1s\n",
      "[CV] max_depth=32, min_samples_leaf=4 ................................\n",
      "[CV] .... max_depth=32, min_samples_leaf=4, score=0.931, total=   0.1s\n",
      "[CV] max_depth=32, min_samples_leaf=4 ................................\n",
      "[CV] .... max_depth=32, min_samples_leaf=4, score=0.938, total=   0.1s\n",
      "[CV] max_depth=32, min_samples_leaf=4 ................................\n",
      "[CV] .... max_depth=32, min_samples_leaf=4, score=0.931, total=   0.1s\n",
      "[CV] max_depth=32, min_samples_leaf=8 ................................\n",
      "[CV] .... max_depth=32, min_samples_leaf=8, score=0.931, total=   0.1s\n",
      "[CV] max_depth=32, min_samples_leaf=8 ................................\n",
      "[CV] .... max_depth=32, min_samples_leaf=8, score=0.931, total=   0.1s\n",
      "[CV] max_depth=32, min_samples_leaf=8 ................................\n",
      "[CV] .... max_depth=32, min_samples_leaf=8, score=0.931, total=   0.1s\n",
      "[CV] max_depth=32, min_samples_leaf=8 ................................\n",
      "[CV] .... max_depth=32, min_samples_leaf=8, score=0.938, total=   0.2s\n",
      "[CV] max_depth=32, min_samples_leaf=8 ................................\n",
      "[CV] .... max_depth=32, min_samples_leaf=8, score=0.931, total=   0.1s\n",
      "[CV] max_depth=32, min_samples_leaf=16 ...............................\n",
      "[CV] ... max_depth=32, min_samples_leaf=16, score=0.931, total=   0.1s\n",
      "[CV] max_depth=32, min_samples_leaf=16 ...............................\n",
      "[CV] ... max_depth=32, min_samples_leaf=16, score=0.931, total=   0.1s\n",
      "[CV] max_depth=32, min_samples_leaf=16 ...............................\n",
      "[CV] ... max_depth=32, min_samples_leaf=16, score=0.931, total=   0.1s\n",
      "[CV] max_depth=32, min_samples_leaf=16 ...............................\n",
      "[CV] ... max_depth=32, min_samples_leaf=16, score=0.938, total=   0.1s\n",
      "[CV] max_depth=32, min_samples_leaf=16 ...............................\n",
      "[CV] ... max_depth=32, min_samples_leaf=16, score=0.931, total=   0.1s\n",
      "[CV] max_depth=64, min_samples_leaf=1 ................................\n",
      "[CV] .... max_depth=64, min_samples_leaf=1, score=0.908, total=   0.1s\n",
      "[CV] max_depth=64, min_samples_leaf=1 ................................\n",
      "[CV] .... max_depth=64, min_samples_leaf=1, score=0.931, total=   0.2s\n",
      "[CV] max_depth=64, min_samples_leaf=1 ................................\n",
      "[CV] .... max_depth=64, min_samples_leaf=1, score=0.931, total=   0.1s\n",
      "[CV] max_depth=64, min_samples_leaf=1 ................................\n",
      "[CV] .... max_depth=64, min_samples_leaf=1, score=0.938, total=   0.1s\n",
      "[CV] max_depth=64, min_samples_leaf=1 ................................\n",
      "[CV] .... max_depth=64, min_samples_leaf=1, score=0.931, total=   0.1s\n",
      "[CV] max_depth=64, min_samples_leaf=2 ................................\n",
      "[CV] .... max_depth=64, min_samples_leaf=2, score=0.931, total=   0.1s\n",
      "[CV] max_depth=64, min_samples_leaf=2 ................................\n",
      "[CV] .... max_depth=64, min_samples_leaf=2, score=0.931, total=   0.1s\n",
      "[CV] max_depth=64, min_samples_leaf=2 ................................\n",
      "[CV] .... max_depth=64, min_samples_leaf=2, score=0.931, total=   0.1s\n",
      "[CV] max_depth=64, min_samples_leaf=2 ................................\n",
      "[CV] .... max_depth=64, min_samples_leaf=2, score=0.938, total=   0.1s\n",
      "[CV] max_depth=64, min_samples_leaf=2 ................................\n",
      "[CV] .... max_depth=64, min_samples_leaf=2, score=0.931, total=   0.1s\n",
      "[CV] max_depth=64, min_samples_leaf=4 ................................\n",
      "[CV] .... max_depth=64, min_samples_leaf=4, score=0.931, total=   0.1s\n",
      "[CV] max_depth=64, min_samples_leaf=4 ................................\n",
      "[CV] .... max_depth=64, min_samples_leaf=4, score=0.931, total=   0.1s\n",
      "[CV] max_depth=64, min_samples_leaf=4 ................................\n",
      "[CV] .... max_depth=64, min_samples_leaf=4, score=0.931, total=   0.1s\n",
      "[CV] max_depth=64, min_samples_leaf=4 ................................\n",
      "[CV] .... max_depth=64, min_samples_leaf=4, score=0.938, total=   0.1s\n",
      "[CV] max_depth=64, min_samples_leaf=4 ................................\n",
      "[CV] .... max_depth=64, min_samples_leaf=4, score=0.931, total=   0.1s\n",
      "[CV] max_depth=64, min_samples_leaf=8 ................................\n",
      "[CV] .... max_depth=64, min_samples_leaf=8, score=0.931, total=   0.1s\n",
      "[CV] max_depth=64, min_samples_leaf=8 ................................\n",
      "[CV] .... max_depth=64, min_samples_leaf=8, score=0.931, total=   0.1s\n",
      "[CV] max_depth=64, min_samples_leaf=8 ................................\n",
      "[CV] .... max_depth=64, min_samples_leaf=8, score=0.931, total=   0.1s\n",
      "[CV] max_depth=64, min_samples_leaf=8 ................................\n",
      "[CV] .... max_depth=64, min_samples_leaf=8, score=0.938, total=   0.1s\n",
      "[CV] max_depth=64, min_samples_leaf=8 ................................\n",
      "[CV] .... max_depth=64, min_samples_leaf=8, score=0.931, total=   0.1s\n",
      "[CV] max_depth=64, min_samples_leaf=16 ...............................\n",
      "[CV] ... max_depth=64, min_samples_leaf=16, score=0.931, total=   0.2s\n",
      "[CV] max_depth=64, min_samples_leaf=16 ...............................\n"
     ]
    },
    {
     "name": "stdout",
     "output_type": "stream",
     "text": [
      "[CV] ... max_depth=64, min_samples_leaf=16, score=0.931, total=   0.1s\n",
      "[CV] max_depth=64, min_samples_leaf=16 ...............................\n",
      "[CV] ... max_depth=64, min_samples_leaf=16, score=0.931, total=   0.1s\n",
      "[CV] max_depth=64, min_samples_leaf=16 ...............................\n",
      "[CV] ... max_depth=64, min_samples_leaf=16, score=0.938, total=   0.1s\n",
      "[CV] max_depth=64, min_samples_leaf=16 ...............................\n",
      "[CV] ... max_depth=64, min_samples_leaf=16, score=0.931, total=   0.1s\n"
     ]
    },
    {
     "name": "stderr",
     "output_type": "stream",
     "text": [
      "[Parallel(n_jobs=1)]: Done 125 out of 125 | elapsed:   16.4s finished\n"
     ]
    }
   ],
   "source": [
    "#ข้อที่ 85 \n",
    "#Normalization + Hyperparameter Tuning \n",
    "\n",
    "from sklearn.preprocessing import MinMaxScaler\n",
    "\n",
    "min_max_scaler = MinMaxScaler()\n",
    "\n",
    "x = df2.drop(['Saving accounts_moderate','Saving accounts_quite rich', 'Saving accounts_rich'], axis=1)\n",
    "y = df2['Saving accounts_rich']\n",
    "\n",
    "df_minmax = min_max_scaler.fit_transform(df2.drop(['Saving accounts_moderate','Saving accounts_quite rich', 'Saving accounts_rich'], axis=1))\n",
    "new_df = pd.DataFrame(df_minmax, columns=df2.columns[2:-1])\n",
    "x_train, x_test, y_train, y_test = train_test_split(new_df, df2['Saving accounts_rich'], test_size=0.2, random_state=25)\n",
    "\n",
    "grid_search = GridSearchCV(RandomForestClassifier(), param_combination, verbose=5)\n",
    "grid_search.fit(x_train, y_train)\n",
    "grid_search.best_params_\n",
    "grid_search.best_estimator_\n",
    "grid_nor_predicted = grid_search.predict(x_test)"
   ]
  },
  {
   "cell_type": "code",
   "execution_count": 92,
   "metadata": {},
   "outputs": [
    {
     "data": {
      "text/plain": [
       "array([[160,   0],\n",
       "       [  4,   0]], dtype=int64)"
      ]
     },
     "execution_count": 92,
     "metadata": {},
     "output_type": "execute_result"
    }
   ],
   "source": [
    "confusion_matrix(y_test, grid_nor_predicted)"
   ]
  },
  {
   "cell_type": "code",
   "execution_count": 93,
   "metadata": {},
   "outputs": [
    {
     "name": "stdout",
     "output_type": "stream",
     "text": [
      "Accuracy =  0.975609756097561\n",
      "F1 score =  0.975609756097561\n",
      "Precision =  0.975609756097561\n",
      "Recall =  0.975609756097561\n"
     ]
    }
   ],
   "source": [
    "print('Accuracy = ', accuracy_score(y_test, grid_nor_predicted))\n",
    "print('F1 score = ', f1_score(y_test, grid_nor_predicted, average='micro'))\n",
    "print('Precision = ', precision_score(y_test, grid_nor_predicted, average='micro'))\n",
    "print('Recall = ', recall_score(y_test, grid_nor_predicted, average='micro'))"
   ]
  },
  {
   "cell_type": "code",
   "execution_count": 96,
   "metadata": {},
   "outputs": [
    {
     "data": {
      "text/plain": [
       "Text(0.5, 1.0, 'Decision Tree of four models')"
      ]
     },
     "execution_count": 96,
     "metadata": {},
     "output_type": "execute_result"
    },
    {
     "data": {
      "image/png": "[encoded data removed]",
      "text/plain": [
       "<Figure size 864x576 with 1 Axes>"
      ]
     },
     "metadata": {
      "needs_background": "light"
     },
     "output_type": "display_data"
    }
   ],
   "source": [
    "# ข้อที่ 23\n",
    "X = ['Accuracy', 'F1 score', 'Precision', 'Recall']\n",
    "y = [ 0.9634146341463414,  0.9634146341463414,  0.9634146341463414,  0.9634146341463414]\n",
    "\n",
    "import matplotlib.pyplot as plt\n",
    "\n",
    "fig = plt.figure(figsize=(12, 8))\n",
    "sns.barplot(x=X, y=y)\n",
    "plt.title('Decision Tree of four models')"
   ]
  },
  {
   "cell_type": "code",
   "execution_count": 97,
   "metadata": {},
   "outputs": [
    {
     "data": {
      "text/plain": [
       "Text(0.5, 1.0, 'Decision Tree of four models')"
      ]
     },
     "execution_count": 97,
     "metadata": {},
     "output_type": "execute_result"
    },
    {
     "data": {
      "image/png": "[encoded data removed]",
      "text/plain": [
       "<Figure size 864x576 with 1 Axes>"
      ]
     },
     "metadata": {
      "needs_background": "light"
     },
     "output_type": "display_data"
    }
   ],
   "source": [
    "X = ['Accuracy', 'F1 score', 'Precision', 'Recall']\n",
    "y = [0.975609756097561, 0.975609756097561, 0.975609756097561, 0.975609756097561]\n",
    "\n",
    "import matplotlib.pyplot as plt\n",
    "\n",
    "fig = plt.figure(figsize=(12, 8))\n",
    "sns.barplot(x=X, y=y)\n",
    "plt.title('Decision Tree of four models')"
   ]
  },
  {
   "cell_type": "code",
   "execution_count": null,
   "metadata": {},
   "outputs": [],
   "source": []
  }
 ],
 "metadata": {
  "kernelspec": {
   "display_name": "Python 3",
   "language": "python",
   "name": "python3"
  },
  "language_info": {
   "codemirror_mode": {
    "name": "ipython",
    "version": 3
   },
   "file_extension": ".py",
   "mimetype": "text/x-python",
   "name": "python",
   "nbconvert_exporter": "python",
   "pygments_lexer": "ipython3",
   "version": "3.8.3"
  }
 },
 "nbformat": 4,
 "nbformat_minor": 4
}
